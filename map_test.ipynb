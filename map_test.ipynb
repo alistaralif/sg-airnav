{
 "cells": [
  {
   "cell_type": "markdown",
   "metadata": {},
   "source": [
    "### Dependencies"
   ]
  },
  {
   "cell_type": "code",
   "execution_count": 22,
   "metadata": {},
   "outputs": [],
   "source": [
    "# Import Dependencies\n",
    "import plotly.graph_objects as go"
   ]
  },
  {
   "cell_type": "code",
   "execution_count": 1,
   "metadata": {},
   "outputs": [],
   "source": [
    "def parse_coordinates(coordinates):\n",
    "    # Convert DMS coordinates to decimal degrees\n",
    "    latitudes, longitudes = [], []\n",
    "    for lat_str, lon_str in coordinates:\n",
    "        lat_deg = round(float(lat_str[:2]) + float(lat_str[2:4]) / 60, 5)\n",
    "        lon_deg = round(float(lon_str[:3]) + float(lon_str[3:5]) / 60, 5)\n",
    "        if lat_str.endswith('S'):\n",
    "            lat_deg *= -1\n",
    "        if lon_str.endswith('W'):\n",
    "            lon_deg *= -1\n",
    "        latitudes.append(lat_deg)\n",
    "        longitudes.append(lon_deg)\n",
    "    return latitudes, longitudes"
   ]
  },
  {
   "cell_type": "code",
   "execution_count": 2,
   "metadata": {},
   "outputs": [],
   "source": [
    "def round_latlon(latitude, longitude):\n",
    "    # round the latitude, longitude coordinate to 5 decimal places\n",
    "    # Copy pasting from gmaps gives 10+ decimal places\n",
    "    return round(latitude, 5), round(longitude, 5)"
   ]
  },
  {
   "cell_type": "code",
   "execution_count": 3,
   "metadata": {},
   "outputs": [],
   "source": [
    "def create_latlon_list(rwy_polygon_points):\n",
    "    \"\"\"Returns a list of latitude and list of longitude from an input of a list of the points bounding a runway/polygon. \"\"\"\n",
    "    \n",
    "    lat_list = [pt[0] for pt in rwy_polygon_points] + [rwy_polygon_points[0][0]]\n",
    "    lon_list = [pt[1] for pt in rwy_polygon_points] + [rwy_polygon_points[0][1]]\n",
    "    return lat_list, lon_list"
   ]
  },
  {
   "cell_type": "code",
   "execution_count": 4,
   "metadata": {},
   "outputs": [],
   "source": [
    "def add_airport(fig, name, code, lat, lon, color, size, legendgroup, showlegend=True):\n",
    "    \"\"\"\n",
    "    Adds an airport marker with a text label and hover popup.\n",
    "    \n",
    "    Parameters:\n",
    "    - fig: the plotly figure object\n",
    "    - name: full airport name (e.g., \"Seletar Airport\")\n",
    "    - code: ICAO code (e.g., \"WSSL\")\n",
    "    - lat, lon: coordinates\n",
    "    - color: marker color\n",
    "    - size: marker size\n",
    "    - legendgroup: group name for legend grouping\n",
    "    - showlegend: whether to display this item in the legend\n",
    "    \"\"\"\n",
    "    fig.add_trace(go.Scattermap(\n",
    "        lat=[lat],\n",
    "        lon=[lon],\n",
    "        mode='markers+text',\n",
    "        marker=dict(size=size, color=color, symbol='circle'),\n",
    "        textposition='top right',\n",
    "        name=f'{name} ({code})',\n",
    "        hovertext=code,\n",
    "        legendgroup=legendgroup,\n",
    "        legendgrouptitle_text=name,\n",
    "        showlegend=showlegend,\n",
    "        hovertemplate='📍 %{fullData.name}<extra></extra>'\n",
    "    ))\n",
    "\n",
    "\n",
    "def add_runway(fig, name, lat_list, lon_list, fillcolor, linecolor, linewidth, legendgroup, legendgrouptitle_text = None, showlegend=True, ):\n",
    "    \"\"\"\n",
    "    Adds a filled polygon to represent a runway.\n",
    "    \n",
    "    Parameters:\n",
    "    - fig: the plotly figure object\n",
    "    - name: runway label (e.g., \"RWY 03/21\")\n",
    "    - lat_list, lon_list: lists of coordinates outlining the runway\n",
    "    - fillcolor: polygon fill\n",
    "    - linecolor: boundary line color\n",
    "    - linewidth: boundary line width\n",
    "    - legendgroup: group name for legend grouping\n",
    "    - showlegend: whether to display this item in the legend\n",
    "    \"\"\"\n",
    "    fig.add_trace(go.Scattermap(\n",
    "        lat=lat_list,\n",
    "        lon=lon_list,\n",
    "        mode='lines',\n",
    "        fill='toself',\n",
    "        fillcolor=fillcolor,\n",
    "        line=dict(color=linecolor, width=linewidth),\n",
    "        name=name,\n",
    "        legendgroup=legendgroup,\n",
    "        legendgrouptitle_text=legendgrouptitle_text,\n",
    "        showlegend=showlegend\n",
    "    ))"
   ]
  },
  {
   "cell_type": "code",
   "execution_count": null,
   "metadata": {},
   "outputs": [],
   "source": [
    "from matplotlib.colors import to_rgba\n",
    "\n",
    "def css_to_rgba(color: str, opacity: float) -> str:\n",
    "    \"\"\"\n",
    "    Converts a CSS color name (e.g. 'skyblue') or hex string to an rgba() string with the given opacity.\n",
    "\n",
    "    Parameters:\n",
    "    - color: CSS color name or hex (e.g. 'orange', '#ffcc00')\n",
    "    - opacity: Float between 0.0 and 1.0\n",
    "\n",
    "    Returns:\n",
    "    - 'rgba(R, G, B, A)' formatted string\n",
    "    \"\"\"\n",
    "    r, g, b, _ = to_rgba(color)\n",
    "    r, g, b = int(r * 255), int(g * 255), int(b * 255)\n",
    "    return f'rgba({r}, {g}, {b}, {opacity})'\n",
    "\n",
    "\n",
    "def add_sector(fig, name, coordinates, fillcolor, linecolor, opacity=0.3, linewidth=1, \n",
    "               legendgroup=None, legendgrouptitle_text=None, legendrank=None, showlegend=True):\n",
    "    \"\"\"\n",
    "    Adds an airspace sector polygon to a Plotly map.\n",
    "\n",
    "    Parameters:\n",
    "    - fig: Plotly figure object\n",
    "    - name: Legend label\n",
    "    - coordinates: List of (lat_dms, lon_dms) tuples (e.g., '013112N', '1035936E')\n",
    "    - fillcolor: CSS color name or rgba() string\n",
    "    - linecolor: Polygon outline color\n",
    "    - opacity: Polygon fill transparency (0.0 - 1.0)\n",
    "    - linewidth: Outline thickness\n",
    "    - showlegend: Whether to show in legend\n",
    "    - legendgroup: Optional legend group\n",
    "    - legendrank: Controls order in legend (lower = higher up)\n",
    "    - legendgrouptitle_text: Optional group title for legend section\n",
    "    \"\"\"\n",
    "\n",
    "    # Convert DMS to decimal degrees\n",
    "    lat_list, lon_list = parse_coordinates(coordinates)\n",
    "\n",
    "    # Round coordinates\n",
    "    lat_list = [round_latlon(lat, lon)[0] for lat, lon in zip(lat_list, lon_list)]\n",
    "    lon_list = [round_latlon(lat, lon)[1] for lat, lon in zip(lat_list, lon_list)]\n",
    "\n",
    "    # Convert CSS color to rgba if needed\n",
    "    if ',' not in fillcolor and not fillcolor.startswith('rgba'):\n",
    "        fillcolor = css_to_rgba(fillcolor, opacity)\n",
    "\n",
    "    # Add the sector polygon trace\n",
    "    fig.add_trace(go.Scattermap(\n",
    "        lat=lat_list,\n",
    "        lon=lon_list,\n",
    "        mode='lines',\n",
    "        fill='toself',\n",
    "        fillcolor=fillcolor,\n",
    "        line=dict(color=linecolor, width=linewidth),\n",
    "        name=name,\n",
    "        legendgroup=legendgroup,\n",
    "        legendgrouptitle_text=legendgrouptitle_text,\n",
    "        legendrank=legendrank,\n",
    "        hoverinfo='skip',\n",
    "        showlegend=showlegend,\n",
    "    ))"
   ]
  },
  {
   "cell_type": "code",
   "execution_count": 2,
   "metadata": {},
   "outputs": [],
   "source": [
    "WSSS_coordinates = [('012133N', '1035922E')]\n",
    "\n",
    "SG_FIR_coordinates = [\n",
    "    ('082500N', '1163000E'), \n",
    "    ('025050N', '1091629E'), \n",
    "    ('045700N', '1081619E'), \n",
    "    ('050012N', '1080132E'), \n",
    "    ('045904N', '1075525E'), \n",
    "    ('045203N', '1074625E'), \n",
    "    ('043820N', '1073315E'), \n",
    "    ('041312N', '1071743E'), \n",
    "    ('033045N', '1055130E'), \n",
    "    ('031727N', '1052959E'), \n",
    "    ('031453N', '1052619E'), \n",
    "    ('025010N', '1051210E'), \n",
    "    ('024348N', '1050854E'), \n",
    "    ('023641N', '1051311E'), \n",
    "    ('021838N', '1052205E'), \n",
    "    ('011947N', '1044606E'), \n",
    "    ('012921N', '1043441E'), \n",
    "    ('011800N', '1043000E'), \n",
    "    ('011500N', '1040000E'), \n",
    "    ('010800N', '1034500E'), \n",
    "    ('011046N', '1034015E'), \n",
    "    ('011200N', '1033900E'), \n",
    "    ('011408N', '1033142E'), \n",
    "    ('011700N', '1033600E'), \n",
    "    ('012608N', '1034055E'), # National boundary of Singapore/Malaysia\n",
    "    ('012730N', '1034326E'), # National boundary of Singapore/Malaysia\n",
    "    ('012640N', '1034540E'), # National boundary of Singapore/Malaysia\n",
    "    ('012832N', '1034809E'), # National boundary of Singapore/Malaysia\n",
    "    ('012557N', '1035320E'), # National boundary of Singapore/Malaysia\n",
    "    ('012513N', '1040006E'), # National boundary of Singapore/Malaysia\n",
    "    ('012638N', '1040222E'), # National boundary of Singapore/Malaysia\n",
    "    ('012421N', '1040528E'), # National boundary of Singapore/Malaysia\n",
    "    ('012127N', '1040440E'), # National boundary of Singapore/Malaysia\n",
    "    ('011937N', '1040551E'), # National boundary of Singapore/Malaysia\n",
    "    ('012000N', '1042000E'), \n",
    "    ('023600N', '1044500E'), \n",
    "    ('034000N', '1034000E'), \n",
    "    ('045000N', '1034400E'), \n",
    "    ('064500N', '1024000E'), \n",
    "    ('070000N', '1030000E'), \n",
    "    ('070000N', '1080000E'), \n",
    "    ('103000N', '1140000E'), \n",
    "    ('082500N', '1163000E')\n",
    "]\n",
    "\n",
    "KL_FIR_vested1_coordinates = [\n",
    "    ('023600N', '1044500E'),\n",
    "    ('023200N', '1050000E'),\n",
    "    ('060000N', '1050000E'), \n",
    "    ('060000N', '1030500E'), \n",
    "    ('045000N', '1034400E'), \n",
    "    ('034000N', '1034000E'), \n",
    "    ('023600N', '1044500E')\n",
    "]\n",
    "\n",
    "KL_FIR_vested2_coordinates = [\n",
    "    ('023200N', '1050000E'),\n",
    "    ('060000N', '1050000E'), \n",
    "    ('060000N', '1132000E'), \n",
    "    ('025050N', '1091629E'), \n",
    "    ('045700N', '1081619E'), \n",
    "    ('050012N', '1080132E'), \n",
    "    ('045904N', '1075525E'), \n",
    "    ('045203N', '1074625E'), \n",
    "    ('043820N', '1073315E'), \n",
    "    ('041312N', '1071743E'), \n",
    "    ('033045N', '1055130E'), \n",
    "    ('031727N', '1052959E'), \n",
    "    ('031453N', '1052619E'), \n",
    "    ('025010N', '1051210E'), \n",
    "    ('024348N', '1050854E'), \n",
    "    ('023641N', '1051311E'),\n",
    "    ('022715N', '1051750E'),\n",
    "    ('023200N', '1050000E'),\n",
    "]\n",
    "\n",
    "JAKARTA_FIR_delegated_coordinates = [\n",
    "    ('031727N', '1052959E'),\n",
    "    ('012450N', '1061648E'),\n",
    "    ('001030N', '1045656E'),\n",
    "    ('000000N', '1050340E'),\n",
    "    ('000000N', '1044330E'),\n",
    "    ('001113S', '1042205E'), # Arc of airspace\n",
    "    ('001620S', '1035827E'), # Arc of airspace\n",
    "    ('001458S', '1033419E'), # Arc of airspace\n",
    "    ('000714S', '1031124E'), # Arc of airspace\n",
    "    ('000618N', '1025123E'), # Arc of airspace\n",
    "    ('002442N', '1023541E'), # Arc of airspace\n",
    "    ('004636N', '1022528E'), # Arc of airspace\n",
    "    ('011026N', '1022126E'), # Arc of airspace\n",
    "    ('013430N', '1022353E'),\n",
    "    ('011300N', '1033000E'),\n",
    "    ('011408N', '1033142E'),\n",
    "    ('011200N', '1033900E'),\n",
    "    ('011046N', '1034015E'),\n",
    "    ('010800N', '1034500E'),\n",
    "    ('011500N', '1040000E'),\n",
    "    ('011800N', '1043000E'),\n",
    "    ('012921N', '1043441E'),\n",
    "    ('011947N', '1044606E'),\n",
    "    ('021838N', '1052205E'),\n",
    "    ('023641N', '1051311E'),\n",
    "    ('024348N', '1050854E'),\n",
    "    ('025010N', '1051210E'),\n",
    "    ('031727N', '1052959E')\n",
    "]\n",
    "\n",
    "SG_JHR_airspace_complex_coordinates = [\n",
    "    ('022600N', '1025605E'),\n",
    "    ('022600N', '1043400E'),\n",
    "    ('004300N', '1043400E'),\n",
    "    ('004300N', '1025605E'),\n",
    "    ('022600N', '1025605E')\n",
    "]\n",
    "\n",
    "waypoints_all = {\n",
    "    'ABVIP': ('010008N', '1035032E'),\n",
    "    'ABVON': ('012028N', '1035827E'),\n",
    "    'ADNIK': ('011651N', '1035655E'),\n",
    "    'ADPON': ('011203N', '1040514E'),\n",
    "    # 'ADPON': ('010108N', '1035808E'),\n",
    "    'AGROT': ('010108N', '1035808E'),\n",
    "    'AGVAR': ('014719N', '1034145E'),\n",
    "    'AKDAT': ('032923N', '1054917E'),\n",
    "    'AKIPO': ('011356N', '1035542E'),\n",
    "    'AKMET': ('015355N', '1034339E'),\n",
    "    'AKMON': ('081254N', '1101306E'),\n",
    "    'AKOMA': ('014522N', '1035443E'),\n",
    "    'AKVOM': ('005620N', '1041514E'),\n",
    "    'ANBUS': ('011554N', '1032100E'),\n",
    "    'ANITO': ('001700S', '1045200E'),\n",
    "    'ANUMA': ('011053N', '1035424E'),\n",
    "    'APIPA': ('010618N', '1035228E'),\n",
    "    'ARAMA': ('013654N', '1030712E'),\n",
    "    'AROSO': ('020846N', '1032421E'),\n",
    "    'ASISU': ('055906N', '1132046E'),\n",
    "    'ASITI': ('004906N', '1035042E'),\n",
    "    'ASOMI': ('010142N', '1040207E'),\n",
    "    'ASUNA': ('005948N', '1030954E'),\n",
    "    'ATLEX': ('010302N', '1033331E'),\n",
    "    'ATLIR': ('011120N', '1035208E'),\n",
    "    'ATPOM': ('002425N', '1052114E'),\n",
    "    'ATRUM': ('013256N', '1040057E'),\n",
    "    'AVLUB': ('003112S', '1042501E'),\n",
    "    'AVPIV': ('011207N', '1035349E'),\n",
    "    'BAVAL': ('004518N', '1040242E'),\n",
    "    'BETBA': ('013302N', '1035331E'),\n",
    "    'BIBVI': ('024336N', '1040618E'),\n",
    "    'BIDAG': ('073101N', '1135544E'),\n",
    "    'BIDUS': ('013554N', '1035755E'),\n",
    "    'BIKTA': ('024337N', '1034308E'),\n",
    "    'BIMOS': ('011512N', '1035815E'),\n",
    "    'BIPOP': ('013122N', '1041018E'),\n",
    "    'BISOV': ('004229N', '1025214E'),\n",
    "    'BISUT': ('011218N', '1035701E'),\n",
    "    'BITAM': ('010813N', '1040757E'),\n",
    "    'BOBAG': ('010230N', '1032954E'),\n",
    "    'BOBOB': ('022206N', '1070558E'),\n",
    "    'BONSU': ('011928N', '1033710E'),\n",
    "    'BOPVA': ('025303N', '1051349E'),\n",
    "    'BUNTO': ('024200N', '1060000E'),\n",
    "    'BUVAL': ('033622N', '1034341E'),\n",
    "    'DAKIX': ('070854N', '1145054E'),\n",
    "    'DAMOG': ('041225N', '1050014E'),\n",
    "    'DODSO': ('012225N', '1061402E'),\n",
    "    'DOLOX': ('044841N', '1052247E'),\n",
    "    'DOVAN': ('011938N', '1041249E'),\n",
    "    'DOVOL': ('033047N', '1034923E'),\n",
    "    'DOWON': ('011957N', '1043048E'),\n",
    "    'DUBOT': ('010846N', '1040103E'),\n",
    "    'DUBSA': ('034901N', '1044540E'),\n",
    "    'DUDIS': ('070000N', '1064836E'),\n",
    "    'DUMUP': ('005430N', '1035516E'),\n",
    "    'EGOLO': ('031934N', '1040047E'),\n",
    "    'EGORA': ('013621N', '1040607E'),\n",
    "    'ELALO': ('041240N', '1043329E'),\n",
    "    'ELALU': ('013440N', '1040524E'),\n",
    "    'ELBEB': ('012845N', '1040254E'),\n",
    "    'ELBEX': ('013149N', '1040314E'),\n",
    "    'ELGAP': ('012820N', '1040146E'),\n",
    "    'ELGOR': ('033014N', '1054818E'),\n",
    "    'ELMIN': ('012550N', '1040141E'),\n",
    "    'EMRIX': ('012606N', '1041040E'),\n",
    "    'EMSIB': ('005911N', '1035419E'),\n",
    "    'EMSUX': ('024647N', '1051026E'),\n",
    "    'EMTAP': ('011656N', '1035657E'),\n",
    "    'ENLES': ('010932N', '1035350E'),\n",
    "    'ENPUX': ('002859S', '1043434E'),\n",
    "    'ENREP': ('045224N', '1041442E'),\n",
    "    'ENSUN': ('012603N', '1040048E'),\n",
    "    'ENVUM': ('011535N', '1040552E'),\n",
    "    'ERVIV': ('010445N', '1041013E'),\n",
    "    'ERVOT': ('011120N', '1035436E'),\n",
    "    'ESBIT': ('012212N', '1040009E'),\n",
    "    'ESBUM': ('045210N', '1042830E'),\n",
    "    'ESLUX': ('011844N', '1035840E'),\n",
    "    'ESPOB': ('070000N', '1053318E'),\n",
    "    'EXOMO': ('010425N', '1040933E'),\n",
    "    'GIXEM': ('004920N', '1042539E'),\n",
    "    'GOTGA': ('012013N', '1044200E'),\n",
    "    'GULGU': ('040141N', '1084242E'),\n",
    "    'GULIB': ('041714N', '1110633E'),\n",
    "    'GUMPU': ('013000N', '1034243E'),\n",
    "    'GUNUD': ('011042N', '1050618E'),\n",
    "    'GURES': ('002814N', '1043835E'),\n",
    "    'GUTUP': ('045911N', '1075603E'),\n",
    "    'HOSBA': ('011948N', '1042418E'),\n",
    "    'IBASU': ('005751N', '1033410E'),\n",
    "    'IBIVA': ('011351N', '1035637E'),\n",
    "    'IBIXU': ('011621N', '1035740E'),\n",
    "    'IDBUD': ('001454N', '1050139E'),\n",
    "    'IDEMO': ('025431N', '1040603E'),\n",
    "    'IDKIV': ('005652N', '1041333E'),\n",
    "    'IDMAS': ('004900N', '1041848E'),\n",
    "    'IDSEL': ('032432N', '1035544E'),\n",
    "    'IDUNA': ('012306N', '1035934E'),\n",
    "    'IDURO': ('012640N', '1040104E'),\n",
    "    'IDVAS': ('012935N', '1040218E'),\n",
    "    'IGARI': ('065612N', '1033506E'),\n",
    "    'IGNON': ('010847N', '1041257E'),\n",
    "    'IGOSI': ('005645N', '1040644E'),\n",
    "    'IGULA': ('013232N', '1040333E'),\n",
    "    'IGUTU': ('001331S', '1041857E'),\n",
    "    'IKIRO': ('000849N', '1044420E'),\n",
    "    'IKUKO': ('054512N', '1031324E'),\n",
    "    'IKUMI': ('055338N', '1035509E'),\n",
    "    'INVUB': ('002749N', '1051530E'),\n",
    "    'IPDOL': ('045111N', '1035920E'),\n",
    "    'IPNAK': ('013712N', '1040531E'),\n",
    "    'IPRIX': ('070000N', '1040754E'),\n",
    "    'IRPUG': ('005813N', '1040127E'),\n",
    "    'IRSAB': ('024349N', '1054359E'),\n",
    "    'IRTAD': ('010326N', '1041147E'),\n",
    "    'ISDEB': ('024440N', '1063011E'),\n",
    "    'ISGIL': ('004246N', '1031257E'),\n",
    "    'ISNOM': ('010629N', '1035826E'),\n",
    "    'JUNHA': ('005413N', '1043052E'),\n",
    "    'KAKSA': ('011703N', '1035758E'),\n",
    "    'KANLA': ('034556N', '1043606E'),\n",
    "    'KARTO': ('011124N', '1053343E'),\n",
    "    'KASPO': ('011507N', '1035709E'),\n",
    "    'KETOD': ('031042N', '1040942E'),\n",
    "    'KEXAS': ('011019N', '1044818E'),\n",
    "    'KEXOL': ('043930N', '1040942E'),\n",
    "    'KIBOL': ('025224N', '1042818E'),\n",
    "    'KILOT': ('030217N', '1044023E'),\n",
    "    'KIMER': ('011106N', '1035527E'),\n",
    "    'KIRDA': ('000009N', '1045934E'),\n",
    "    'LAGOT': ('071632N', '1113243E'),\n",
    "    'LAGUS': ('011915N', '1035854E'),\n",
    "    'LAPOL': ('012622N', '1034435E'),\n",
    "    'LASIN': ('011538N', '1035722E'),\n",
    "    'LAVAX': ('010950N', '1042714E'),\n",
    "    'LAXOR': ('094937N', '1144829E'),\n",
    "    'LEBIN': ('031438N', '1060604E'),\n",
    "    'LEDOX': ('011642N', '1035651E'),\n",
    "    'LEGOL': ('012053N', '1034723E'),\n",
    "    'LELIB': ('012729N', '1032450E'),\n",
    "    'LELON': ('011244N', '1035609E'),\n",
    "    'LENDA': ('024124N', '1043932E'),\n",
    "    'LEPNA': ('010648N', '1035339E'),\n",
    "    'LETGO': ('011411N', '1035548E'),\n",
    "    'LIDVA': ('010506N', '1035339E'),\n",
    "    'LIGVU': ('034417N', '1061859E'),\n",
    "    'LIPRO': ('025342N', '1051128E'),\n",
    "    'LUSMO': ('033341N', '1065534E'),\n",
    "    'LUXOL': ('011803N', '1035823E'),\n",
    "    'MABAL': ('032826N', '1051236E'),\n",
    "    'MABLI': ('041717N', '1061247E'),\n",
    "    'MANIM': ('031430N', '1040554E'),\n",
    "    'MASBO': ('020248N', '1025251E'),\n",
    "    'MASNI': ('012037N', '1033746E'),\n",
    "    'MELAS': ('070518N', '1080912E'),\n",
    "    'MIBEL': ('012351N', '1020816E'),\n",
    "    'MOLVO': ('012955N', '1040227E'),\n",
    "    'MOXIB': ('012933N', '1040315E'),\n",
    "    'MUMDU': ('010521N', '1042714E'),\n",
    "    'MUMSO': ('034420N', '1053213E'),\n",
    "    'NIVAM': ('023650N', '1040228E'),\n",
    "    'NIXEB': ('013943N', '1061040E'),\n",
    "    'NODIN': ('081100N', '1161142E'),\n",
    "    'NOPAT': ('042313N', '1044756E'),\n",
    "    'NUFFA': ('025341N', '1033829E'),\n",
    "    'NYLON': ('013657N', '1040624E'),\n",
    "    'OBDAB': ('031153N', '1040538E'),\n",
    "    'OBDOS': ('002503N', '1065551E'),\n",
    "    'OBGET': ('012307N', '1064531E'),\n",
    "    'ODONO': ('063614N', '1030129E'),\n",
    "    'OLKIT': ('045010N', '1115118E'),\n",
    "    'OLMUT': ('030306N', '1053558E'),\n",
    "    'OLNUB': ('011110N', '1035147E'),\n",
    "    'OMDUD': ('005847N', '1035714E'),\n",
    "    'OMKOM': ('013112N', '1035910E'),\n",
    "    'OMLIV': ('025512N', '1062812E'),\n",
    "    'OSERU': ('024450N', '1054334E'),\n",
    "    'OTLAL': ('004209N', '1053052E'),\n",
    "    'OTLON': ('030752N', '1042006E'),\n",
    "    'PADLI': ('030918N', '1033133E'),\n",
    "    'PALGA': ('011059N', '1034759E'),\n",
    "    'PAMSI': ('010459N', '1034845E')\n",
    "}\n",
    "\n",
    "STAR_SID_waypoints = {\n",
    "    'ABVIP': ('010008N', '1035032E'),\n",
    "    'ADPON': ('011203N', '1040514E'),\n",
    "    # 'ADPON': ('010108N', '1035808E'),\n",
    "    'AGROT': ('010108N', '1035808E'),\n",
    "    'AGVAR': ('014719N', '1034145E'),\n",
    "    'AKMET': ('015355N', '1034339E'),\n",
    "    'AKOMA': ('014522N', '1035443E'),\n",
    "    'ALFA' : ('013033N', '1034942E'),\n",
    "    'ANITO': ('001700S', '1045200E'),\n",
    "    'ARAMA': ('013654N', '1030712E'),\n",
    "    'AROSO': ('020846N', '1032421E'),\n",
    "    'ASITI': ('004906N', '1035042E'),\n",
    "    'ASOMI': ('010142N', '1040207E'),\n",
    "    'ASUNA': ('005948N', '1030954E'),\n",
    "    'ATLEX': ('010302N', '1033331E'),\n",
    "    'ATRUM': ('013256N', '1040057E'),\n",
    "    'BETBA': ('013302N', '1035331E'),\n",
    "    'BIBVI': ('024336N', '1040618E'),\n",
    "    'BIDUS': ('013554N', '1035755E'),\n",
    "    'BIPOP': ('013122N', '1041018E'),\n",
    "    'BISOV': ('004229N', '1025214E'),\n",
    "    'BITAM': ('010813N', '1040757E'),\n",
    "    'BOBAG': ('010230N', '1032954E'),\n",
    "    'BOKIP': ('010421N', '1034353E'),\n",
    "    'BTM'  : ('010813N', '1040758E'),\n",
    "    'DODSO': ('012225N', '1061402E'),\n",
    "    'DOVAN': ('011938N', '1041249E'),\n",
    "    'DUBOT': ('010846N', '1040103E'),\n",
    "    'DUMUP': ('005430N', '1035516E'),\n",
    "    'ELALO': ('041240N', '1043329E'),\n",
    "    'EMRIX': ('012606N', '1041040E'),\n",
    "    'ERVIV': ('010445N', '1041013E'),\n",
    "    'GIXEM': ('004920N', '1042539E'),\n",
    "    'GOTGA': ('012013N', '1044200E'),\n",
    "    'GUMPU': ('013000N', '1034243E'),\n",
    "    'GUNUD': ('011042N', '1050618E'),\n",
    "    'GURES': ('002814N', '1043835E'),\n",
    "    'HOSBA': ('011948N', '1042418E'),\n",
    "    'IBASU': ('005751N', '1033410E'),\n",
    "    'IBIVA': ('011351N', '1035637E'),\n",
    "    'IBIXU': ('011621N', '1035740E'),\n",
    "    'IDBUD': ('001454N', '1050139E'),\n",
    "    'IDKIV': ('005652N', '1041333E'),\n",
    "    'IGNON': ('010847N', '1041257E'),\n",
    "    'IGOSI': ('005645N', '1040644E'),\n",
    "    'IKIRO': ('000849N', '1044420E'),\n",
    "    'ISGIL': ('004246N', '1031257E'),\n",
    "    'ISNOM': ('010629N', '1035826E'),\n",
    "    'KANLA': ('034556N', '1043606E'),\n",
    "    'KARTO': ('011124N', '1053343E'),\n",
    "    'KEXAS': ('011019N', '1044818E'),\n",
    "    'KILOT': ('030217N', '1044023E'),\n",
    "    'KIRDA': ('000009N', '1045934E'),\n",
    "    'LAMA' : ('013150N', '1035850E'), #Added from ENR 3.6 holding list\n",
    "    'LAVAX': ('010950N', '1042714E'),\n",
    "    'LEDOX': ('011642N', '1035651E'),\n",
    "    'LELIB': ('012729N', '1032450E'),\n",
    "    'LETGO': ('011411N', '1035548E'),\n",
    "    'MABAL': ('032826N', '1051236E'),\n",
    "    'MASBO': ('020248N', '1025251E'),\n",
    "    'MIBEL': ('012351N', '1020816E'),\n",
    "    'MOLVO': ('012955N', '1040227E'),\n",
    "    'MOXIB': ('012933N', '1040315E'),\n",
    "    'MUMDU': ('010521N', '1042714E'),\n",
    "    'NYLON': ('013657N', '1040624E'),\n",
    "    'PALGA': ('011059N', '1034759E'),\n",
    "    'PAMSI': ('010459N', '1034845E'),\n",
    "    'PASPU': ('015915N', '1040618E'),\n",
    "    'PIBAP': ('023023N', '1040618E'),\n",
    "    'POSUB': ('012725N', '1040748E'),\n",
    "    'POVEB': ('011344N', '1040130E'),\n",
    "    'PU'   : ('012524N', '1035600E'),\n",
    "    'REMES': ('004342N', '1035735E'),\n",
    "    'REPOV': ('001623N', '1040300E'),\n",
    "    'RWY 02R DER': ('012122N', '1040051E'),\n",
    "    'RWY 02C DER': ('012145N', '1035957E'),\n",
    "    'RWY 02L DER': ('012305N', '1035933E'),\n",
    "    'RWY 20C DER': ('011942N', '1035905E'),\n",
    "    'RWY 20R DER': ('012047N', '1035835E'),\n",
    "    'RWY 20L DER': ('011919N', '1035959E'),\n",
    "    'SABKA': ('015051N', '1031713E'),\n",
    "    'SALRU': ('011701N', '1040802E'),\n",
    "    'SAMKO': ('010530N', '1035255E'),\n",
    "    'SANAT': ('010749N', '1035930E'),\n",
    "    'SEBVO': ('011259N', '1044028E'),\n",
    "    'SJ'   : ('011321N', '1035115E'),\n",
    "    'SINJON': ('011321N', '1035115E'),\n",
    "    'SURGA': ('003657S', '1063119E'),\n",
    "    'TAROS': ('004200N', '1021612E'),\n",
    "    'TEBUN': ('011455N', '1031557E'),\n",
    "    'TOMAN': ('012147N', '1054717E'),\n",
    "    'TUSPI': ('003301N', '1040959E'), #Added from ENR 3.6 holding list\n",
    "    'UGEBO': ('003813N', '1052432E'),\n",
    "    'UKIBO': ('011758N', '1035924E'),\n",
    "    'UPTEL': ('005925N', '1040730E'),\n",
    "    'VAMPO': ('005833N', '1032525E'),\n",
    "    'VANBU': ('010643N', '1042740E'),\n",
    "    'VASTI': ('004320N', '1043406E'),\n",
    "    'VEBMA': ('012030N', '1045332E'),\n",
    "    'VEXEL': ('005904N', '1034254E'),\n",
    "    'VIBOG': ('004310N', '1034302E'),\n",
    "    'VIGUD': ('011328N', '1035730E'),\n",
    "    'VIMAL': ('010942N', '1042353E'),\n",
    "    'VIRET': ('003940N', '1043511E'),\n",
    "    'VMR'  : ('022318N', '1035218E'),\n",
    "    'VOVOS': ('011123N', '1032651E'),\n",
    "    'VTK'  : ('012455N', '1040120E'),\n",
    "    'TEKONG' : ('012455N', '1040120E')\n",
    "}\n",
    "\n",
    "STARs = {\n",
    "    'ARAMA1A': ['ARAMA', 'BOBAG', 'BOKIP', 'SAMKO'],\n",
    "    'ARAMA1B': ['ARAMA', 'BOBAG', 'SAMKO', 'BITAM', 'DOVAN', 'BIPOP'],\n",
    "    'ASUNA2A': ['ASUNA', 'VAMPO', 'IBASU', 'VEXEL', 'SAMKO'],\n",
    "    'ASUNA2B': ['ASUNA', 'VAMPO', 'IBASU', 'VEXEL', 'ABVIP', 'AGROT', 'BITAM', 'DOVAN', 'BIPOP'],\n",
    "    'ELALO1A': ['ELALO', 'KANLA', 'KILOT', 'PIBAP', 'PASPU', 'NYLON', 'POSUB', 'SANAT'],\n",
    "    'ELALO1B': ['ELALO', 'KANLA', 'KILOT', 'PIBAP', 'PASPU', 'NYLON'],\n",
    "    'KARTO2A': ['TOMAN', 'KARTO', 'GUNUD', 'KEXAS', 'VIMAL', 'IGNON', 'SANAT'],\n",
    "    'KARTO2B': ['TOMAN', 'KARTO', 'GUNUD', 'KEXAS', 'LAVAX', 'DOVAN', 'BIPOP'],\n",
    "    'LEBAR2A': ['PASPU', 'PU', 'SINJON', 'PALGA', 'PAMSI', 'SAMKO'],\n",
    "    'LEBAR3B': ['REMES', 'SINJON', 'PU', 'BETBA', 'BIDUS'],\n",
    "    'LELIB3B': ['ARAMA', 'LELIB', 'GUMPU', 'ALFA', 'BIDUS'],\n",
    "    'MABAL2A': ['MABAL', 'KILOT', 'PIBAP', 'PASPU', 'NYLON', 'POSUB', 'SANAT'],\n",
    "    'MABAL2B': ['MABAL', 'KILOT', 'PIBAP', 'PASPU', 'NYLON'],\n",
    "    'REPOV2A': ['REPOV', 'REMES', 'DUMUP', 'SAMKO'],\n",
    "    'REPOV2B': ['REPOV', 'REMES', 'BITAM', 'DOVAN', 'BIPOP'],\n",
    "    'TEBUN1A': ['TEBUN', 'VAMPO', 'IBASU', 'VEXEL', 'SAMKO'],\n",
    "    'TEBUN1B': ['TEBUN', 'VAMPO', 'IBASU', 'VEXEL', 'ABVIP', 'AGROT', 'BITAM', 'DOVAN', 'BIPOP'],\n",
    "    'UGEBO1A': ['UGEBO', 'GUNUD', 'KEXAS', 'VIMAL', 'IGNON', 'SANAT'],\n",
    "    'UGEBO1B': ['UGEBO', 'GUNUD', 'KEXAS', 'LAVAX', 'DOVAN', 'BIPOP'],\n",
    "}\n",
    "\n",
    "STARs_rwy = {\n",
    "    'ARAMA1A': 'RWY 02L/02C/02R',\n",
    "    'ARAMA1B': 'RWY 20R/20C/20L',\n",
    "    'ASUNA2A': 'RWY 02L/02C/02R',\n",
    "    'ASUNA2B': 'RWY 20R/20C/20L',\n",
    "    'ELALO1A': 'RWY 02L/02C/02R',\n",
    "    'ELALO1B': 'RWY 20R/20C/20L',\n",
    "    'KARTO2A': 'RWY 02L/02C/02R',\n",
    "    'KARTO2B': 'RWY 20R/20C/20L',\n",
    "    'LEBAR2A': 'RWY 02L/02C/02R',\n",
    "    'LEBAR3B': 'RWY 20R/20C/20L',\n",
    "    'LELIB3B': 'RWY 20R/20C/20L',\n",
    "    'MABAL2A': 'RWY 02L/02C/02R',\n",
    "    'MABAL2B': 'RWY 20R/20C/20L',\n",
    "    'REPOV2A': 'RWY 02L/02C/02R',\n",
    "    'REPOV2B': 'RWY 20R/20C/20L',\n",
    "    'TEBUN1A': 'RWY 02L/02C/02R',\n",
    "    'TEBUN1B': 'RWY 20R/20C/20L',\n",
    "    'UGEBO1A': 'RWY 02L/02C/02R',\n",
    "    'UGEBO1B': 'RWY 20R/20C/20L',\n",
    "}\n",
    "\n",
    "SIDs = {\n",
    "    'ANITO7A': ['MOXIB','EMRIX','HOSBA','VANBU', 'VIRET', 'GURES', 'IKIRO', 'ANITO'],\n",
    "    'ANITO8B': ['IBIXU', 'IBIVA','ISNOM','ASOMI','UPTEL', 'IDKIV','GIXEM','VASTI','VIRET','GURES','IKIRO','ANITO'],\n",
    "    'ANITO1C': ['HOSBA','VANBU','VIRET','GURES','IKIRO','ANITO'],\n",
    "    'ANITO1D': ['UKIBO', 'ISNOM', 'ASOMI', 'UPTEL', 'IDKIV', 'GIXEM', 'VASTI', 'VIRET', 'GURES', 'IKIRO', 'ANITO'],\n",
    "    'ANITO7E': ['MOLVO', 'EMRIX', 'HOSBA', 'VANBU', 'VIRET', 'GURES', 'IKIRO', 'ANITO'],\n",
    "    'ANITO8F': ['LEDOX','LETGO', 'ISNOM', 'ASOMI', 'UPTEL', 'IDKIV', 'GIXEM', 'VASTI', 'VIRET', 'GURES', 'IKIRO', 'ANITO'],\n",
    "    'AROSO3A': ['MOXIB','AKOMA','AKMET','AROSO'],\n",
    "    'AROSO5B': ['IBIXU', 'IBIVA', 'DUBOT','ADPON','SALRU','TEKONG','AKOMA','AKMET','AROSO'],\n",
    "    'AROSO1C': ['AKOMA','AKMET','AROSO'],\n",
    "    'AROSO1D': ['UKIBO','POVEB','ADPON','SALRU','TEKONG','AKOMA','AKMET','AROSO'],\n",
    "    'AROSO3E': ['MOLVO','ATRUM','AKOMA','AKMET','AROSO'],\n",
    "    'AROSO5F': ['LEDOX', 'LETGO', 'DUBOT','ADPON','SALRU','TEKONG','AKOMA','AKMET','AROSO'],\n",
    "    'DODSO1A': ['MOXIB','EMRIX', 'HOSBA', 'VEBMA', 'TOMAN', 'DODSO'],\n",
    "    'DODSO1B': ['IBIXU', 'IBIVA','DUBOT', 'ERVIV','MUMDU','SEBVO', 'GOTGA','VEBMA', 'TOMAN', 'DODSO'],\n",
    "    'DODSO1C': ['HOSBA', 'VEBMA', 'TOMAN', 'DODSO'],\n",
    "    'DODSO1D': ['UKIBO','DUBOT', 'ERVIV','MUMDU','SEBVO', 'GOTGA','VEBMA', 'TOMAN', 'DODSO'],\n",
    "    'DODSO1E': ['MOLVO','EMRIX', 'HOSBA', 'VEBMA', 'TOMAN', 'DODSO'],\n",
    "    'DODSO1F': ['LEDOX', 'LETGO', 'DUBOT', 'ERVIV','MUMDU','SEBVO', 'GOTGA','VEBMA', 'TOMAN', 'DODSO'],\n",
    "    'IDBUD1A': ['MOXIB','EMRIX','HOSBA','VANBU','VIRET','GURES','IDBUD'],\n",
    "    'IDBUD1B': ['IBIXU','IBIVA','ISNOM','ASOMI','UPTEL','IDKIV','GIXEM','VASTI','VIRET','GURES','IDBUD'],\n",
    "    'IDBUD1C': ['HOSBA','VANBU','VIRET','GURES','IDBUD'],\n",
    "    'IDBUD1D': ['UKIBO', 'ISNOM', 'ASOMI', 'UPTEL', 'IDKIV', 'GIXEM', 'VASTI', 'VIRET', 'GURES', 'IDBUD'],\n",
    "    'IDBUD1E': ['MOLVO', 'EMRIX', 'HOSBA', 'VANBU', 'VIRET', 'GURES', 'IDBUD'],\n",
    "    'IDBUD1F': ['LEDOX','LETGO', 'ISNOM', 'ASOMI', 'UPTEL', 'IDKIV', 'GIXEM', 'VASTI', 'VIRET', 'GURES', 'IDBUD'],\n",
    "    'KIRDA1A': ['MOXIB','EMRIX','HOSBA','VANBU', 'VIRET', 'GURES', 'IKIRO', 'KIRDA'],\n",
    "    'KIRDA1B': ['IBIXU', 'IBIVA','ISNOM','ASOMI','UPTEL', 'IDKIV','GIXEM','VASTI','VIRET','GURES','IKIRO','KIRDA'],\n",
    "    'KIRDA1C': ['HOSBA','VANBU','VIRET','GURES','IKIRO','KIRDA'],\n",
    "    'KIRDA1D': ['UKIBO', 'ISNOM', 'ASOMI', 'UPTEL', 'IDKIV', 'GIXEM', 'VASTI', 'VIRET', 'GURES', 'IKIRO', 'KIRDA'],\n",
    "    'KIRDA1E': ['MOLVO', 'EMRIX', 'HOSBA', 'VANBU', 'VIRET', 'GURES', 'IKIRO', 'KIRDA'],\n",
    "    'KIRDA1F': ['LEDOX','LETGO', 'ISNOM', 'ASOMI', 'UPTEL', 'IDKIV', 'GIXEM', 'VASTI', 'VIRET', 'GURES', 'IKIRO', 'KIRDA'],\n",
    "    'MASBO3A': ['MOXIB','AKOMA','AGVAR','SABKA','MASBO'],\n",
    "    'MASBO5B': ['IBIXU', 'IBIVA', 'DUBOT','ADPON','SALRU','TEKONG','AKOMA','AGVAR','SABKA','MASBO'],\n",
    "    'MASBO1C': ['AKOMA','AGVAR','SABKA','MASBO'],\n",
    "    'MASBO1D': ['UKIBO','POVEB','ADPON','SALRU','TEKONG','AKOMA','AGVAR','SABKA','MASBO'],\n",
    "    'MASBO3E': ['MOLVO','ATRUM','AKOMA','AGVAR','SABKA','MASBO'],\n",
    "    'MASBO5F': ['LEDOX', 'LETGO', 'DUBOT','ADPON','SALRU','TEKONG','AKOMA','AGVAR','SABKA','MASBO'],\n",
    "    'VMR6A': ['MOXIB','AKOMA','VMR'],\n",
    "    'VMR9B': ['IBIXU', 'IBIVA', 'DUBOT','ADPON','SALRU','TEKONG','AKOMA','VMR'],\n",
    "    'VMR1C': ['AKOMA','VMR'],\n",
    "    'VMR1D': ['UKIBO','POVEB','ADPON','SALRU','TEKONG','AKOMA','VMR'],\n",
    "    'VMR6E': ['MOLVO','ATRUM','AKOMA','VMR'],\n",
    "    'VMR9F': ['LEDOX', 'LETGO', 'DUBOT','ADPON','SALRU','TEKONG','AKOMA','VMR'],\n",
    "    'MIBEL1A': ['MOXIB','EMRIX','HOSBA','VANBU', 'IGOSI','ASITI','VIBOG','ISGIL','BISOV','MIBEL'],\n",
    "    'MIBEL1B': ['IBIXU', 'IBIVA','SAMKO','VIBOG','ISGIL','BISOV','MIBEL'],\n",
    "    'MIBEL1C': ['HOSBA','VANBU','IGOSI','ASITI','VIBOG','ISGIL','BISOV','MIBEL'],\n",
    "    'MIBEL1D': ['UKIBO', 'VIGUD', 'SAMKO','VIBOG','ISGIL','BISOV','MIBEL'],\n",
    "    'MIBEL1E': ['MOLVO', 'EMRIX', 'HOSBA', 'VANBU', 'IGOSI','ASITI','VIBOG','ISGIL','BISOV','TAROS'],\n",
    "    'MIBEL1F': ['LEDOX','LETGO', 'SAMKO','VIBOG','ISGIL','BISOV','TAROS'],\n",
    "    'TAROS1A': ['MOXIB','EMRIX','HOSBA','VANBU', 'IGOSI','ASITI','VIBOG','ISGIL','BISOV','TAROS'],\n",
    "    'TAROS1B': ['IBIXU', 'IBIVA','SAMKO','VIBOG','ISGIL','BISOV','TAROS'],\n",
    "    'TAROS1C': ['HOSBA','VANBU','IGOSI','ASITI','VIBOG','ISGIL','BISOV','TAROS'],\n",
    "    'TAROS1D': ['UKIBO', 'VIGUD', 'SAMKO','VIBOG','ISGIL','BISOV','TAROS'],\n",
    "    'TAROS1E': ['MOLVO', 'EMRIX', 'HOSBA', 'VANBU', 'IGOSI','ASITI','VIBOG','ISGIL','BISOV','TAROS'],\n",
    "    'TAROS1F': ['LEDOX','LETGO', 'SAMKO','VIBOG','ISGIL','BISOV','TAROS'],\n",
    "    'TOMAN3A': ['MOXIB','EMRIX','HOSBA','VEBMA','TOMAN'],\n",
    "    'TOMAN5B': ['IBIXU', 'IBIVA','DUBOT','ERVIV','MUMDU','SEBVO','GOTGA','VEBMA','TOMAN'],\n",
    "    'TOMAN1C': ['HOSBA','VEBMA','TOMAN'],\n",
    "    'TOMAN1D': ['UKIBO', 'DUBOT','ERVIV','MUMDU','SEBVO','GOTGA','VEBMA','TOMAN'],\n",
    "    'TOMAN3E': ['MOLVO', 'EMRIX', 'HOSBA', 'VEBMA','TOMAN'],\n",
    "    'TOMAN5F': ['LEDOX','LETGO', 'DUBOT','ERVIV','MUMDU','SEBVO','GOTGA','VEBMA','TOMAN'],\n",
    "    'VOVOS1B': ['IBIXU', 'IBIVA','SAMKO','BOKIP','ATLEX','VOVOS'],\n",
    "    'VOVOS1D': ['UKIBO', 'VIGUD', 'SAMKO','BOKIP','ATLEX','VOVOS'],\n",
    "    'VOVOS1F': ['LEDOX','LETGO', 'SAMKO','BOKIP','ATLEX','VOVOS'],\n",
    "    'CHA1C': [],\n",
    "    'CHA1D': [],\n",
    "}\n",
    "\n",
    "SIDs_rwy = {\n",
    "    'ANITO7A': 'RWY 02C',\n",
    "    'ANITO8B': 'RWY 20C',\n",
    "    'ANITO1C': 'RWY 02R',\n",
    "    'ANITO1D': 'RWY 20L',\n",
    "    'ANITO7E': 'RWY 02L',\n",
    "    'ANITO8F': 'RWY 20R',\n",
    "    'AROSO3A': 'RWY 02C',\n",
    "    'AROSO5B': 'RWY 20C',\n",
    "    'AROSO1C': 'RWY 02R',\n",
    "    'AROSO1D': 'RWY 20L',\n",
    "    'AROSO3E': 'RWY 02L',\n",
    "    'AROSO5F': 'RWY 20R',\n",
    "    'DODSO1A': 'RWY 02C',\n",
    "    'DODSO1B': 'RWY 20C',\n",
    "    'DODSO1C': 'RWY 02R',\n",
    "    'DODSO1D': 'RWY 20L',\n",
    "    'DODSO1E': 'RWY 02L',\n",
    "    'DODSO1F': 'RWY 20R',\n",
    "    'IDBUD1A': 'RWY 02C',\n",
    "    'IDBUD1B': 'RWY 20C',\n",
    "    'IDBUD1C': 'RWY 02R',\n",
    "    'IDBUD1D': 'RWY 20L',\n",
    "    'IDBUD1E': 'RWY 02L',\n",
    "    'IDBUD1F': 'RWY 20R',\n",
    "    'KIRDA1A': 'RWY 02C',\n",
    "    'KIRDA1B': 'RWY 20C',\n",
    "    'KIRDA1C': 'RWY 02R',\n",
    "    'KIRDA1D': 'RWY 20L',\n",
    "    'KIRDA1E': 'RWY 02L',\n",
    "    'KIRDA1F': 'RWY 20R',\n",
    "    'MASBO3A': 'RWY 02C',\n",
    "    'MASBO5B': 'RWY 20C',\n",
    "    'MASBO1C': 'RWY 02R',\n",
    "    'MASBO1D': 'RWY 20L',\n",
    "    'MASBO3E': 'RWY 02L',\n",
    "    'MASBO5F': 'RWY 20R',\n",
    "    'VMR6A': 'RWY 02C',\n",
    "    'VMR9B': 'RWY 20C',\n",
    "    'VMR1C': 'RWY 02R',\n",
    "    'VMR1D': 'RWY 20L',\n",
    "    'VMR6E': 'RWY 02L',\n",
    "    'VMR9F': 'RWY 20R',\n",
    "    'MIBEL1A': 'RWY 02C',\n",
    "    'MIBEL1B': 'RWY 20C',\n",
    "    'MIBEL1C': 'RWY 02R',\n",
    "    'MIBEL1D': 'RWY 20L',\n",
    "    'MIBEL1E': 'RWY 02L',\n",
    "    'MIBEL1F': 'RWY 20R',\n",
    "    'TAROS1A': 'RWY 02C',\n",
    "    'TAROS1B': 'RWY 20C',\n",
    "    'TAROS1C': 'RWY 02R',\n",
    "    'TAROS1D': 'RWY 20L',\n",
    "    'TAROS1E': 'RWY 02L',\n",
    "    'TAROS1F': 'RWY 20R',\n",
    "    'TOMAN3A': 'RWY 02C',\n",
    "    'TOMAN5B': 'RWY 20C',\n",
    "    'TOMAN1C': 'RWY 02R',\n",
    "    'TOMAN1D': 'RWY 20L',\n",
    "    'TOMAN3E': 'RWY 02L',\n",
    "    'TOMAN5F': 'RWY 20R',\n",
    "    'VOVOS1B': 'RWY 20C',\n",
    "    'VOVOS1D': 'RWY 20L',\n",
    "    'VOVOS1F': 'RWY 20R',\n",
    "    'CHA1C': 'RWY 02R',\n",
    "    'CHA1D': 'RWY 20L',\n",
    "}\n",
    "\n",
    "holding_pts_app = ['BOBAG', 'HOSBA', 'KEXAS','LAMA', 'NYLON','REMES','SAMKO','SINJON','TUSPI','VAMPO']\n",
    "holding_pts_acc = ['ELALO','KARTO','KILOT','MABAL','REPOV','UGEBO'] \n"
   ]
  },
  {
   "cell_type": "code",
   "execution_count": 7,
   "metadata": {},
   "outputs": [
    {
     "data": {
      "text/plain": [
       "(183, 107)"
      ]
     },
     "execution_count": 7,
     "metadata": {},
     "output_type": "execute_result"
    }
   ],
   "source": [
    "len(waypoints_all.keys()), len(STAR_SID_waypoints.keys())"
   ]
  },
  {
   "cell_type": "code",
   "execution_count": 8,
   "metadata": {},
   "outputs": [
    {
     "data": {
      "text/plain": [
       "228"
      ]
     },
     "execution_count": 8,
     "metadata": {},
     "output_type": "execute_result"
    }
   ],
   "source": [
    "combined_waypoints = waypoints_all | STAR_SID_waypoints\n",
    "len(combined_waypoints.keys())"
   ]
  },
  {
   "cell_type": "code",
   "execution_count": 27,
   "metadata": {},
   "outputs": [],
   "source": [
    "# SINGAPORE FIR SECTORS\n",
    "SG_FIR_sector1_coordinates = [\n",
    "    ('004237N', '103523E'),\n",
    "    ('003513N', '103540E'),\n",
    "    ('001617N', '103611E'),\n",
    "    ('000000N', '104432E'),\n",
    "    ('000000N', '105034E'),\n",
    "    ('001030N', '104605E'),\n",
    "    ('003534N', '104414E'),\n",
    "    ('001955N', '105110E'),\n",
    "    ('013228N', '104239E'),\n",
    "    ('013112N', '103633E'),\n",
    "    ('013013N', '103502E'),\n",
    "    ('012707N', '103321E'),\n",
    "    ('010711N', '103511E'),\n",
    "    ('011543N', '103212E'),\n",
    "    ('004237N', '103523E')  # closed polygon\n",
    "]\n",
    "\n",
    "SG_FIR_sector2_coordinates = [\n",
    "    ('020008N', '1034828E'), \n",
    "    ('013014N', '1035025E'), \n",
    "    ('012707N', '1032829E'), \n",
    "    ('011543N', '1032139E'), \n",
    "    ('010711N', '1034717E'), \n",
    "    ('004238N', '1035244E'), \n",
    "    ('003513N', '1035407E'), \n",
    "    ('001617S', '1035719E'), \n",
    "    ('013429N', '1022353E'), \n",
    "    ('012204N', '1030206E'), \n",
    "    ('014517N', '1031303E'), \n",
    "    ('014215N', '1031717E'),\n",
    "    ('020008N', '1034828E')\n",
    "]\n",
    "\n",
    "SG_FIR_sector3_coordinates = [\n",
    "    ('030725N', '1034442E'), \n",
    "    ('030735N', '1041256E'), \n",
    "    ('023558N', '1044459E'), \n",
    "    ('013228N', '1042406E'), \n",
    "    ('013118N', '1040128E'), \n",
    "    ('013112N', '1035936E'), \n",
    "    ('013014N', '1035025E'), \n",
    "    ('020008N', '1034828E'), \n",
    "    ('022203N', '1034714E'), \n",
    "    ('025220N', '1033324E'), \n",
    "    ('025418N', '1034606E'),\n",
    "    ('030725N', '1034442E')\n",
    "]\n",
    "\n",
    "SG_FIR_sector4_coordinates = [\n",
    "    ('023721N', '1044337E'), \n",
    "    ('023935N', '1045028E'), \n",
    "    ('023000N', '1053000E'), \n",
    "    ('023333N', '1054816E'), \n",
    "    ('012500N', '1061648E'), \n",
    "    ('010831N', '1055908E'), \n",
    "    ('001956N', '1050703E'), \n",
    "    ('003534N', '1044152E'), \n",
    "    ('013228N', '1042406E'), \n",
    "    ('023558N', '1044459E'),\n",
    "    ('023721N', '1044337E')\n",
    "]\n",
    "\n",
    "SG_FIR_sector5_coordinates = [\n",
    "    ('035421N', '1063418E'), \n",
    "    ('074159N', '1091159E'), \n",
    "    ('103000N', '1140000E'), \n",
    "    ('082500N', '1163000E'), \n",
    "    ('025050N', '1091629E'), \n",
    "    ('045700N', '1081619E'), \n",
    "    ('050012N', '1080132E'), \n",
    "    ('045904N', '1075525E'), \n",
    "    ('045203N', '1074625E'), \n",
    "    ('043820N', '1073315E'), \n",
    "    ('041312N', '1071743E'), \n",
    "    ('035237N', '1063555E'),\n",
    "    ('035421N', '1063418E')\n",
    "]\n",
    "\n",
    "SG_FIR_sector6_coordinates = [\n",
    "    ('033600N', '1042208E'), \n",
    "    ('040311N', '1054617E'), \n",
    "    ('041717N', '1061247E'), \n",
    "    ('035237N', '1063555E'), \n",
    "    ('034417N', '1061859E'), \n",
    "    ('033022N', '1055053E'), \n",
    "    ('031727N', '1052959E'), \n",
    "    ('023331N', '1054816E'), \n",
    "    ('023001N', '1052958E'), \n",
    "    ('023935N', '1045028E'), \n",
    "    ('023721N', '1044337E'), \n",
    "    ('030735N', '1041256E'),\n",
    "    ('033600N', '1042208E')\n",
    "]\n",
    "\n",
    "SG_FIR_sector7_coordinates = [\n",
    "    ('045000N', '1034400E'), \n",
    "    ('045223N', '1041441E'), \n",
    "    ('044841N', '1052247E'), \n",
    "    ('041716N', '1061247E'), \n",
    "    ('040311N', '1054617E'), \n",
    "    ('033600N', '1042208E'), \n",
    "    ('030735N', '1041256E'), \n",
    "    ('030725N', '1034442E'), \n",
    "    ('034000N', '1034000E'),\n",
    "    ('045000N', '1034400E')\n",
    "]\n",
    "\n",
    "SG_FIR_sector8_coordinates = [\n",
    "    ('064459N', '1024001E'), \n",
    "    ('065955N', '1025953E'), \n",
    "    ('070000N', '1080000E'), \n",
    "    ('074159N', '1091159E'), \n",
    "    ('035421N', '1063418E'), \n",
    "    ('041717N', '1061246E'), \n",
    "    ('044841N', '1052247E'), \n",
    "    ('045223N', '1041441E'), \n",
    "    ('045000N', '1034400E'),\n",
    "    ('064459N', '1024001E')\n",
    "]\n"
   ]
  },
  {
   "cell_type": "code",
   "execution_count": 8,
   "metadata": {},
   "outputs": [
    {
     "name": "stdout",
     "output_type": "stream",
     "text": [
      "[1.6, 1.03333, 1.06667, 1.08333] \n",
      " [103.11667, 103.48333, 103.71667, 103.86667]\n",
      "\n",
      "\n",
      "[1.6, 1.03333, 1.08333, 1.13333, 1.31667, 1.51667] \n",
      " [103.11667, 103.48333, 103.86667, 104.11667, 104.2, 104.16667]\n",
      "\n",
      "\n",
      "[0.98333, 0.96667, 0.95, 0.98333, 1.08333] \n",
      " [103.15, 103.41667, 103.56667, 103.7, 103.86667]\n",
      "\n",
      "\n",
      "[0.98333, 0.96667, 0.95, 0.98333, 1.0, 1.01667, 1.13333, 1.31667, 1.51667] \n",
      " [103.15, 103.41667, 103.56667, 103.7, 103.83333, 103.96667, 104.11667, 104.2, 104.16667]\n",
      "\n",
      "\n",
      "[4.2, 3.75, 3.03333, 2.5, 1.98333, 1.6, 1.45, 1.11667] \n",
      " [104.55, 104.6, 104.66667, 104.1, 104.1, 104.1, 104.11667, 103.98333]\n",
      "\n",
      "\n",
      "[4.2, 3.75, 3.03333, 2.5, 1.98333, 1.6] \n",
      " [104.55, 104.6, 104.66667, 104.1, 104.1, 104.1]\n",
      "\n",
      "\n",
      "[1.35, 1.18333, 1.16667, 1.16667, 1.15, 1.13333, 1.11667] \n",
      " [105.78333, 105.55, 105.1, 104.8, 104.38333, 104.2, 103.98333]\n",
      "\n",
      "\n",
      "[1.35, 1.18333, 1.16667, 1.16667, 1.15, 1.31667, 1.51667] \n",
      " [105.78333, 105.55, 105.1, 104.8, 104.45, 104.2, 104.16667]\n",
      "\n",
      "\n",
      "[1.98333, 1.41667, 1.21667, 1.16667, 1.06667, 1.08333] \n",
      " [104.1, 103.93333, 103.85, 103.78333, 103.8, 103.86667]\n",
      "\n",
      "\n",
      "[0.71667, 1.21667, 1.41667, 1.55, 1.58333] \n",
      " [103.95, 103.85, 103.93333, 103.88333, 103.95]\n",
      "\n",
      "\n",
      "[1.6, 1.45, 1.5, 1.5, 1.58333] \n",
      " [103.11667, 103.4, 103.7, 103.81667, 103.95]\n",
      "\n",
      "\n",
      "[3.46667, 3.03333, 2.5, 1.98333, 1.6, 1.45, 1.11667] \n",
      " [105.2, 104.66667, 104.1, 104.1, 104.1, 104.11667, 103.98333]\n",
      "\n",
      "\n",
      "[3.46667, 3.03333, 2.5, 1.98333, 1.6] \n",
      " [105.2, 104.66667, 104.1, 104.1, 104.1]\n",
      "\n",
      "\n",
      "[0.26667, 0.71667, 0.9, 1.08333] \n",
      " [104.05, 103.95, 103.91667, 103.86667]\n",
      "\n",
      "\n",
      "[0.26667, 0.71667, 1.13333, 1.31667, 1.51667] \n",
      " [104.05, 103.95, 104.11667, 104.2, 104.16667]\n",
      "\n",
      "\n",
      "[1.23333, 0.96667, 0.95, 0.98333, 1.08333] \n",
      " [103.25, 103.41667, 103.56667, 103.7, 103.86667]\n",
      "\n",
      "\n",
      "[1.23333, 0.96667, 0.95, 0.98333, 1.0, 1.01667, 1.13333, 1.31667, 1.51667] \n",
      " [103.25, 103.41667, 103.56667, 103.7, 103.83333, 103.96667, 104.11667, 104.2, 104.16667]\n",
      "\n",
      "\n",
      "[0.63333, 1.16667, 1.16667, 1.15, 1.13333, 1.11667] \n",
      " [105.4, 105.1, 104.8, 104.38333, 104.2, 103.98333]\n",
      "\n",
      "\n",
      "[0.63333, 1.16667, 1.16667, 1.15, 1.31667, 1.51667] \n",
      " [105.4, 105.1, 104.8, 104.45, 104.2, 104.16667]\n",
      "\n",
      "\n"
     ]
    }
   ],
   "source": [
    "for star_name, star_waypoints in STARs.items():\n",
    "    route = []\n",
    "    for waypoints in star_waypoints:\n",
    "        wpt_coordinates = (STAR_SID_waypoints[waypoints])\n",
    "        route.append(wpt_coordinates)\n",
    "    star_lat, star_lon = parse_coordinates(route)\n",
    "    print(star_lat, '\\n', star_lon)\n",
    "    print(\"\\n\")\n",
    "    # star_lat, star_lon = parse_coordinates(route)"
   ]
  },
  {
   "cell_type": "code",
   "execution_count": 9,
   "metadata": {},
   "outputs": [
    {
     "data": {
      "text/plain": [
       "[('003813N', '1052432E'),\n",
       " ('011042N', '1050618E'),\n",
       " ('011019N', '1044818E'),\n",
       " ('010950N', '1042714E'),\n",
       " ('011938N', '1041249E'),\n",
       " ('013122N', '1041018E')]"
      ]
     },
     "execution_count": 9,
     "metadata": {},
     "output_type": "execute_result"
    }
   ],
   "source": [
    "route"
   ]
  },
  {
   "cell_type": "code",
   "execution_count": 10,
   "metadata": {},
   "outputs": [
    {
     "data": {
      "text/plain": [
       "([0.63333, 1.16667, 1.16667, 1.15, 1.31667, 1.51667],\n",
       " [105.4, 105.1, 104.8, 104.45, 104.2, 104.16667])"
      ]
     },
     "execution_count": 10,
     "metadata": {},
     "output_type": "execute_result"
    }
   ],
   "source": [
    "star_lat, star_lon = parse_coordinates(route)\n",
    "star_lat, star_lon"
   ]
  },
  {
   "cell_type": "markdown",
   "metadata": {},
   "source": [
    "### Aerodromes"
   ]
  },
  {
   "cell_type": "markdown",
   "metadata": {},
   "source": [
    "#### WSSS - Singapore Changi Airport"
   ]
  },
  {
   "cell_type": "code",
   "execution_count": 30,
   "metadata": {},
   "outputs": [],
   "source": [
    "WSSS_lat, WSSS_lon = round_latlon(1.359189613098253, 103.98934153635464)\n",
    "\n",
    "# RWY 02L/20R\n",
    "WSSS_02L = [\n",
    "   (round_latlon(1.348860502342621, 103.97769146161956)),\n",
    "   (round_latlon(1.349054807582341, 103.97720033915476)),\n",
    "   (round_latlon(1.376217458893540, 103.98867930690206)),\n",
    "   (round_latlon(1.376008977292466, 103.98916478672038)),\n",
    "   (round_latlon(1.348860502342621, 103.97769146161956))\n",
    "]\n",
    "\n",
    "\n",
    "lat_list_WSSS_02L, lon_list_WSSS_02L = create_latlon_list(WSSS_02L)\n",
    "\n",
    "#  RWY 02C/20C\n",
    "WSSS_02C = [\n",
    "   (round_latlon(1.3287046741333952, 103.98521622453343)),\n",
    "   (round_latlon(1.328872267112968, 103.98472135698383)),\n",
    "   (round_latlon(1.3621357324395549, 103.99876547895391)),\n",
    "   (round_latlon(1.3619269999140773, 103.99924531754634)),\n",
    "   (round_latlon(1.3287046741333952, 103.98521622453343))\n",
    "]\n",
    "\n",
    "lat_list_WSSS_02C, lon_list_WSSS_02C = create_latlon_list(WSSS_02C)\n",
    "\n",
    "# RWY 02R/20L\n",
    "WSSS_02R = [\n",
    "   (round_latlon(1.3224891126717109, 103.99960374943434)),\n",
    "   (round_latlon(1.3222734166294323, 104.00008783502287)),\n",
    "   (round_latlon(1.3555766292118474, 104.01415695079532)),\n",
    "   (round_latlon(1.3557861428974194, 104.01367190285114)),\n",
    "   (round_latlon(1.3224891126717109, 103.99960374943434))\n",
    "]\n",
    "\n",
    "lat_list_WSSS_02R, lon_list_WSSS_02R = create_latlon_list(WSSS_02R)"
   ]
  },
  {
   "cell_type": "markdown",
   "metadata": {},
   "source": [
    "#### WSSL - Seletar Airport"
   ]
  },
  {
   "cell_type": "code",
   "execution_count": 12,
   "metadata": {},
   "outputs": [],
   "source": [
    "WSSL_lat, WSSL_lon = round_latlon(1.4136967080965424, 103.86904111139437)\n",
    "\n",
    "# RWY 03/21\n",
    "WSSL_03 = [\n",
    "   (round_latlon(1.408673537176929, 103.86200363994745)),\n",
    "   (round_latlon(1.408456703041756, 103.86233855856294)),\n",
    "   (round_latlon(1.422326363854819, 103.87140043318387)),\n",
    "   (round_latlon(1.4225502711432483, 103.87106198010089)),\n",
    "   (round_latlon(1.408673537176929, 103.86200363994745))\n",
    "]\n",
    "\n",
    "lat_list_WSSL_03, lon_list_WSSL_03 = create_latlon_list(WSSL_03)"
   ]
  },
  {
   "cell_type": "markdown",
   "metadata": {},
   "source": [
    "#### WSAP - Paya Lebar Air Base"
   ]
  },
  {
   "cell_type": "code",
   "execution_count": 13,
   "metadata": {},
   "outputs": [],
   "source": [
    "WSAP_lat, WSAP_lon = round_latlon(1.352094883242226, 103.90152577664577)\n",
    "\n",
    "# RWY 02/20\n",
    "WSAP_02 = [\n",
    "    (round_latlon(1.3447803949278216, 103.90256530140103)),\n",
    "    (round_latlon(1.3445732371900398, 103.9030578350208)),\n",
    "    (round_latlon(1.3760655064105025, 103.91644498588705)),\n",
    "    (round_latlon(1.3762680078768263, 103.9159719869955)),\n",
    "    (round_latlon(1.3447803949278216, 103.90256530140103))\n",
    "]\n",
    "\n",
    "lat_list_WSAP_02, lon_list_WSAP_02 = create_latlon_list(WSAP_02)"
   ]
  },
  {
   "cell_type": "markdown",
   "metadata": {},
   "source": [
    "#### WSAT - Tengah Air Base"
   ]
  },
  {
   "cell_type": "code",
   "execution_count": 14,
   "metadata": {},
   "outputs": [],
   "source": [
    "WSAT_lat, WSAT_lon = round_latlon(1.385462843457273, 103.71144740297487)\n",
    "\n",
    "# RWY 18/36\n",
    "WSAT_18 = [\n",
    "    (round_latlon(1.3752731999645278, 103.70697211283645)),\n",
    "    (round_latlon(1.375235980861987, 103.70737069097719)),\n",
    "    (round_latlon(1.399991571917424, 103.70951889541763)),\n",
    "    (round_latlon(1.400025205884199, 103.70911920458241)),\n",
    "    (round_latlon(1.3752731999645278, 103.70697211283645))\n",
    "]\n",
    "\n",
    "lat_list_WSAT_18, lon_list_WSAT_18 = create_latlon_list(WSAT_18)\n",
    "\n",
    "# RWY 18/36\n",
    "WSAT_36 = [\n",
    "    (round_latlon(1.386800170550625, 103.69848430518792)),\n",
    "    (round_latlon(1.3867508931521588, 103.69874660816976)),\n",
    "    (round_latlon(1.3973437130401112, 103.70054235799107)),\n",
    "    (round_latlon(1.3973913062258823, 103.70027956545623)),\n",
    "    (round_latlon(1.386800170550625, 103.69848430518792))\n",
    "]\n",
    "lat_list_WSAT_36, lon_list_WSAT_36 = create_latlon_list(WSAT_36)"
   ]
  },
  {
   "cell_type": "markdown",
   "metadata": {},
   "source": [
    "#### WSAG - Sembawang Air Base"
   ]
  },
  {
   "cell_type": "code",
   "execution_count": null,
   "metadata": {},
   "outputs": [],
   "source": [
    "WSAG_lat, WSAG_lon = round_latlon(1.4250523966876878, 103.82021133744765)\n",
    "\n",
    "# RWY 04/22\n",
    "WSAG_04 = [\n",
    "    (round_latlon(1.418568399607689, 103.80439520306064)),\n",
    "    (round_latlon(1.4182792857561743, 103.8047032154432)),\n",
    "    (round_latlon(1.4342411191617723, 103.81932911048153)),\n",
    "    (round_latlon(1.4345202460125308, 103.81902294494982)),\n",
    "    (round_latlon(1.418568399607689, 103.80439520306064))\n",
    "]\n",
    "\n",
    "lat_list_WSAG_04, lon_list_WSAG_04 = create_latlon_list(WSAG_04)\n",
    "\n",
    "# RWY H05/H23 - Helicopter\n",
    "WSAG_H05 = [\n",
    "    (round_latlon(1.42378188191484, 103.81296499850109)),\n",
    "    (round_latlon(1.4235935079284219, 103.8131424004795)),\n",
    "    (round_latlon(1.4292660593821376, 103.81909895043836)),\n",
    "    (round_latlon(1.4294538539377502, 103.81892241387786)),\n",
    "    (round_latlon(1.42378188191484, 103.81296499850109))\n",
    "]\n",
    "lat_list_WSAG_H05, lon_list_WSAG_H05 = create_latlon_list(WSAG_H05)"
   ]
  },
  {
   "cell_type": "markdown",
   "metadata": {},
   "source": [
    "#### Pulau Sudong Military Airstrip"
   ]
  },
  {
   "cell_type": "code",
   "execution_count": 16,
   "metadata": {},
   "outputs": [],
   "source": [
    "sudong_lat, sudong_lon = round_latlon(1.2053925669851036, 103.71955295659919)\n",
    "\n",
    "# RWY 09/27\n",
    "sudong_09 = [\n",
    "    (round_latlon(1.2056387286415973, 103.70991142954433)),\n",
    "    (round_latlon(1.2052480172095386, 103.70991537699803)),\n",
    "    (round_latlon(1.2052517304702854, 103.72862712516758)),\n",
    "    (round_latlon(1.2056462253345117, 103.7286271713864)),\n",
    "    (round_latlon(1.2056387286415973, 103.70991142954433))\n",
    "]\n",
    "\n",
    "lat_list_sudong_09, lon_list_sudong_09 = create_latlon_list(sudong_09)"
   ]
  },
  {
   "cell_type": "markdown",
   "metadata": {},
   "source": [
    "#### WMKJ - Senai Intl Airport"
   ]
  },
  {
   "cell_type": "code",
   "execution_count": 17,
   "metadata": {},
   "outputs": [],
   "source": [
    "WMKJ_lat, WMKJ_lon = round_latlon(1.6356196100740554, 103.66699990520668)\n",
    "\n",
    "# RWY 16/34\n",
    "WMKJ_16 = [\n",
    "    (round_latlon(1.6231851849288097, 103.67554291541757)),\n",
    "    (round_latlon(1.6233170292876669, 103.67591561601094)),\n",
    "    (round_latlon(1.655579824575071, 103.66416903882948)),\n",
    "    (round_latlon(1.6554421729698645, 103.66379838867114)),\n",
    "    (round_latlon(1.6231851849288097, 103.67554291541757))\n",
    "]\n",
    "\n",
    "lat_list_WMKJ_16, lon_list_WMKJ_16 = create_latlon_list(WMKJ_16)"
   ]
  },
  {
   "cell_type": "markdown",
   "metadata": {},
   "source": [
    "#### WIDD - Hang Nadim Intl Airport"
   ]
  },
  {
   "cell_type": "code",
   "execution_count": 18,
   "metadata": {},
   "outputs": [],
   "source": [
    "WIDD_lat, WIDD_lon = round_latlon(1.1201865768779822, 104.11395990919655)\n",
    "\n",
    "# RWY 04/22\n",
    "WIDD_04 = [\n",
    "    (round_latlon(1.1074811935602336, 104.10664452214822)),\n",
    "    (round_latlon(1.1072214951625803, 104.10693869334261)),\n",
    "    (round_latlon(1.1344260137807463, 104.1309419488069)),\n",
    "    (round_latlon(1.1346869751031672, 104.13064648796646)),\n",
    "    (round_latlon(1.1074811935602336, 104.10664452214822))\n",
    "]\n",
    "lat_list_WIDD_04, lon_list_WIDD_04 = create_latlon_list(WIDD_04)"
   ]
  },
  {
   "cell_type": "markdown",
   "metadata": {},
   "source": [
    "#### WIDN - Raja Haji Fisabilillah Intl Airport "
   ]
  },
  {
   "cell_type": "code",
   "execution_count": 19,
   "metadata": {},
   "outputs": [],
   "source": [
    "WIDN_lat, WIDN_lon = round_latlon(0.9238491007025411, 104.53015244650595)\n",
    "\n",
    "# RWY 04/22\n",
    "WIDN_04 = [\n",
    "    (round_latlon(0.9167554692823954, 104.52644320947208)),\n",
    "    (round_latlon(0.9164849781439796, 104.52672786189764)),\n",
    "    (round_latlon(0.9300551317336074, 104.53927669805813)),\n",
    "    (round_latlon(0.9303215504911958, 104.53899093593742)),\n",
    "    (round_latlon(0.9167554692823954, 104.52644320947208))\n",
    "]\n",
    "\n",
    "lat_list_WIDN_04, lon_list_WIDN_04 = create_latlon_list(WIDN_04)"
   ]
  },
  {
   "cell_type": "markdown",
   "metadata": {},
   "source": [
    "#### WIDT - Raja Haji Abdullah Airport"
   ]
  },
  {
   "cell_type": "code",
   "execution_count": 20,
   "metadata": {},
   "outputs": [],
   "source": [
    "WIDT_lat, WIDT_lon = round_latlon(1.0514440421356532, 103.39121781470347)\n",
    "\n",
    "# RWY 09/27\n",
    "WIDT_09 = [\n",
    "    (round_latlon(1.0533824959702007, 103.3848862135349)),\n",
    "    (round_latlon(1.0531307010683926, 103.38487130210696)),\n",
    "    (round_latlon(1.0523973087254361, 103.39777448320025)),\n",
    "    (round_latlon(1.052652736672405, 103.39778725675268)),\n",
    "    (round_latlon(1.0533824959702007, 103.3848862135349))\n",
    "]\n",
    "\n",
    "lat_list_WIDT_09, lon_list_WIDT_09 = create_latlon_list(WIDT_09)"
   ]
  },
  {
   "cell_type": "markdown",
   "metadata": {},
   "source": [
    "### Interactive Map Plot"
   ]
  },
  {
   "cell_type": "code",
   "execution_count": 28,
   "metadata": {},
   "outputs": [
    {
     "data": {
      "application/vnd.plotly.v1+json": {
       "config": {
        "plotlyServerURL": "https://plot.ly"
       },
       "data": [
        {
         "hovertemplate": "📍 %{fullData.name}<extra></extra>",
         "hovertext": "WSSS",
         "lat": [
          1.35919
         ],
         "legendgroup": "changi",
         "legendgrouptitle": {
          "text": "Singapore Changi Airport"
         },
         "lon": [
          103.98934
         ],
         "marker": {
          "color": "dodgerblue",
          "size": 12,
          "symbol": "circle"
         },
         "mode": "markers+text",
         "name": "Singapore Changi Airport (WSSS)",
         "showlegend": true,
         "textposition": "top right",
         "type": "scattermap"
        },
        {
         "fill": "toself",
         "fillcolor": "rgba(0, 0, 255, 0.1)",
         "lat": [
          1.34886,
          1.34905,
          1.37622,
          1.37601,
          1.34886,
          1.34886
         ],
         "legendgroup": "changi",
         "line": {
          "color": "dodgerblue",
          "width": 1.5
         },
         "lon": [
          103.97769,
          103.9772,
          103.98868,
          103.98916,
          103.97769,
          103.97769
         ],
         "mode": "lines",
         "name": "RWY 02L/20R",
         "type": "scattermap"
        },
        {
         "fill": "toself",
         "fillcolor": "rgba(0, 0, 255, 0.1)",
         "lat": [
          1.3287,
          1.32887,
          1.36214,
          1.36193,
          1.3287,
          1.3287
         ],
         "legendgroup": "changi",
         "line": {
          "color": "dodgerblue",
          "width": 1.5
         },
         "lon": [
          103.98522,
          103.98472,
          103.99877,
          103.99925,
          103.98522,
          103.98522
         ],
         "mode": "lines",
         "name": "RWY 02C/20C",
         "type": "scattermap"
        },
        {
         "fill": "toself",
         "fillcolor": "rgba(255, 0, 0, 0.7)",
         "lat": [
          1.32249,
          1.32227,
          1.35558,
          1.35579,
          1.32249,
          1.32249
         ],
         "legendgroup": "changi",
         "line": {
          "color": "red",
          "width": 1.5
         },
         "lon": [
          103.9996,
          104.00009,
          104.01416,
          104.01367,
          103.9996,
          103.9996
         ],
         "mode": "lines",
         "name": "RWY 02R/20L",
         "type": "scattermap"
        },
        {
         "hovertemplate": "📍 %{fullData.name}<extra></extra>",
         "hovertext": "WSSL",
         "lat": [
          1.4137
         ],
         "legendgroup": "seletar",
         "legendgrouptitle": {
          "text": "Seletar Airport"
         },
         "lon": [
          103.86904
         ],
         "marker": {
          "color": "dodgerblue",
          "size": 12,
          "symbol": "circle"
         },
         "mode": "markers+text",
         "name": "Seletar Airport (WSSL)",
         "showlegend": true,
         "textposition": "top right",
         "type": "scattermap"
        },
        {
         "fill": "toself",
         "fillcolor": "rgba(0, 0, 255, 0.1)",
         "lat": [
          1.40867,
          1.40846,
          1.42233,
          1.42255,
          1.40867,
          1.40867
         ],
         "legendgroup": "seletar",
         "line": {
          "color": "dodgerblue",
          "width": 1.5
         },
         "lon": [
          103.862,
          103.86234,
          103.8714,
          103.87106,
          103.862,
          103.862
         ],
         "mode": "lines",
         "name": "RWY 03/21",
         "type": "scattermap"
        },
        {
         "hovertemplate": "📍 %{fullData.name}<extra></extra>",
         "hovertext": "WSAP",
         "lat": [
          1.35209
         ],
         "legendgroup": "payalebar",
         "legendgrouptitle": {
          "text": "Paya Lebar Air Base"
         },
         "lon": [
          103.90153
         ],
         "marker": {
          "color": "dodgerblue",
          "size": 12,
          "symbol": "circle"
         },
         "mode": "markers+text",
         "name": "Paya Lebar Air Base (WSAP)",
         "showlegend": true,
         "textposition": "top right",
         "type": "scattermap"
        },
        {
         "fill": "toself",
         "fillcolor": "rgba(255, 0, 0, 0.7)",
         "lat": [
          1.34478,
          1.34457,
          1.37607,
          1.37627,
          1.34478,
          1.34478
         ],
         "legendgroup": "payalebar",
         "line": {
          "color": "red",
          "width": 1.5
         },
         "lon": [
          103.90257,
          103.90306,
          103.91644,
          103.91597,
          103.90257,
          103.90257
         ],
         "mode": "lines",
         "name": "RWY 02/20",
         "showlegend": true,
         "type": "scattermap"
        },
        {
         "hovertemplate": "📍 %{fullData.name}<extra></extra>",
         "hovertext": "WSAT",
         "lat": [
          1.38546
         ],
         "legendgroup": "tengah",
         "legendgrouptitle": {
          "text": "Tengah Air Base"
         },
         "lon": [
          103.71145
         ],
         "marker": {
          "color": "dodgerblue",
          "size": 12,
          "symbol": "circle"
         },
         "mode": "markers+text",
         "name": "Tengah Air Base (WSAT)",
         "showlegend": true,
         "textposition": "top right",
         "type": "scattermap"
        },
        {
         "fill": "toself",
         "fillcolor": "rgba(255, 0, 0, 0.7)",
         "lat": [
          1.37527,
          1.37524,
          1.39999,
          1.40003,
          1.37527,
          1.37527
         ],
         "legendgroup": "tengah",
         "line": {
          "color": "red",
          "width": 1.5
         },
         "lon": [
          103.70697,
          103.70737,
          103.70952,
          103.70912,
          103.70697,
          103.70697
         ],
         "mode": "lines",
         "name": "RWY 18/36",
         "showlegend": true,
         "type": "scattermap"
        },
        {
         "fill": "toself",
         "fillcolor": "rgba(255, 0, 0, 0.7)",
         "lat": [
          1.3868,
          1.38675,
          1.39734,
          1.39739,
          1.3868,
          1.3868
         ],
         "legendgroup": "tengah",
         "line": {
          "color": "red",
          "width": 1.5
         },
         "lon": [
          103.69848,
          103.69875,
          103.70054,
          103.70028,
          103.69848,
          103.69848
         ],
         "mode": "lines",
         "name": "Military Airstrip",
         "showlegend": true,
         "type": "scattermap"
        },
        {
         "hovertemplate": "📍 %{fullData.name}<extra></extra>",
         "hovertext": "WSAG",
         "lat": [
          1.42505
         ],
         "legendgroup": "sembawang",
         "legendgrouptitle": {
          "text": "Sembawang Air Base"
         },
         "lon": [
          103.82021
         ],
         "marker": {
          "color": "dodgerblue",
          "size": 12,
          "symbol": "circle"
         },
         "mode": "markers+text",
         "name": "Sembawang Air Base (WSAG)",
         "showlegend": true,
         "textposition": "top right",
         "type": "scattermap"
        },
        {
         "fill": "toself",
         "fillcolor": "rgba(255, 0, 0, 0.7)",
         "lat": [
          1.41857,
          1.41828,
          1.43424,
          1.43452,
          1.41857,
          1.41857
         ],
         "legendgroup": "sembawang",
         "line": {
          "color": "red",
          "width": 1.5
         },
         "lon": [
          103.8044,
          103.8047,
          103.81933,
          103.81902,
          103.8044,
          103.8044
         ],
         "mode": "lines",
         "name": "RWY 04/22",
         "showlegend": true,
         "type": "scattermap"
        },
        {
         "fill": "toself",
         "fillcolor": "rgba(255, 0, 0, 0.7)",
         "lat": [
          1.42378,
          1.42359,
          1.42927,
          1.42945,
          1.42378,
          1.42378
         ],
         "legendgroup": "sembawang",
         "line": {
          "color": "red",
          "width": 1.5
         },
         "lon": [
          103.81296,
          103.81314,
          103.8191,
          103.81892,
          103.81296,
          103.81296
         ],
         "mode": "lines",
         "name": "RWY H05/H23",
         "showlegend": true,
         "type": "scattermap"
        },
        {
         "fill": "toself",
         "fillcolor": "rgba(255, 0, 0, 0.7)",
         "lat": [
          1.20564,
          1.20525,
          1.20525,
          1.20565,
          1.20564,
          1.20564
         ],
         "legendgroup": "sudong",
         "legendgrouptitle": {
          "text": "Pulau Sudong Military Airstrip"
         },
         "line": {
          "color": "red",
          "width": 1.5
         },
         "lon": [
          103.70991,
          103.70992,
          103.72863,
          103.72863,
          103.70991,
          103.70991
         ],
         "mode": "lines",
         "name": "RWY 09/27",
         "showlegend": true,
         "type": "scattermap"
        },
        {
         "hovertemplate": "📍 %{fullData.name}<extra></extra>",
         "hovertext": "WMKJ",
         "lat": [
          1.63562
         ],
         "legendgroup": "senai",
         "legendgrouptitle": {
          "text": "Senai Intl Airport"
         },
         "lon": [
          103.667
         ],
         "marker": {
          "color": "dodgerblue",
          "size": 12,
          "symbol": "circle"
         },
         "mode": "markers+text",
         "name": "Senai Intl Airport (WMKJ)",
         "showlegend": true,
         "textposition": "top right",
         "type": "scattermap"
        },
        {
         "fill": "toself",
         "fillcolor": "rgba(0, 0, 255, 0.1)",
         "lat": [
          1.62319,
          1.62332,
          1.65558,
          1.65544,
          1.62319,
          1.62319
         ],
         "legendgroup": "senai",
         "line": {
          "color": "dodgerblue",
          "width": 1.5
         },
         "lon": [
          103.67554,
          103.67592,
          103.66417,
          103.6638,
          103.67554,
          103.67554
         ],
         "mode": "lines",
         "name": "RWY 16/34",
         "showlegend": true,
         "type": "scattermap"
        },
        {
         "hovertemplate": "📍 %{fullData.name}<extra></extra>",
         "hovertext": "WIDD",
         "lat": [
          1.12019
         ],
         "legendgroup": "hangnadim",
         "legendgrouptitle": {
          "text": "Hang Nadim Intl Airport"
         },
         "lon": [
          104.11396
         ],
         "marker": {
          "color": "dodgerblue",
          "size": 12,
          "symbol": "circle"
         },
         "mode": "markers+text",
         "name": "Hang Nadim Intl Airport (WIDD)",
         "showlegend": true,
         "textposition": "top right",
         "type": "scattermap"
        },
        {
         "fill": "toself",
         "fillcolor": "rgba(0, 0, 255, 0.1)",
         "lat": [
          1.10748,
          1.10722,
          1.13443,
          1.13469,
          1.10748,
          1.10748
         ],
         "legendgroup": "hangnadim",
         "line": {
          "color": "dodgerblue",
          "width": 1.5
         },
         "lon": [
          104.10664,
          104.10694,
          104.13094,
          104.13065,
          104.10664,
          104.10664
         ],
         "mode": "lines",
         "name": "RWY 04/22",
         "showlegend": true,
         "type": "scattermap"
        },
        {
         "hovertemplate": "📍 %{fullData.name}<extra></extra>",
         "hovertext": "WIDN",
         "lat": [
          0.92385
         ],
         "legendgroup": "tanjungpinang",
         "legendgrouptitle": {
          "text": "Raja Haji Fisabilillah Intl Airport"
         },
         "lon": [
          104.53015
         ],
         "marker": {
          "color": "dodgerblue",
          "size": 12,
          "symbol": "circle"
         },
         "mode": "markers+text",
         "name": "Raja Haji Fisabilillah Intl Airport (WIDN)",
         "showlegend": true,
         "textposition": "top right",
         "type": "scattermap"
        },
        {
         "fill": "toself",
         "fillcolor": "rgba(0, 0, 255, 0.1)",
         "lat": [
          0.91676,
          0.91648,
          0.93006,
          0.93032,
          0.91676,
          0.91676
         ],
         "legendgroup": "tanjungpinang",
         "line": {
          "color": "dodgerblue",
          "width": 1.5
         },
         "lon": [
          104.52644,
          104.52673,
          104.53928,
          104.53899,
          104.52644,
          104.52644
         ],
         "mode": "lines",
         "name": "RWY 04/22",
         "showlegend": true,
         "type": "scattermap"
        },
        {
         "hovertemplate": "📍 %{fullData.name}<extra></extra>",
         "hovertext": "WIDT",
         "lat": [
          1.05144
         ],
         "legendgroup": "karimun",
         "legendgrouptitle": {
          "text": "Raja Haji Abdullah Airport"
         },
         "lon": [
          103.39122
         ],
         "marker": {
          "color": "dodgerblue",
          "size": 12,
          "symbol": "circle"
         },
         "mode": "markers+text",
         "name": "Raja Haji Abdullah Airport (WIDT)",
         "showlegend": true,
         "textposition": "top right",
         "type": "scattermap"
        },
        {
         "fill": "toself",
         "fillcolor": "rgba(0, 0, 255, 0.1)",
         "lat": [
          1.05338,
          1.05313,
          1.0524,
          1.05265,
          1.05338,
          1.05338
         ],
         "legendgroup": "karimun",
         "line": {
          "color": "dodgerblue",
          "width": 1.5
         },
         "lon": [
          103.38489,
          103.38487,
          103.39777,
          103.39779,
          103.38489,
          103.38489
         ],
         "mode": "lines",
         "name": "RWY 09/27",
         "showlegend": true,
         "type": "scattermap"
        },
        {
         "fill": "toself",
         "fillcolor": "rgba(123, 104, 238, 0.3)",
         "hoverinfo": "skip",
         "lat": [
          0.7,
          0.58333,
          0.26667,
          0,
          0,
          0.16667,
          0.58333,
          0.31667,
          1.53333,
          1.51667,
          1.5,
          1.45,
          1.11667,
          1.25,
          0.7
         ],
         "legendgroup": "SG FIR",
         "legendgrouptitle": {
          "text": "Singapore FIR Sectors"
         },
         "legendrank": 2,
         "line": {
          "color": "grey",
          "width": 1
         },
         "lon": [
          103.86667,
          103.9,
          104.01667,
          104.71667,
          105.05,
          105,
          104.68333,
          105.18333,
          104.38333,
          104.05,
          103.83333,
          103.53333,
          103.85,
          103.35,
          103.86667
         ],
         "mode": "lines",
         "name": "Sector 1",
         "showlegend": true,
         "type": "scattermap"
        },
        {
         "fill": "toself",
         "fillcolor": "rgba(0, 255, 255, 0.3)",
         "hoverinfo": "skip",
         "lat": [
          2,
          1.5,
          1.45,
          1.25,
          1.11667,
          0.7,
          0.58333,
          -0.26667,
          1.56667,
          1.36667,
          1.75,
          1.7,
          2
         ],
         "legendgroup": "SG FIR",
         "line": {
          "color": "grey",
          "width": 1
         },
         "lon": [
          103.8,
          103.83333,
          103.46667,
          103.35,
          103.78333,
          103.86667,
          103.9,
          103.95,
          102.38333,
          103.03333,
          103.21667,
          103.28333,
          103.8
         ],
         "mode": "lines",
         "name": "Sector 2",
         "showlegend": true,
         "type": "scattermap"
        },
        {
         "fill": "toself",
         "fillcolor": "rgba(238, 130, 238, 0.3)",
         "hoverinfo": "skip",
         "lat": [
          3.11667,
          3.11667,
          2.58333,
          1.53333,
          1.51667,
          1.51667,
          1.5,
          2,
          2.36667,
          2.86667,
          2.9,
          3.11667
         ],
         "legendgroup": "SG FIR",
         "line": {
          "color": "grey",
          "width": 1
         },
         "lon": [
          103.73333,
          104.2,
          104.73333,
          104.4,
          104.01667,
          103.98333,
          103.83333,
          103.8,
          103.78333,
          103.55,
          103.76667,
          103.73333
         ],
         "mode": "lines",
         "name": "Sector 3",
         "showlegend": true,
         "type": "scattermap"
        },
        {
         "fill": "toself",
         "fillcolor": "rgba(255, 255, 0, 0.3)",
         "hoverinfo": "skip",
         "lat": [
          2.61667,
          2.65,
          2.5,
          2.55,
          1.41667,
          1.13333,
          0.31667,
          0.58333,
          1.53333,
          2.58333,
          2.61667
         ],
         "legendgroup": "SG FIR",
         "line": {
          "color": "grey",
          "width": 1
         },
         "lon": [
          104.71667,
          104.83333,
          105.5,
          105.8,
          106.26667,
          105.98333,
          105.11667,
          104.68333,
          104.4,
          104.73333,
          104.71667
         ],
         "mode": "lines",
         "name": "Sector 4",
         "showlegend": true,
         "type": "scattermap"
        },
        {
         "fill": "toself",
         "fillcolor": "rgba(100, 149, 237, 0.3)",
         "hoverinfo": "skip",
         "lat": [
          3.9,
          7.68333,
          10.5,
          8.41667,
          2.83333,
          4.95,
          5,
          4.98333,
          4.86667,
          4.63333,
          4.21667,
          3.86667,
          3.9
         ],
         "legendgroup": "SG FIR",
         "line": {
          "color": "grey",
          "width": 1
         },
         "lon": [
          106.56667,
          109.18333,
          114,
          116.5,
          109.26667,
          108.26667,
          108.01667,
          107.91667,
          107.76667,
          107.55,
          107.28333,
          106.58333,
          106.56667
         ],
         "mode": "lines",
         "name": "Sector 5",
         "showlegend": true,
         "type": "scattermap"
        },
        {
         "fill": "toself",
         "fillcolor": "rgba(144, 238, 144, 0.3)",
         "hoverinfo": "skip",
         "lat": [
          3.6,
          4.05,
          4.28333,
          3.86667,
          3.73333,
          3.5,
          3.28333,
          2.55,
          2.5,
          2.65,
          2.61667,
          3.11667,
          3.6
         ],
         "legendgroup": "SG FIR",
         "line": {
          "color": "grey",
          "width": 1
         },
         "lon": [
          104.36667,
          105.76667,
          106.2,
          106.58333,
          106.3,
          105.83333,
          105.48333,
          105.8,
          105.48333,
          104.83333,
          104.71667,
          104.2,
          104.36667
         ],
         "mode": "lines",
         "name": "Sector 6",
         "showlegend": true,
         "type": "scattermap"
        },
        {
         "fill": "toself",
         "fillcolor": "rgba(135, 206, 250, 0.3)",
         "hoverinfo": "skip",
         "lat": [
          4.83333,
          4.86667,
          4.8,
          4.28333,
          4.05,
          3.6,
          3.11667,
          3.11667,
          3.66667,
          4.83333
         ],
         "legendgroup": "SG FIR",
         "line": {
          "color": "grey",
          "width": 1
         },
         "lon": [
          103.73333,
          104.23333,
          105.36667,
          106.2,
          105.76667,
          104.36667,
          104.2,
          103.73333,
          103.66667,
          103.73333
         ],
         "mode": "lines",
         "name": "Sector 7",
         "showlegend": true,
         "type": "scattermap"
        },
        {
         "fill": "toself",
         "fillcolor": "rgba(255, 222, 173, 0.4)",
         "hoverinfo": "skip",
         "lat": [
          6.73333,
          6.98333,
          7,
          7.68333,
          3.9,
          4.28333,
          4.8,
          4.86667,
          4.83333,
          6.73333
         ],
         "legendgroup": "SG FIR",
         "line": {
          "color": "grey",
          "width": 1
         },
         "lon": [
          102.66667,
          102.98333,
          108,
          109.18333,
          106.56667,
          106.2,
          105.36667,
          104.23333,
          103.73333,
          102.66667
         ],
         "mode": "lines",
         "name": "Sector 8",
         "showlegend": true,
         "type": "scattermap"
        },
        {
         "fill": "none",
         "fillcolor": "rgba(255, 0, 0, 0.2)",
         "lat": [
          3.28333,
          1.4,
          0.16667,
          0,
          0,
          -0.18333,
          -0.26667,
          -0.23333,
          -0.11667,
          0.1,
          0.4,
          0.76667,
          1.16667,
          1.56667,
          1.21667,
          1.23333,
          1.2,
          1.16667,
          1.13333,
          1.25,
          1.3,
          1.48333,
          1.31667,
          2.3,
          2.6,
          2.71667,
          2.83333,
          3.28333
         ],
         "legendgroup": "FIR",
         "line": {
          "color": "grey",
          "width": 0.7
         },
         "lon": [
          105.48333,
          106.26667,
          104.93333,
          105.05,
          104.71667,
          104.36667,
          103.96667,
          103.56667,
          103.18333,
          102.85,
          102.58333,
          102.41667,
          102.35,
          102.38333,
          103.5,
          103.51667,
          103.65,
          103.66667,
          103.75,
          104,
          104.5,
          104.56667,
          104.76667,
          105.36667,
          105.21667,
          105.13333,
          105.2,
          105.48333
         ],
         "mode": "lines+markers",
         "name": "JAKARTA FIR",
         "showlegend": true,
         "type": "scattermap"
        },
        {
         "fill": "none",
         "fillcolor": "rgba(255, 0, 0, 0.2)",
         "lat": [
          2.6,
          2.53333,
          6,
          6,
          4.83333,
          3.66667,
          2.6
         ],
         "legendgroup": "FIR",
         "line": {
          "color": "grey",
          "width": 1
         },
         "lon": [
          104.75,
          105,
          105,
          103.08333,
          103.73333,
          103.66667,
          104.75
         ],
         "mode": "lines+markers",
         "name": "KUALA LUMPUR FIR 1",
         "showlegend": true,
         "type": "scattermap"
        },
        {
         "fill": "none",
         "fillcolor": "rgba(255, 0, 0, 0.2)",
         "lat": [
          2.53333,
          6,
          6,
          2.83333,
          4.95,
          5,
          4.98333,
          4.86667,
          4.63333,
          4.21667,
          3.5,
          3.28333,
          3.23333,
          2.83333,
          2.71667,
          2.6,
          2.45,
          2.53333
         ],
         "legendgroup": "FIR",
         "line": {
          "color": "grey",
          "width": 1
         },
         "lon": [
          105,
          105,
          113.33333,
          109.26667,
          108.26667,
          108.01667,
          107.91667,
          107.76667,
          107.55,
          107.28333,
          105.85,
          105.48333,
          105.43333,
          105.2,
          105.13333,
          105.21667,
          105.28333,
          105
         ],
         "mode": "lines+markers",
         "name": "KUALA LUMPUR FIR 2",
         "showlegend": true,
         "type": "scattermap"
        },
        {
         "fill": "none",
         "fillcolor": "rgba(255, 0, 0, 0.2)",
         "lat": [
          8.41667,
          2.83333,
          4.95,
          5,
          4.98333,
          4.86667,
          4.63333,
          4.21667,
          3.5,
          3.28333,
          3.23333,
          2.83333,
          2.71667,
          2.6,
          2.3,
          1.31667,
          1.48333,
          1.3,
          1.25,
          1.13333,
          1.16667,
          1.2,
          1.23333,
          1.28333,
          1.43333,
          1.45,
          1.43333,
          1.46667,
          1.41667,
          1.41667,
          1.43333,
          1.4,
          1.35,
          1.31667,
          1.33333,
          2.6,
          3.66667,
          4.83333,
          6.75,
          7,
          7,
          10.5,
          8.41667
         ],
         "legendgroup": "FIR",
         "legendgrouptitle": {
          "text": "FIR"
         },
         "legendrank": 1,
         "line": {
          "color": "black",
          "width": 1.5
         },
         "lon": [
          116.5,
          109.26667,
          108.26667,
          108.01667,
          107.91667,
          107.76667,
          107.55,
          107.28333,
          105.85,
          105.48333,
          105.43333,
          105.2,
          105.13333,
          105.21667,
          105.36667,
          104.76667,
          104.56667,
          104.5,
          104,
          103.75,
          103.66667,
          103.65,
          103.51667,
          103.6,
          103.66667,
          103.71667,
          103.75,
          103.8,
          103.88333,
          104,
          104.03333,
          104.08333,
          104.06667,
          104.08333,
          104.33333,
          104.75,
          103.66667,
          103.73333,
          102.66667,
          103,
          108,
          114,
          116.5
         ],
         "mode": "lines+markers",
         "name": "SINGAPORE FIR",
         "showlegend": true,
         "type": "scattermap"
        },
        {
         "lat": [
          1
         ],
         "legendgroup": "Waypoints",
         "legendgrouptitle": {
          "text": "Waypoints"
         },
         "lon": [
          103.83333
         ],
         "marker": {
          "color": "royalblue",
          "size": 5
         },
         "mode": "markers+text",
         "name": "ABVIP",
         "showlegend": false,
         "textposition": "top right",
         "type": "scattermap"
        },
        {
         "lat": [
          1.33333
         ],
         "legendgroup": "Waypoints",
         "legendgrouptitle": {
          "text": "Waypoints"
         },
         "lon": [
          103.96667
         ],
         "marker": {
          "color": "royalblue",
          "size": 5
         },
         "mode": "markers+text",
         "name": "ABVON",
         "showlegend": false,
         "textposition": "top right",
         "type": "scattermap"
        },
        {
         "lat": [
          1.26667
         ],
         "legendgroup": "Waypoints",
         "legendgrouptitle": {
          "text": "Waypoints"
         },
         "lon": [
          103.93333
         ],
         "marker": {
          "color": "royalblue",
          "size": 5
         },
         "mode": "markers+text",
         "name": "ADNIK",
         "showlegend": false,
         "textposition": "top right",
         "type": "scattermap"
        },
        {
         "lat": [
          1.2
         ],
         "legendgroup": "Waypoints",
         "legendgrouptitle": {
          "text": "Waypoints"
         },
         "lon": [
          104.08333
         ],
         "marker": {
          "color": "royalblue",
          "size": 5
         },
         "mode": "markers+text",
         "name": "ADPON",
         "showlegend": false,
         "textposition": "top right",
         "type": "scattermap"
        },
        {
         "lat": [
          1.01667
         ],
         "legendgroup": "Waypoints",
         "legendgrouptitle": {
          "text": "Waypoints"
         },
         "lon": [
          103.96667
         ],
         "marker": {
          "color": "royalblue",
          "size": 5
         },
         "mode": "markers+text",
         "name": "AGROT",
         "showlegend": false,
         "textposition": "top right",
         "type": "scattermap"
        },
        {
         "lat": [
          1.78333
         ],
         "legendgroup": "Waypoints",
         "legendgrouptitle": {
          "text": "Waypoints"
         },
         "lon": [
          103.68333
         ],
         "marker": {
          "color": "royalblue",
          "size": 5
         },
         "mode": "markers+text",
         "name": "AGVAR",
         "showlegend": false,
         "textposition": "top right",
         "type": "scattermap"
        },
        {
         "lat": [
          3.48333
         ],
         "legendgroup": "Waypoints",
         "legendgrouptitle": {
          "text": "Waypoints"
         },
         "lon": [
          105.81667
         ],
         "marker": {
          "color": "royalblue",
          "size": 5
         },
         "mode": "markers+text",
         "name": "AKDAT",
         "showlegend": false,
         "textposition": "top right",
         "type": "scattermap"
        },
        {
         "lat": [
          1.21667
         ],
         "legendgroup": "Waypoints",
         "legendgrouptitle": {
          "text": "Waypoints"
         },
         "lon": [
          103.91667
         ],
         "marker": {
          "color": "royalblue",
          "size": 5
         },
         "mode": "markers+text",
         "name": "AKIPO",
         "showlegend": false,
         "textposition": "top right",
         "type": "scattermap"
        },
        {
         "lat": [
          1.88333
         ],
         "legendgroup": "Waypoints",
         "legendgrouptitle": {
          "text": "Waypoints"
         },
         "lon": [
          103.71667
         ],
         "marker": {
          "color": "royalblue",
          "size": 5
         },
         "mode": "markers+text",
         "name": "AKMET",
         "showlegend": false,
         "textposition": "top right",
         "type": "scattermap"
        },
        {
         "lat": [
          8.2
         ],
         "legendgroup": "Waypoints",
         "legendgrouptitle": {
          "text": "Waypoints"
         },
         "lon": [
          110.21667
         ],
         "marker": {
          "color": "royalblue",
          "size": 5
         },
         "mode": "markers+text",
         "name": "AKMON",
         "showlegend": false,
         "textposition": "top right",
         "type": "scattermap"
        },
        {
         "lat": [
          1.75
         ],
         "legendgroup": "Waypoints",
         "legendgrouptitle": {
          "text": "Waypoints"
         },
         "lon": [
          103.9
         ],
         "marker": {
          "color": "royalblue",
          "size": 5
         },
         "mode": "markers+text",
         "name": "AKOMA",
         "showlegend": false,
         "textposition": "top right",
         "type": "scattermap"
        },
        {
         "lat": [
          0.93333
         ],
         "legendgroup": "Waypoints",
         "legendgrouptitle": {
          "text": "Waypoints"
         },
         "lon": [
          104.25
         ],
         "marker": {
          "color": "royalblue",
          "size": 5
         },
         "mode": "markers+text",
         "name": "AKVOM",
         "showlegend": false,
         "textposition": "top right",
         "type": "scattermap"
        },
        {
         "lat": [
          1.25
         ],
         "legendgroup": "Waypoints",
         "legendgrouptitle": {
          "text": "Waypoints"
         },
         "lon": [
          103.35
         ],
         "marker": {
          "color": "royalblue",
          "size": 5
         },
         "mode": "markers+text",
         "name": "ANBUS",
         "showlegend": false,
         "textposition": "top right",
         "type": "scattermap"
        },
        {
         "lat": [
          -0.28333
         ],
         "legendgroup": "Waypoints",
         "legendgrouptitle": {
          "text": "Waypoints"
         },
         "lon": [
          104.86667
         ],
         "marker": {
          "color": "royalblue",
          "size": 5
         },
         "mode": "markers+text",
         "name": "ANITO",
         "showlegend": false,
         "textposition": "top right",
         "type": "scattermap"
        },
        {
         "lat": [
          1.16667
         ],
         "legendgroup": "Waypoints",
         "legendgrouptitle": {
          "text": "Waypoints"
         },
         "lon": [
          103.9
         ],
         "marker": {
          "color": "royalblue",
          "size": 5
         },
         "mode": "markers+text",
         "name": "ANUMA",
         "showlegend": false,
         "textposition": "top right",
         "type": "scattermap"
        },
        {
         "lat": [
          1.1
         ],
         "legendgroup": "Waypoints",
         "legendgrouptitle": {
          "text": "Waypoints"
         },
         "lon": [
          103.86667
         ],
         "marker": {
          "color": "royalblue",
          "size": 5
         },
         "mode": "markers+text",
         "name": "APIPA",
         "showlegend": false,
         "textposition": "top right",
         "type": "scattermap"
        },
        {
         "lat": [
          1.6
         ],
         "legendgroup": "Waypoints",
         "legendgrouptitle": {
          "text": "Waypoints"
         },
         "lon": [
          103.11667
         ],
         "marker": {
          "color": "royalblue",
          "size": 5
         },
         "mode": "markers+text",
         "name": "ARAMA",
         "showlegend": false,
         "textposition": "top right",
         "type": "scattermap"
        },
        {
         "lat": [
          2.13333
         ],
         "legendgroup": "Waypoints",
         "legendgrouptitle": {
          "text": "Waypoints"
         },
         "lon": [
          103.4
         ],
         "marker": {
          "color": "royalblue",
          "size": 5
         },
         "mode": "markers+text",
         "name": "AROSO",
         "showlegend": false,
         "textposition": "top right",
         "type": "scattermap"
        },
        {
         "lat": [
          5.98333
         ],
         "legendgroup": "Waypoints",
         "legendgrouptitle": {
          "text": "Waypoints"
         },
         "lon": [
          113.33333
         ],
         "marker": {
          "color": "royalblue",
          "size": 5
         },
         "mode": "markers+text",
         "name": "ASISU",
         "showlegend": false,
         "textposition": "top right",
         "type": "scattermap"
        },
        {
         "lat": [
          0.81667
         ],
         "legendgroup": "Waypoints",
         "legendgrouptitle": {
          "text": "Waypoints"
         },
         "lon": [
          103.83333
         ],
         "marker": {
          "color": "royalblue",
          "size": 5
         },
         "mode": "markers+text",
         "name": "ASITI",
         "showlegend": false,
         "textposition": "top right",
         "type": "scattermap"
        },
        {
         "lat": [
          1.01667
         ],
         "legendgroup": "Waypoints",
         "legendgrouptitle": {
          "text": "Waypoints"
         },
         "lon": [
          104.03333
         ],
         "marker": {
          "color": "royalblue",
          "size": 5
         },
         "mode": "markers+text",
         "name": "ASOMI",
         "showlegend": false,
         "textposition": "top right",
         "type": "scattermap"
        },
        {
         "lat": [
          0.98333
         ],
         "legendgroup": "Waypoints",
         "legendgrouptitle": {
          "text": "Waypoints"
         },
         "lon": [
          103.15
         ],
         "marker": {
          "color": "royalblue",
          "size": 5
         },
         "mode": "markers+text",
         "name": "ASUNA",
         "showlegend": false,
         "textposition": "top right",
         "type": "scattermap"
        },
        {
         "lat": [
          1.05
         ],
         "legendgroup": "Waypoints",
         "legendgrouptitle": {
          "text": "Waypoints"
         },
         "lon": [
          103.55
         ],
         "marker": {
          "color": "royalblue",
          "size": 5
         },
         "mode": "markers+text",
         "name": "ATLEX",
         "showlegend": false,
         "textposition": "top right",
         "type": "scattermap"
        },
        {
         "lat": [
          1.18333
         ],
         "legendgroup": "Waypoints",
         "legendgrouptitle": {
          "text": "Waypoints"
         },
         "lon": [
          103.86667
         ],
         "marker": {
          "color": "royalblue",
          "size": 5
         },
         "mode": "markers+text",
         "name": "ATLIR",
         "showlegend": false,
         "textposition": "top right",
         "type": "scattermap"
        },
        {
         "lat": [
          0.4
         ],
         "legendgroup": "Waypoints",
         "legendgrouptitle": {
          "text": "Waypoints"
         },
         "lon": [
          105.35
         ],
         "marker": {
          "color": "royalblue",
          "size": 5
         },
         "mode": "markers+text",
         "name": "ATPOM",
         "showlegend": false,
         "textposition": "top right",
         "type": "scattermap"
        },
        {
         "lat": [
          1.53333
         ],
         "legendgroup": "Waypoints",
         "legendgrouptitle": {
          "text": "Waypoints"
         },
         "lon": [
          104
         ],
         "marker": {
          "color": "royalblue",
          "size": 5
         },
         "mode": "markers+text",
         "name": "ATRUM",
         "showlegend": false,
         "textposition": "top right",
         "type": "scattermap"
        },
        {
         "lat": [
          -0.51667
         ],
         "legendgroup": "Waypoints",
         "legendgrouptitle": {
          "text": "Waypoints"
         },
         "lon": [
          104.41667
         ],
         "marker": {
          "color": "royalblue",
          "size": 5
         },
         "mode": "markers+text",
         "name": "AVLUB",
         "showlegend": false,
         "textposition": "top right",
         "type": "scattermap"
        },
        {
         "lat": [
          1.2
         ],
         "legendgroup": "Waypoints",
         "legendgrouptitle": {
          "text": "Waypoints"
         },
         "lon": [
          103.88333
         ],
         "marker": {
          "color": "royalblue",
          "size": 5
         },
         "mode": "markers+text",
         "name": "AVPIV",
         "showlegend": false,
         "textposition": "top right",
         "type": "scattermap"
        },
        {
         "lat": [
          0.75
         ],
         "legendgroup": "Waypoints",
         "legendgrouptitle": {
          "text": "Waypoints"
         },
         "lon": [
          104.03333
         ],
         "marker": {
          "color": "royalblue",
          "size": 5
         },
         "mode": "markers+text",
         "name": "BAVAL",
         "showlegend": false,
         "textposition": "top right",
         "type": "scattermap"
        },
        {
         "lat": [
          1.55
         ],
         "legendgroup": "Waypoints",
         "legendgrouptitle": {
          "text": "Waypoints"
         },
         "lon": [
          103.88333
         ],
         "marker": {
          "color": "royalblue",
          "size": 5
         },
         "mode": "markers+text",
         "name": "BETBA",
         "showlegend": false,
         "textposition": "top right",
         "type": "scattermap"
        },
        {
         "lat": [
          2.71667
         ],
         "legendgroup": "Waypoints",
         "legendgrouptitle": {
          "text": "Waypoints"
         },
         "lon": [
          104.1
         ],
         "marker": {
          "color": "royalblue",
          "size": 5
         },
         "mode": "markers+text",
         "name": "BIBVI",
         "showlegend": false,
         "textposition": "top right",
         "type": "scattermap"
        },
        {
         "lat": [
          7.51667
         ],
         "legendgroup": "Waypoints",
         "legendgrouptitle": {
          "text": "Waypoints"
         },
         "lon": [
          113.91667
         ],
         "marker": {
          "color": "royalblue",
          "size": 5
         },
         "mode": "markers+text",
         "name": "BIDAG",
         "showlegend": false,
         "textposition": "top right",
         "type": "scattermap"
        },
        {
         "lat": [
          1.58333
         ],
         "legendgroup": "Waypoints",
         "legendgrouptitle": {
          "text": "Waypoints"
         },
         "lon": [
          103.95
         ],
         "marker": {
          "color": "royalblue",
          "size": 5
         },
         "mode": "markers+text",
         "name": "BIDUS",
         "showlegend": false,
         "textposition": "top right",
         "type": "scattermap"
        },
        {
         "lat": [
          2.71667
         ],
         "legendgroup": "Waypoints",
         "legendgrouptitle": {
          "text": "Waypoints"
         },
         "lon": [
          103.71667
         ],
         "marker": {
          "color": "royalblue",
          "size": 5
         },
         "mode": "markers+text",
         "name": "BIKTA",
         "showlegend": false,
         "textposition": "top right",
         "type": "scattermap"
        },
        {
         "lat": [
          1.25
         ],
         "legendgroup": "Waypoints",
         "legendgrouptitle": {
          "text": "Waypoints"
         },
         "lon": [
          103.96667
         ],
         "marker": {
          "color": "royalblue",
          "size": 5
         },
         "mode": "markers+text",
         "name": "BIMOS",
         "showlegend": false,
         "textposition": "top right",
         "type": "scattermap"
        },
        {
         "lat": [
          1.51667
         ],
         "legendgroup": "Waypoints",
         "legendgrouptitle": {
          "text": "Waypoints"
         },
         "lon": [
          104.16667
         ],
         "marker": {
          "color": "royalblue",
          "size": 5
         },
         "mode": "markers+text",
         "name": "BIPOP",
         "showlegend": false,
         "textposition": "top right",
         "type": "scattermap"
        },
        {
         "lat": [
          0.7
         ],
         "legendgroup": "Waypoints",
         "legendgrouptitle": {
          "text": "Waypoints"
         },
         "lon": [
          102.86667
         ],
         "marker": {
          "color": "royalblue",
          "size": 5
         },
         "mode": "markers+text",
         "name": "BISOV",
         "showlegend": false,
         "textposition": "top right",
         "type": "scattermap"
        },
        {
         "lat": [
          1.2
         ],
         "legendgroup": "Waypoints",
         "legendgrouptitle": {
          "text": "Waypoints"
         },
         "lon": [
          103.95
         ],
         "marker": {
          "color": "royalblue",
          "size": 5
         },
         "mode": "markers+text",
         "name": "BISUT",
         "showlegend": false,
         "textposition": "top right",
         "type": "scattermap"
        },
        {
         "lat": [
          1.13333
         ],
         "legendgroup": "Waypoints",
         "legendgrouptitle": {
          "text": "Waypoints"
         },
         "lon": [
          104.11667
         ],
         "marker": {
          "color": "royalblue",
          "size": 5
         },
         "mode": "markers+text",
         "name": "BITAM",
         "showlegend": false,
         "textposition": "top right",
         "type": "scattermap"
        },
        {
         "lat": [
          1.03333
         ],
         "legendgroup": "Waypoints",
         "legendgrouptitle": {
          "text": "Waypoints"
         },
         "lon": [
          103.48333
         ],
         "marker": {
          "color": "royalblue",
          "size": 5
         },
         "mode": "markers+text",
         "name": "BOBAG",
         "showlegend": false,
         "textposition": "top right",
         "type": "scattermap"
        },
        {
         "lat": [
          2.36667
         ],
         "legendgroup": "Waypoints",
         "legendgrouptitle": {
          "text": "Waypoints"
         },
         "lon": [
          107.08333
         ],
         "marker": {
          "color": "royalblue",
          "size": 5
         },
         "mode": "markers+text",
         "name": "BOBOB",
         "showlegend": false,
         "textposition": "top right",
         "type": "scattermap"
        },
        {
         "lat": [
          1.31667
         ],
         "legendgroup": "Waypoints",
         "legendgrouptitle": {
          "text": "Waypoints"
         },
         "lon": [
          103.61667
         ],
         "marker": {
          "color": "royalblue",
          "size": 5
         },
         "mode": "markers+text",
         "name": "BONSU",
         "showlegend": false,
         "textposition": "top right",
         "type": "scattermap"
        },
        {
         "lat": [
          2.88333
         ],
         "legendgroup": "Waypoints",
         "legendgrouptitle": {
          "text": "Waypoints"
         },
         "lon": [
          105.21667
         ],
         "marker": {
          "color": "royalblue",
          "size": 5
         },
         "mode": "markers+text",
         "name": "BOPVA",
         "showlegend": false,
         "textposition": "top right",
         "type": "scattermap"
        },
        {
         "lat": [
          2.7
         ],
         "legendgroup": "Waypoints",
         "legendgrouptitle": {
          "text": "Waypoints"
         },
         "lon": [
          106
         ],
         "marker": {
          "color": "royalblue",
          "size": 5
         },
         "mode": "markers+text",
         "name": "BUNTO",
         "showlegend": false,
         "textposition": "top right",
         "type": "scattermap"
        },
        {
         "lat": [
          3.6
         ],
         "legendgroup": "Waypoints",
         "legendgrouptitle": {
          "text": "Waypoints"
         },
         "lon": [
          103.71667
         ],
         "marker": {
          "color": "royalblue",
          "size": 5
         },
         "mode": "markers+text",
         "name": "BUVAL",
         "showlegend": false,
         "textposition": "top right",
         "type": "scattermap"
        },
        {
         "lat": [
          7.13333
         ],
         "legendgroup": "Waypoints",
         "legendgrouptitle": {
          "text": "Waypoints"
         },
         "lon": [
          114.83333
         ],
         "marker": {
          "color": "royalblue",
          "size": 5
         },
         "mode": "markers+text",
         "name": "DAKIX",
         "showlegend": false,
         "textposition": "top right",
         "type": "scattermap"
        },
        {
         "lat": [
          4.2
         ],
         "legendgroup": "Waypoints",
         "legendgrouptitle": {
          "text": "Waypoints"
         },
         "lon": [
          105
         ],
         "marker": {
          "color": "royalblue",
          "size": 5
         },
         "mode": "markers+text",
         "name": "DAMOG",
         "showlegend": false,
         "textposition": "top right",
         "type": "scattermap"
        },
        {
         "lat": [
          1.36667
         ],
         "legendgroup": "Waypoints",
         "legendgrouptitle": {
          "text": "Waypoints"
         },
         "lon": [
          106.23333
         ],
         "marker": {
          "color": "royalblue",
          "size": 5
         },
         "mode": "markers+text",
         "name": "DODSO",
         "showlegend": false,
         "textposition": "top right",
         "type": "scattermap"
        },
        {
         "lat": [
          4.8
         ],
         "legendgroup": "Waypoints",
         "legendgrouptitle": {
          "text": "Waypoints"
         },
         "lon": [
          105.36667
         ],
         "marker": {
          "color": "royalblue",
          "size": 5
         },
         "mode": "markers+text",
         "name": "DOLOX",
         "showlegend": false,
         "textposition": "top right",
         "type": "scattermap"
        },
        {
         "lat": [
          1.31667
         ],
         "legendgroup": "Waypoints",
         "legendgrouptitle": {
          "text": "Waypoints"
         },
         "lon": [
          104.2
         ],
         "marker": {
          "color": "royalblue",
          "size": 5
         },
         "mode": "markers+text",
         "name": "DOVAN",
         "showlegend": false,
         "textposition": "top right",
         "type": "scattermap"
        },
        {
         "lat": [
          3.5
         ],
         "legendgroup": "Waypoints",
         "legendgrouptitle": {
          "text": "Waypoints"
         },
         "lon": [
          103.81667
         ],
         "marker": {
          "color": "royalblue",
          "size": 5
         },
         "mode": "markers+text",
         "name": "DOVOL",
         "showlegend": false,
         "textposition": "top right",
         "type": "scattermap"
        },
        {
         "lat": [
          1.31667
         ],
         "legendgroup": "Waypoints",
         "legendgrouptitle": {
          "text": "Waypoints"
         },
         "lon": [
          104.5
         ],
         "marker": {
          "color": "royalblue",
          "size": 5
         },
         "mode": "markers+text",
         "name": "DOWON",
         "showlegend": false,
         "textposition": "top right",
         "type": "scattermap"
        },
        {
         "lat": [
          1.13333
         ],
         "legendgroup": "Waypoints",
         "legendgrouptitle": {
          "text": "Waypoints"
         },
         "lon": [
          104.01667
         ],
         "marker": {
          "color": "royalblue",
          "size": 5
         },
         "mode": "markers+text",
         "name": "DUBOT",
         "showlegend": false,
         "textposition": "top right",
         "type": "scattermap"
        },
        {
         "lat": [
          3.81667
         ],
         "legendgroup": "Waypoints",
         "legendgrouptitle": {
          "text": "Waypoints"
         },
         "lon": [
          104.75
         ],
         "marker": {
          "color": "royalblue",
          "size": 5
         },
         "mode": "markers+text",
         "name": "DUBSA",
         "showlegend": false,
         "textposition": "top right",
         "type": "scattermap"
        },
        {
         "lat": [
          7
         ],
         "legendgroup": "Waypoints",
         "legendgrouptitle": {
          "text": "Waypoints"
         },
         "lon": [
          106.8
         ],
         "marker": {
          "color": "royalblue",
          "size": 5
         },
         "mode": "markers+text",
         "name": "DUDIS",
         "showlegend": false,
         "textposition": "top right",
         "type": "scattermap"
        },
        {
         "lat": [
          0.9
         ],
         "legendgroup": "Waypoints",
         "legendgrouptitle": {
          "text": "Waypoints"
         },
         "lon": [
          103.91667
         ],
         "marker": {
          "color": "royalblue",
          "size": 5
         },
         "mode": "markers+text",
         "name": "DUMUP",
         "showlegend": false,
         "textposition": "top right",
         "type": "scattermap"
        },
        {
         "lat": [
          3.31667
         ],
         "legendgroup": "Waypoints",
         "legendgrouptitle": {
          "text": "Waypoints"
         },
         "lon": [
          104
         ],
         "marker": {
          "color": "royalblue",
          "size": 5
         },
         "mode": "markers+text",
         "name": "EGOLO",
         "showlegend": false,
         "textposition": "top right",
         "type": "scattermap"
        },
        {
         "lat": [
          1.6
         ],
         "legendgroup": "Waypoints",
         "legendgrouptitle": {
          "text": "Waypoints"
         },
         "lon": [
          104.1
         ],
         "marker": {
          "color": "royalblue",
          "size": 5
         },
         "mode": "markers+text",
         "name": "EGORA",
         "showlegend": false,
         "textposition": "top right",
         "type": "scattermap"
        },
        {
         "lat": [
          4.2
         ],
         "legendgroup": "Waypoints",
         "legendgrouptitle": {
          "text": "Waypoints"
         },
         "lon": [
          104.55
         ],
         "marker": {
          "color": "royalblue",
          "size": 5
         },
         "mode": "markers+text",
         "name": "ELALO",
         "showlegend": false,
         "textposition": "top right",
         "type": "scattermap"
        },
        {
         "lat": [
          1.56667
         ],
         "legendgroup": "Waypoints",
         "legendgrouptitle": {
          "text": "Waypoints"
         },
         "lon": [
          104.08333
         ],
         "marker": {
          "color": "royalblue",
          "size": 5
         },
         "mode": "markers+text",
         "name": "ELALU",
         "showlegend": false,
         "textposition": "top right",
         "type": "scattermap"
        },
        {
         "lat": [
          1.46667
         ],
         "legendgroup": "Waypoints",
         "legendgrouptitle": {
          "text": "Waypoints"
         },
         "lon": [
          104.03333
         ],
         "marker": {
          "color": "royalblue",
          "size": 5
         },
         "mode": "markers+text",
         "name": "ELBEB",
         "showlegend": false,
         "textposition": "top right",
         "type": "scattermap"
        },
        {
         "lat": [
          1.51667
         ],
         "legendgroup": "Waypoints",
         "legendgrouptitle": {
          "text": "Waypoints"
         },
         "lon": [
          104.05
         ],
         "marker": {
          "color": "royalblue",
          "size": 5
         },
         "mode": "markers+text",
         "name": "ELBEX",
         "showlegend": false,
         "textposition": "top right",
         "type": "scattermap"
        },
        {
         "lat": [
          1.46667
         ],
         "legendgroup": "Waypoints",
         "legendgrouptitle": {
          "text": "Waypoints"
         },
         "lon": [
          104.01667
         ],
         "marker": {
          "color": "royalblue",
          "size": 5
         },
         "mode": "markers+text",
         "name": "ELGAP",
         "showlegend": false,
         "textposition": "top right",
         "type": "scattermap"
        },
        {
         "lat": [
          3.5
         ],
         "legendgroup": "Waypoints",
         "legendgrouptitle": {
          "text": "Waypoints"
         },
         "lon": [
          105.8
         ],
         "marker": {
          "color": "royalblue",
          "size": 5
         },
         "mode": "markers+text",
         "name": "ELGOR",
         "showlegend": false,
         "textposition": "top right",
         "type": "scattermap"
        },
        {
         "lat": [
          1.41667
         ],
         "legendgroup": "Waypoints",
         "legendgrouptitle": {
          "text": "Waypoints"
         },
         "lon": [
          104.01667
         ],
         "marker": {
          "color": "royalblue",
          "size": 5
         },
         "mode": "markers+text",
         "name": "ELMIN",
         "showlegend": false,
         "textposition": "top right",
         "type": "scattermap"
        },
        {
         "lat": [
          1.43333
         ],
         "legendgroup": "Waypoints",
         "legendgrouptitle": {
          "text": "Waypoints"
         },
         "lon": [
          104.16667
         ],
         "marker": {
          "color": "royalblue",
          "size": 5
         },
         "mode": "markers+text",
         "name": "EMRIX",
         "showlegend": false,
         "textposition": "top right",
         "type": "scattermap"
        },
        {
         "lat": [
          0.98333
         ],
         "legendgroup": "Waypoints",
         "legendgrouptitle": {
          "text": "Waypoints"
         },
         "lon": [
          103.9
         ],
         "marker": {
          "color": "royalblue",
          "size": 5
         },
         "mode": "markers+text",
         "name": "EMSIB",
         "showlegend": false,
         "textposition": "top right",
         "type": "scattermap"
        },
        {
         "lat": [
          2.76667
         ],
         "legendgroup": "Waypoints",
         "legendgrouptitle": {
          "text": "Waypoints"
         },
         "lon": [
          105.16667
         ],
         "marker": {
          "color": "royalblue",
          "size": 5
         },
         "mode": "markers+text",
         "name": "EMSUX",
         "showlegend": false,
         "textposition": "top right",
         "type": "scattermap"
        },
        {
         "lat": [
          1.26667
         ],
         "legendgroup": "Waypoints",
         "legendgrouptitle": {
          "text": "Waypoints"
         },
         "lon": [
          103.93333
         ],
         "marker": {
          "color": "royalblue",
          "size": 5
         },
         "mode": "markers+text",
         "name": "EMTAP",
         "showlegend": false,
         "textposition": "top right",
         "type": "scattermap"
        },
        {
         "lat": [
          1.15
         ],
         "legendgroup": "Waypoints",
         "legendgrouptitle": {
          "text": "Waypoints"
         },
         "lon": [
          103.88333
         ],
         "marker": {
          "color": "royalblue",
          "size": 5
         },
         "mode": "markers+text",
         "name": "ENLES",
         "showlegend": false,
         "textposition": "top right",
         "type": "scattermap"
        },
        {
         "lat": [
          -0.46667
         ],
         "legendgroup": "Waypoints",
         "legendgrouptitle": {
          "text": "Waypoints"
         },
         "lon": [
          104.56667
         ],
         "marker": {
          "color": "royalblue",
          "size": 5
         },
         "mode": "markers+text",
         "name": "ENPUX",
         "showlegend": false,
         "textposition": "top right",
         "type": "scattermap"
        },
        {
         "lat": [
          4.86667
         ],
         "legendgroup": "Waypoints",
         "legendgrouptitle": {
          "text": "Waypoints"
         },
         "lon": [
          104.23333
         ],
         "marker": {
          "color": "royalblue",
          "size": 5
         },
         "mode": "markers+text",
         "name": "ENREP",
         "showlegend": false,
         "textposition": "top right",
         "type": "scattermap"
        },
        {
         "lat": [
          1.43333
         ],
         "legendgroup": "Waypoints",
         "legendgrouptitle": {
          "text": "Waypoints"
         },
         "lon": [
          104
         ],
         "marker": {
          "color": "royalblue",
          "size": 5
         },
         "mode": "markers+text",
         "name": "ENSUN",
         "showlegend": false,
         "textposition": "top right",
         "type": "scattermap"
        },
        {
         "lat": [
          1.25
         ],
         "legendgroup": "Waypoints",
         "legendgrouptitle": {
          "text": "Waypoints"
         },
         "lon": [
          104.08333
         ],
         "marker": {
          "color": "royalblue",
          "size": 5
         },
         "mode": "markers+text",
         "name": "ENVUM",
         "showlegend": false,
         "textposition": "top right",
         "type": "scattermap"
        },
        {
         "lat": [
          1.06667
         ],
         "legendgroup": "Waypoints",
         "legendgrouptitle": {
          "text": "Waypoints"
         },
         "lon": [
          104.16667
         ],
         "marker": {
          "color": "royalblue",
          "size": 5
         },
         "mode": "markers+text",
         "name": "ERVIV",
         "showlegend": false,
         "textposition": "top right",
         "type": "scattermap"
        },
        {
         "lat": [
          1.18333
         ],
         "legendgroup": "Waypoints",
         "legendgrouptitle": {
          "text": "Waypoints"
         },
         "lon": [
          103.9
         ],
         "marker": {
          "color": "royalblue",
          "size": 5
         },
         "mode": "markers+text",
         "name": "ERVOT",
         "showlegend": false,
         "textposition": "top right",
         "type": "scattermap"
        },
        {
         "lat": [
          1.36667
         ],
         "legendgroup": "Waypoints",
         "legendgrouptitle": {
          "text": "Waypoints"
         },
         "lon": [
          104
         ],
         "marker": {
          "color": "royalblue",
          "size": 5
         },
         "mode": "markers+text",
         "name": "ESBIT",
         "showlegend": false,
         "textposition": "top right",
         "type": "scattermap"
        },
        {
         "lat": [
          4.86667
         ],
         "legendgroup": "Waypoints",
         "legendgrouptitle": {
          "text": "Waypoints"
         },
         "lon": [
          104.46667
         ],
         "marker": {
          "color": "royalblue",
          "size": 5
         },
         "mode": "markers+text",
         "name": "ESBUM",
         "showlegend": false,
         "textposition": "top right",
         "type": "scattermap"
        },
        {
         "lat": [
          1.3
         ],
         "legendgroup": "Waypoints",
         "legendgrouptitle": {
          "text": "Waypoints"
         },
         "lon": [
          103.96667
         ],
         "marker": {
          "color": "royalblue",
          "size": 5
         },
         "mode": "markers+text",
         "name": "ESLUX",
         "showlegend": false,
         "textposition": "top right",
         "type": "scattermap"
        },
        {
         "lat": [
          7
         ],
         "legendgroup": "Waypoints",
         "legendgrouptitle": {
          "text": "Waypoints"
         },
         "lon": [
          105.55
         ],
         "marker": {
          "color": "royalblue",
          "size": 5
         },
         "mode": "markers+text",
         "name": "ESPOB",
         "showlegend": false,
         "textposition": "top right",
         "type": "scattermap"
        },
        {
         "lat": [
          1.06667
         ],
         "legendgroup": "Waypoints",
         "legendgrouptitle": {
          "text": "Waypoints"
         },
         "lon": [
          104.15
         ],
         "marker": {
          "color": "royalblue",
          "size": 5
         },
         "mode": "markers+text",
         "name": "EXOMO",
         "showlegend": false,
         "textposition": "top right",
         "type": "scattermap"
        },
        {
         "lat": [
          0.81667
         ],
         "legendgroup": "Waypoints",
         "legendgrouptitle": {
          "text": "Waypoints"
         },
         "lon": [
          104.41667
         ],
         "marker": {
          "color": "royalblue",
          "size": 5
         },
         "mode": "markers+text",
         "name": "GIXEM",
         "showlegend": false,
         "textposition": "top right",
         "type": "scattermap"
        },
        {
         "lat": [
          1.33333
         ],
         "legendgroup": "Waypoints",
         "legendgrouptitle": {
          "text": "Waypoints"
         },
         "lon": [
          104.7
         ],
         "marker": {
          "color": "royalblue",
          "size": 5
         },
         "mode": "markers+text",
         "name": "GOTGA",
         "showlegend": false,
         "textposition": "top right",
         "type": "scattermap"
        },
        {
         "lat": [
          4.01667
         ],
         "legendgroup": "Waypoints",
         "legendgrouptitle": {
          "text": "Waypoints"
         },
         "lon": [
          108.7
         ],
         "marker": {
          "color": "royalblue",
          "size": 5
         },
         "mode": "markers+text",
         "name": "GULGU",
         "showlegend": false,
         "textposition": "top right",
         "type": "scattermap"
        },
        {
         "lat": [
          4.28333
         ],
         "legendgroup": "Waypoints",
         "legendgrouptitle": {
          "text": "Waypoints"
         },
         "lon": [
          111.1
         ],
         "marker": {
          "color": "royalblue",
          "size": 5
         },
         "mode": "markers+text",
         "name": "GULIB",
         "showlegend": false,
         "textposition": "top right",
         "type": "scattermap"
        },
        {
         "lat": [
          1.5
         ],
         "legendgroup": "Waypoints",
         "legendgrouptitle": {
          "text": "Waypoints"
         },
         "lon": [
          103.7
         ],
         "marker": {
          "color": "royalblue",
          "size": 5
         },
         "mode": "markers+text",
         "name": "GUMPU",
         "showlegend": false,
         "textposition": "top right",
         "type": "scattermap"
        },
        {
         "lat": [
          1.16667
         ],
         "legendgroup": "Waypoints",
         "legendgrouptitle": {
          "text": "Waypoints"
         },
         "lon": [
          105.1
         ],
         "marker": {
          "color": "royalblue",
          "size": 5
         },
         "mode": "markers+text",
         "name": "GUNUD",
         "showlegend": false,
         "textposition": "top right",
         "type": "scattermap"
        },
        {
         "lat": [
          0.46667
         ],
         "legendgroup": "Waypoints",
         "legendgrouptitle": {
          "text": "Waypoints"
         },
         "lon": [
          104.63333
         ],
         "marker": {
          "color": "royalblue",
          "size": 5
         },
         "mode": "markers+text",
         "name": "GURES",
         "showlegend": false,
         "textposition": "top right",
         "type": "scattermap"
        },
        {
         "lat": [
          4.98333
         ],
         "legendgroup": "Waypoints",
         "legendgrouptitle": {
          "text": "Waypoints"
         },
         "lon": [
          107.93333
         ],
         "marker": {
          "color": "royalblue",
          "size": 5
         },
         "mode": "markers+text",
         "name": "GUTUP",
         "showlegend": false,
         "textposition": "top right",
         "type": "scattermap"
        },
        {
         "lat": [
          1.31667
         ],
         "legendgroup": "Waypoints",
         "legendgrouptitle": {
          "text": "Waypoints"
         },
         "lon": [
          104.4
         ],
         "marker": {
          "color": "royalblue",
          "size": 5
         },
         "mode": "markers+text",
         "name": "HOSBA",
         "showlegend": false,
         "textposition": "top right",
         "type": "scattermap"
        },
        {
         "lat": [
          0.95
         ],
         "legendgroup": "Waypoints",
         "legendgrouptitle": {
          "text": "Waypoints"
         },
         "lon": [
          103.56667
         ],
         "marker": {
          "color": "royalblue",
          "size": 5
         },
         "mode": "markers+text",
         "name": "IBASU",
         "showlegend": false,
         "textposition": "top right",
         "type": "scattermap"
        },
        {
         "lat": [
          1.21667
         ],
         "legendgroup": "Waypoints",
         "legendgrouptitle": {
          "text": "Waypoints"
         },
         "lon": [
          103.93333
         ],
         "marker": {
          "color": "royalblue",
          "size": 5
         },
         "mode": "markers+text",
         "name": "IBIVA",
         "showlegend": false,
         "textposition": "top right",
         "type": "scattermap"
        },
        {
         "lat": [
          1.26667
         ],
         "legendgroup": "Waypoints",
         "legendgrouptitle": {
          "text": "Waypoints"
         },
         "lon": [
          103.95
         ],
         "marker": {
          "color": "royalblue",
          "size": 5
         },
         "mode": "markers+text",
         "name": "IBIXU",
         "showlegend": false,
         "textposition": "top right",
         "type": "scattermap"
        },
        {
         "lat": [
          0.23333
         ],
         "legendgroup": "Waypoints",
         "legendgrouptitle": {
          "text": "Waypoints"
         },
         "lon": [
          105.01667
         ],
         "marker": {
          "color": "royalblue",
          "size": 5
         },
         "mode": "markers+text",
         "name": "IDBUD",
         "showlegend": false,
         "textposition": "top right",
         "type": "scattermap"
        },
        {
         "lat": [
          2.9
         ],
         "legendgroup": "Waypoints",
         "legendgrouptitle": {
          "text": "Waypoints"
         },
         "lon": [
          104.1
         ],
         "marker": {
          "color": "royalblue",
          "size": 5
         },
         "mode": "markers+text",
         "name": "IDEMO",
         "showlegend": false,
         "textposition": "top right",
         "type": "scattermap"
        },
        {
         "lat": [
          0.93333
         ],
         "legendgroup": "Waypoints",
         "legendgrouptitle": {
          "text": "Waypoints"
         },
         "lon": [
          104.21667
         ],
         "marker": {
          "color": "royalblue",
          "size": 5
         },
         "mode": "markers+text",
         "name": "IDKIV",
         "showlegend": false,
         "textposition": "top right",
         "type": "scattermap"
        },
        {
         "lat": [
          0.81667
         ],
         "legendgroup": "Waypoints",
         "legendgrouptitle": {
          "text": "Waypoints"
         },
         "lon": [
          104.3
         ],
         "marker": {
          "color": "royalblue",
          "size": 5
         },
         "mode": "markers+text",
         "name": "IDMAS",
         "showlegend": false,
         "textposition": "top right",
         "type": "scattermap"
        },
        {
         "lat": [
          3.4
         ],
         "legendgroup": "Waypoints",
         "legendgrouptitle": {
          "text": "Waypoints"
         },
         "lon": [
          103.91667
         ],
         "marker": {
          "color": "royalblue",
          "size": 5
         },
         "mode": "markers+text",
         "name": "IDSEL",
         "showlegend": false,
         "textposition": "top right",
         "type": "scattermap"
        },
        {
         "lat": [
          1.38333
         ],
         "legendgroup": "Waypoints",
         "legendgrouptitle": {
          "text": "Waypoints"
         },
         "lon": [
          103.98333
         ],
         "marker": {
          "color": "royalblue",
          "size": 5
         },
         "mode": "markers+text",
         "name": "IDUNA",
         "showlegend": false,
         "textposition": "top right",
         "type": "scattermap"
        },
        {
         "lat": [
          1.43333
         ],
         "legendgroup": "Waypoints",
         "legendgrouptitle": {
          "text": "Waypoints"
         },
         "lon": [
          104.01667
         ],
         "marker": {
          "color": "royalblue",
          "size": 5
         },
         "mode": "markers+text",
         "name": "IDURO",
         "showlegend": false,
         "textposition": "top right",
         "type": "scattermap"
        },
        {
         "lat": [
          1.48333
         ],
         "legendgroup": "Waypoints",
         "legendgrouptitle": {
          "text": "Waypoints"
         },
         "lon": [
          104.03333
         ],
         "marker": {
          "color": "royalblue",
          "size": 5
         },
         "mode": "markers+text",
         "name": "IDVAS",
         "showlegend": false,
         "textposition": "top right",
         "type": "scattermap"
        },
        {
         "lat": [
          6.93333
         ],
         "legendgroup": "Waypoints",
         "legendgrouptitle": {
          "text": "Waypoints"
         },
         "lon": [
          103.58333
         ],
         "marker": {
          "color": "royalblue",
          "size": 5
         },
         "mode": "markers+text",
         "name": "IGARI",
         "showlegend": false,
         "textposition": "top right",
         "type": "scattermap"
        },
        {
         "lat": [
          1.13333
         ],
         "legendgroup": "Waypoints",
         "legendgrouptitle": {
          "text": "Waypoints"
         },
         "lon": [
          104.2
         ],
         "marker": {
          "color": "royalblue",
          "size": 5
         },
         "mode": "markers+text",
         "name": "IGNON",
         "showlegend": false,
         "textposition": "top right",
         "type": "scattermap"
        },
        {
         "lat": [
          0.93333
         ],
         "legendgroup": "Waypoints",
         "legendgrouptitle": {
          "text": "Waypoints"
         },
         "lon": [
          104.1
         ],
         "marker": {
          "color": "royalblue",
          "size": 5
         },
         "mode": "markers+text",
         "name": "IGOSI",
         "showlegend": false,
         "textposition": "top right",
         "type": "scattermap"
        },
        {
         "lat": [
          1.53333
         ],
         "legendgroup": "Waypoints",
         "legendgrouptitle": {
          "text": "Waypoints"
         },
         "lon": [
          104.05
         ],
         "marker": {
          "color": "royalblue",
          "size": 5
         },
         "mode": "markers+text",
         "name": "IGULA",
         "showlegend": false,
         "textposition": "top right",
         "type": "scattermap"
        },
        {
         "lat": [
          -0.21667
         ],
         "legendgroup": "Waypoints",
         "legendgrouptitle": {
          "text": "Waypoints"
         },
         "lon": [
          104.3
         ],
         "marker": {
          "color": "royalblue",
          "size": 5
         },
         "mode": "markers+text",
         "name": "IGUTU",
         "showlegend": false,
         "textposition": "top right",
         "type": "scattermap"
        },
        {
         "lat": [
          0.13333
         ],
         "legendgroup": "Waypoints",
         "legendgrouptitle": {
          "text": "Waypoints"
         },
         "lon": [
          104.73333
         ],
         "marker": {
          "color": "royalblue",
          "size": 5
         },
         "mode": "markers+text",
         "name": "IKIRO",
         "showlegend": false,
         "textposition": "top right",
         "type": "scattermap"
        },
        {
         "lat": [
          5.75
         ],
         "legendgroup": "Waypoints",
         "legendgrouptitle": {
          "text": "Waypoints"
         },
         "lon": [
          103.21667
         ],
         "marker": {
          "color": "royalblue",
          "size": 5
         },
         "mode": "markers+text",
         "name": "IKUKO",
         "showlegend": false,
         "textposition": "top right",
         "type": "scattermap"
        },
        {
         "lat": [
          5.88333
         ],
         "legendgroup": "Waypoints",
         "legendgrouptitle": {
          "text": "Waypoints"
         },
         "lon": [
          103.91667
         ],
         "marker": {
          "color": "royalblue",
          "size": 5
         },
         "mode": "markers+text",
         "name": "IKUMI",
         "showlegend": false,
         "textposition": "top right",
         "type": "scattermap"
        },
        {
         "lat": [
          0.45
         ],
         "legendgroup": "Waypoints",
         "legendgrouptitle": {
          "text": "Waypoints"
         },
         "lon": [
          105.25
         ],
         "marker": {
          "color": "royalblue",
          "size": 5
         },
         "mode": "markers+text",
         "name": "INVUB",
         "showlegend": false,
         "textposition": "top right",
         "type": "scattermap"
        },
        {
         "lat": [
          4.85
         ],
         "legendgroup": "Waypoints",
         "legendgrouptitle": {
          "text": "Waypoints"
         },
         "lon": [
          103.98333
         ],
         "marker": {
          "color": "royalblue",
          "size": 5
         },
         "mode": "markers+text",
         "name": "IPDOL",
         "showlegend": false,
         "textposition": "top right",
         "type": "scattermap"
        },
        {
         "lat": [
          1.61667
         ],
         "legendgroup": "Waypoints",
         "legendgrouptitle": {
          "text": "Waypoints"
         },
         "lon": [
          104.08333
         ],
         "marker": {
          "color": "royalblue",
          "size": 5
         },
         "mode": "markers+text",
         "name": "IPNAK",
         "showlegend": false,
         "textposition": "top right",
         "type": "scattermap"
        },
        {
         "lat": [
          7
         ],
         "legendgroup": "Waypoints",
         "legendgrouptitle": {
          "text": "Waypoints"
         },
         "lon": [
          104.11667
         ],
         "marker": {
          "color": "royalblue",
          "size": 5
         },
         "mode": "markers+text",
         "name": "IPRIX",
         "showlegend": false,
         "textposition": "top right",
         "type": "scattermap"
        },
        {
         "lat": [
          0.96667
         ],
         "legendgroup": "Waypoints",
         "legendgrouptitle": {
          "text": "Waypoints"
         },
         "lon": [
          104.01667
         ],
         "marker": {
          "color": "royalblue",
          "size": 5
         },
         "mode": "markers+text",
         "name": "IRPUG",
         "showlegend": false,
         "textposition": "top right",
         "type": "scattermap"
        },
        {
         "lat": [
          2.71667
         ],
         "legendgroup": "Waypoints",
         "legendgrouptitle": {
          "text": "Waypoints"
         },
         "lon": [
          105.71667
         ],
         "marker": {
          "color": "royalblue",
          "size": 5
         },
         "mode": "markers+text",
         "name": "IRSAB",
         "showlegend": false,
         "textposition": "top right",
         "type": "scattermap"
        },
        {
         "lat": [
          1.05
         ],
         "legendgroup": "Waypoints",
         "legendgrouptitle": {
          "text": "Waypoints"
         },
         "lon": [
          104.18333
         ],
         "marker": {
          "color": "royalblue",
          "size": 5
         },
         "mode": "markers+text",
         "name": "IRTAD",
         "showlegend": false,
         "textposition": "top right",
         "type": "scattermap"
        },
        {
         "lat": [
          2.73333
         ],
         "legendgroup": "Waypoints",
         "legendgrouptitle": {
          "text": "Waypoints"
         },
         "lon": [
          106.5
         ],
         "marker": {
          "color": "royalblue",
          "size": 5
         },
         "mode": "markers+text",
         "name": "ISDEB",
         "showlegend": false,
         "textposition": "top right",
         "type": "scattermap"
        },
        {
         "lat": [
          0.7
         ],
         "legendgroup": "Waypoints",
         "legendgrouptitle": {
          "text": "Waypoints"
         },
         "lon": [
          103.2
         ],
         "marker": {
          "color": "royalblue",
          "size": 5
         },
         "mode": "markers+text",
         "name": "ISGIL",
         "showlegend": false,
         "textposition": "top right",
         "type": "scattermap"
        },
        {
         "lat": [
          1.1
         ],
         "legendgroup": "Waypoints",
         "legendgrouptitle": {
          "text": "Waypoints"
         },
         "lon": [
          103.96667
         ],
         "marker": {
          "color": "royalblue",
          "size": 5
         },
         "mode": "markers+text",
         "name": "ISNOM",
         "showlegend": false,
         "textposition": "top right",
         "type": "scattermap"
        },
        {
         "lat": [
          0.9
         ],
         "legendgroup": "Waypoints",
         "legendgrouptitle": {
          "text": "Waypoints"
         },
         "lon": [
          104.5
         ],
         "marker": {
          "color": "royalblue",
          "size": 5
         },
         "mode": "markers+text",
         "name": "JUNHA",
         "showlegend": false,
         "textposition": "top right",
         "type": "scattermap"
        },
        {
         "lat": [
          1.28333
         ],
         "legendgroup": "Waypoints",
         "legendgrouptitle": {
          "text": "Waypoints"
         },
         "lon": [
          103.95
         ],
         "marker": {
          "color": "royalblue",
          "size": 5
         },
         "mode": "markers+text",
         "name": "KAKSA",
         "showlegend": false,
         "textposition": "top right",
         "type": "scattermap"
        },
        {
         "lat": [
          3.75
         ],
         "legendgroup": "Waypoints",
         "legendgrouptitle": {
          "text": "Waypoints"
         },
         "lon": [
          104.6
         ],
         "marker": {
          "color": "royalblue",
          "size": 5
         },
         "mode": "markers+text",
         "name": "KANLA",
         "showlegend": false,
         "textposition": "top right",
         "type": "scattermap"
        },
        {
         "lat": [
          1.18333
         ],
         "legendgroup": "Waypoints",
         "legendgrouptitle": {
          "text": "Waypoints"
         },
         "lon": [
          105.55
         ],
         "marker": {
          "color": "royalblue",
          "size": 5
         },
         "mode": "markers+text",
         "name": "KARTO",
         "showlegend": false,
         "textposition": "top right",
         "type": "scattermap"
        },
        {
         "lat": [
          1.25
         ],
         "legendgroup": "Waypoints",
         "legendgrouptitle": {
          "text": "Waypoints"
         },
         "lon": [
          103.95
         ],
         "marker": {
          "color": "royalblue",
          "size": 5
         },
         "mode": "markers+text",
         "name": "KASPO",
         "showlegend": false,
         "textposition": "top right",
         "type": "scattermap"
        },
        {
         "lat": [
          3.16667
         ],
         "legendgroup": "Waypoints",
         "legendgrouptitle": {
          "text": "Waypoints"
         },
         "lon": [
          104.15
         ],
         "marker": {
          "color": "royalblue",
          "size": 5
         },
         "mode": "markers+text",
         "name": "KETOD",
         "showlegend": false,
         "textposition": "top right",
         "type": "scattermap"
        },
        {
         "lat": [
          1.16667
         ],
         "legendgroup": "Waypoints",
         "legendgrouptitle": {
          "text": "Waypoints"
         },
         "lon": [
          104.8
         ],
         "marker": {
          "color": "royalblue",
          "size": 5
         },
         "mode": "markers+text",
         "name": "KEXAS",
         "showlegend": false,
         "textposition": "top right",
         "type": "scattermap"
        },
        {
         "lat": [
          4.65
         ],
         "legendgroup": "Waypoints",
         "legendgrouptitle": {
          "text": "Waypoints"
         },
         "lon": [
          104.15
         ],
         "marker": {
          "color": "royalblue",
          "size": 5
         },
         "mode": "markers+text",
         "name": "KEXOL",
         "showlegend": false,
         "textposition": "top right",
         "type": "scattermap"
        },
        {
         "lat": [
          2.86667
         ],
         "legendgroup": "Waypoints",
         "legendgrouptitle": {
          "text": "Waypoints"
         },
         "lon": [
          104.46667
         ],
         "marker": {
          "color": "royalblue",
          "size": 5
         },
         "mode": "markers+text",
         "name": "KIBOL",
         "showlegend": false,
         "textposition": "top right",
         "type": "scattermap"
        },
        {
         "lat": [
          3.03333
         ],
         "legendgroup": "Waypoints",
         "legendgrouptitle": {
          "text": "Waypoints"
         },
         "lon": [
          104.66667
         ],
         "marker": {
          "color": "royalblue",
          "size": 5
         },
         "mode": "markers+text",
         "name": "KILOT",
         "showlegend": false,
         "textposition": "top right",
         "type": "scattermap"
        },
        {
         "lat": [
          1.18333
         ],
         "legendgroup": "Waypoints",
         "legendgrouptitle": {
          "text": "Waypoints"
         },
         "lon": [
          103.91667
         ],
         "marker": {
          "color": "royalblue",
          "size": 5
         },
         "mode": "markers+text",
         "name": "KIMER",
         "showlegend": false,
         "textposition": "top right",
         "type": "scattermap"
        },
        {
         "lat": [
          0
         ],
         "legendgroup": "Waypoints",
         "legendgrouptitle": {
          "text": "Waypoints"
         },
         "lon": [
          104.98333
         ],
         "marker": {
          "color": "royalblue",
          "size": 5
         },
         "mode": "markers+text",
         "name": "KIRDA",
         "showlegend": false,
         "textposition": "top right",
         "type": "scattermap"
        },
        {
         "lat": [
          7.26667
         ],
         "legendgroup": "Waypoints",
         "legendgrouptitle": {
          "text": "Waypoints"
         },
         "lon": [
          111.53333
         ],
         "marker": {
          "color": "royalblue",
          "size": 5
         },
         "mode": "markers+text",
         "name": "LAGOT",
         "showlegend": false,
         "textposition": "top right",
         "type": "scattermap"
        },
        {
         "lat": [
          1.31667
         ],
         "legendgroup": "Waypoints",
         "legendgrouptitle": {
          "text": "Waypoints"
         },
         "lon": [
          103.96667
         ],
         "marker": {
          "color": "royalblue",
          "size": 5
         },
         "mode": "markers+text",
         "name": "LAGUS",
         "showlegend": false,
         "textposition": "top right",
         "type": "scattermap"
        },
        {
         "lat": [
          1.43333
         ],
         "legendgroup": "Waypoints",
         "legendgrouptitle": {
          "text": "Waypoints"
         },
         "lon": [
          103.73333
         ],
         "marker": {
          "color": "royalblue",
          "size": 5
         },
         "mode": "markers+text",
         "name": "LAPOL",
         "showlegend": false,
         "textposition": "top right",
         "type": "scattermap"
        },
        {
         "lat": [
          1.25
         ],
         "legendgroup": "Waypoints",
         "legendgrouptitle": {
          "text": "Waypoints"
         },
         "lon": [
          103.95
         ],
         "marker": {
          "color": "royalblue",
          "size": 5
         },
         "mode": "markers+text",
         "name": "LASIN",
         "showlegend": false,
         "textposition": "top right",
         "type": "scattermap"
        },
        {
         "lat": [
          1.15
         ],
         "legendgroup": "Waypoints",
         "legendgrouptitle": {
          "text": "Waypoints"
         },
         "lon": [
          104.45
         ],
         "marker": {
          "color": "royalblue",
          "size": 5
         },
         "mode": "markers+text",
         "name": "LAVAX",
         "showlegend": false,
         "textposition": "top right",
         "type": "scattermap"
        },
        {
         "lat": [
          9.81667
         ],
         "legendgroup": "Waypoints",
         "legendgrouptitle": {
          "text": "Waypoints"
         },
         "lon": [
          114.8
         ],
         "marker": {
          "color": "royalblue",
          "size": 5
         },
         "mode": "markers+text",
         "name": "LAXOR",
         "showlegend": false,
         "textposition": "top right",
         "type": "scattermap"
        },
        {
         "lat": [
          3.23333
         ],
         "legendgroup": "Waypoints",
         "legendgrouptitle": {
          "text": "Waypoints"
         },
         "lon": [
          106.1
         ],
         "marker": {
          "color": "royalblue",
          "size": 5
         },
         "mode": "markers+text",
         "name": "LEBIN",
         "showlegend": false,
         "textposition": "top right",
         "type": "scattermap"
        },
        {
         "lat": [
          1.26667
         ],
         "legendgroup": "Waypoints",
         "legendgrouptitle": {
          "text": "Waypoints"
         },
         "lon": [
          103.93333
         ],
         "marker": {
          "color": "royalblue",
          "size": 5
         },
         "mode": "markers+text",
         "name": "LEDOX",
         "showlegend": false,
         "textposition": "top right",
         "type": "scattermap"
        },
        {
         "lat": [
          1.33333
         ],
         "legendgroup": "Waypoints",
         "legendgrouptitle": {
          "text": "Waypoints"
         },
         "lon": [
          103.78333
         ],
         "marker": {
          "color": "royalblue",
          "size": 5
         },
         "mode": "markers+text",
         "name": "LEGOL",
         "showlegend": false,
         "textposition": "top right",
         "type": "scattermap"
        },
        {
         "lat": [
          1.45
         ],
         "legendgroup": "Waypoints",
         "legendgrouptitle": {
          "text": "Waypoints"
         },
         "lon": [
          103.4
         ],
         "marker": {
          "color": "royalblue",
          "size": 5
         },
         "mode": "markers+text",
         "name": "LELIB",
         "showlegend": false,
         "textposition": "top right",
         "type": "scattermap"
        },
        {
         "lat": [
          1.2
         ],
         "legendgroup": "Waypoints",
         "legendgrouptitle": {
          "text": "Waypoints"
         },
         "lon": [
          103.93333
         ],
         "marker": {
          "color": "royalblue",
          "size": 5
         },
         "mode": "markers+text",
         "name": "LELON",
         "showlegend": false,
         "textposition": "top right",
         "type": "scattermap"
        },
        {
         "lat": [
          2.68333
         ],
         "legendgroup": "Waypoints",
         "legendgrouptitle": {
          "text": "Waypoints"
         },
         "lon": [
          104.65
         ],
         "marker": {
          "color": "royalblue",
          "size": 5
         },
         "mode": "markers+text",
         "name": "LENDA",
         "showlegend": false,
         "textposition": "top right",
         "type": "scattermap"
        },
        {
         "lat": [
          1.1
         ],
         "legendgroup": "Waypoints",
         "legendgrouptitle": {
          "text": "Waypoints"
         },
         "lon": [
          103.88333
         ],
         "marker": {
          "color": "royalblue",
          "size": 5
         },
         "mode": "markers+text",
         "name": "LEPNA",
         "showlegend": false,
         "textposition": "top right",
         "type": "scattermap"
        },
        {
         "lat": [
          1.23333
         ],
         "legendgroup": "Waypoints",
         "legendgrouptitle": {
          "text": "Waypoints"
         },
         "lon": [
          103.91667
         ],
         "marker": {
          "color": "royalblue",
          "size": 5
         },
         "mode": "markers+text",
         "name": "LETGO",
         "showlegend": false,
         "textposition": "top right",
         "type": "scattermap"
        },
        {
         "lat": [
          1.08333
         ],
         "legendgroup": "Waypoints",
         "legendgrouptitle": {
          "text": "Waypoints"
         },
         "lon": [
          103.88333
         ],
         "marker": {
          "color": "royalblue",
          "size": 5
         },
         "mode": "markers+text",
         "name": "LIDVA",
         "showlegend": false,
         "textposition": "top right",
         "type": "scattermap"
        },
        {
         "lat": [
          3.73333
         ],
         "legendgroup": "Waypoints",
         "legendgrouptitle": {
          "text": "Waypoints"
         },
         "lon": [
          106.3
         ],
         "marker": {
          "color": "royalblue",
          "size": 5
         },
         "mode": "markers+text",
         "name": "LIGVU",
         "showlegend": false,
         "textposition": "top right",
         "type": "scattermap"
        },
        {
         "lat": [
          2.88333
         ],
         "legendgroup": "Waypoints",
         "legendgrouptitle": {
          "text": "Waypoints"
         },
         "lon": [
          105.18333
         ],
         "marker": {
          "color": "royalblue",
          "size": 5
         },
         "mode": "markers+text",
         "name": "LIPRO",
         "showlegend": false,
         "textposition": "top right",
         "type": "scattermap"
        },
        {
         "lat": [
          3.55
         ],
         "legendgroup": "Waypoints",
         "legendgrouptitle": {
          "text": "Waypoints"
         },
         "lon": [
          106.91667
         ],
         "marker": {
          "color": "royalblue",
          "size": 5
         },
         "mode": "markers+text",
         "name": "LUSMO",
         "showlegend": false,
         "textposition": "top right",
         "type": "scattermap"
        },
        {
         "lat": [
          1.3
         ],
         "legendgroup": "Waypoints",
         "legendgrouptitle": {
          "text": "Waypoints"
         },
         "lon": [
          103.96667
         ],
         "marker": {
          "color": "royalblue",
          "size": 5
         },
         "mode": "markers+text",
         "name": "LUXOL",
         "showlegend": false,
         "textposition": "top right",
         "type": "scattermap"
        },
        {
         "lat": [
          3.46667
         ],
         "legendgroup": "Waypoints",
         "legendgrouptitle": {
          "text": "Waypoints"
         },
         "lon": [
          105.2
         ],
         "marker": {
          "color": "royalblue",
          "size": 5
         },
         "mode": "markers+text",
         "name": "MABAL",
         "showlegend": false,
         "textposition": "top right",
         "type": "scattermap"
        },
        {
         "lat": [
          4.28333
         ],
         "legendgroup": "Waypoints",
         "legendgrouptitle": {
          "text": "Waypoints"
         },
         "lon": [
          106.2
         ],
         "marker": {
          "color": "royalblue",
          "size": 5
         },
         "mode": "markers+text",
         "name": "MABLI",
         "showlegend": false,
         "textposition": "top right",
         "type": "scattermap"
        },
        {
         "lat": [
          3.23333
         ],
         "legendgroup": "Waypoints",
         "legendgrouptitle": {
          "text": "Waypoints"
         },
         "lon": [
          104.08333
         ],
         "marker": {
          "color": "royalblue",
          "size": 5
         },
         "mode": "markers+text",
         "name": "MANIM",
         "showlegend": false,
         "textposition": "top right",
         "type": "scattermap"
        },
        {
         "lat": [
          2.03333
         ],
         "legendgroup": "Waypoints",
         "legendgrouptitle": {
          "text": "Waypoints"
         },
         "lon": [
          102.86667
         ],
         "marker": {
          "color": "royalblue",
          "size": 5
         },
         "mode": "markers+text",
         "name": "MASBO",
         "showlegend": false,
         "textposition": "top right",
         "type": "scattermap"
        },
        {
         "lat": [
          1.33333
         ],
         "legendgroup": "Waypoints",
         "legendgrouptitle": {
          "text": "Waypoints"
         },
         "lon": [
          103.61667
         ],
         "marker": {
          "color": "royalblue",
          "size": 5
         },
         "mode": "markers+text",
         "name": "MASNI",
         "showlegend": false,
         "textposition": "top right",
         "type": "scattermap"
        },
        {
         "lat": [
          7.08333
         ],
         "legendgroup": "Waypoints",
         "legendgrouptitle": {
          "text": "Waypoints"
         },
         "lon": [
          108.15
         ],
         "marker": {
          "color": "royalblue",
          "size": 5
         },
         "mode": "markers+text",
         "name": "MELAS",
         "showlegend": false,
         "textposition": "top right",
         "type": "scattermap"
        },
        {
         "lat": [
          1.38333
         ],
         "legendgroup": "Waypoints",
         "legendgrouptitle": {
          "text": "Waypoints"
         },
         "lon": [
          102.13333
         ],
         "marker": {
          "color": "royalblue",
          "size": 5
         },
         "mode": "markers+text",
         "name": "MIBEL",
         "showlegend": false,
         "textposition": "top right",
         "type": "scattermap"
        },
        {
         "lat": [
          1.48333
         ],
         "legendgroup": "Waypoints",
         "legendgrouptitle": {
          "text": "Waypoints"
         },
         "lon": [
          104.03333
         ],
         "marker": {
          "color": "royalblue",
          "size": 5
         },
         "mode": "markers+text",
         "name": "MOLVO",
         "showlegend": false,
         "textposition": "top right",
         "type": "scattermap"
        },
        {
         "lat": [
          1.48333
         ],
         "legendgroup": "Waypoints",
         "legendgrouptitle": {
          "text": "Waypoints"
         },
         "lon": [
          104.05
         ],
         "marker": {
          "color": "royalblue",
          "size": 5
         },
         "mode": "markers+text",
         "name": "MOXIB",
         "showlegend": false,
         "textposition": "top right",
         "type": "scattermap"
        },
        {
         "lat": [
          1.08333
         ],
         "legendgroup": "Waypoints",
         "legendgrouptitle": {
          "text": "Waypoints"
         },
         "lon": [
          104.45
         ],
         "marker": {
          "color": "royalblue",
          "size": 5
         },
         "mode": "markers+text",
         "name": "MUMDU",
         "showlegend": false,
         "textposition": "top right",
         "type": "scattermap"
        },
        {
         "lat": [
          3.73333
         ],
         "legendgroup": "Waypoints",
         "legendgrouptitle": {
          "text": "Waypoints"
         },
         "lon": [
          105.53333
         ],
         "marker": {
          "color": "royalblue",
          "size": 5
         },
         "mode": "markers+text",
         "name": "MUMSO",
         "showlegend": false,
         "textposition": "top right",
         "type": "scattermap"
        },
        {
         "lat": [
          2.6
         ],
         "legendgroup": "Waypoints",
         "legendgrouptitle": {
          "text": "Waypoints"
         },
         "lon": [
          104.03333
         ],
         "marker": {
          "color": "royalblue",
          "size": 5
         },
         "mode": "markers+text",
         "name": "NIVAM",
         "showlegend": false,
         "textposition": "top right",
         "type": "scattermap"
        },
        {
         "lat": [
          1.65
         ],
         "legendgroup": "Waypoints",
         "legendgrouptitle": {
          "text": "Waypoints"
         },
         "lon": [
          106.16667
         ],
         "marker": {
          "color": "royalblue",
          "size": 5
         },
         "mode": "markers+text",
         "name": "NIXEB",
         "showlegend": false,
         "textposition": "top right",
         "type": "scattermap"
        },
        {
         "lat": [
          8.18333
         ],
         "legendgroup": "Waypoints",
         "legendgrouptitle": {
          "text": "Waypoints"
         },
         "lon": [
          116.18333
         ],
         "marker": {
          "color": "royalblue",
          "size": 5
         },
         "mode": "markers+text",
         "name": "NODIN",
         "showlegend": false,
         "textposition": "top right",
         "type": "scattermap"
        },
        {
         "lat": [
          4.38333
         ],
         "legendgroup": "Waypoints",
         "legendgrouptitle": {
          "text": "Waypoints"
         },
         "lon": [
          104.78333
         ],
         "marker": {
          "color": "royalblue",
          "size": 5
         },
         "mode": "markers+text",
         "name": "NOPAT",
         "showlegend": false,
         "textposition": "top right",
         "type": "scattermap"
        },
        {
         "lat": [
          2.88333
         ],
         "legendgroup": "Waypoints",
         "legendgrouptitle": {
          "text": "Waypoints"
         },
         "lon": [
          103.63333
         ],
         "marker": {
          "color": "royalblue",
          "size": 5
         },
         "mode": "markers+text",
         "name": "NUFFA",
         "showlegend": false,
         "textposition": "top right",
         "type": "scattermap"
        },
        {
         "lat": [
          1.6
         ],
         "legendgroup": "Waypoints",
         "legendgrouptitle": {
          "text": "Waypoints"
         },
         "lon": [
          104.1
         ],
         "marker": {
          "color": "royalblue",
          "size": 5
         },
         "mode": "markers+text",
         "name": "NYLON",
         "showlegend": false,
         "textposition": "top right",
         "type": "scattermap"
        },
        {
         "lat": [
          3.18333
         ],
         "legendgroup": "Waypoints",
         "legendgrouptitle": {
          "text": "Waypoints"
         },
         "lon": [
          104.08333
         ],
         "marker": {
          "color": "royalblue",
          "size": 5
         },
         "mode": "markers+text",
         "name": "OBDAB",
         "showlegend": false,
         "textposition": "top right",
         "type": "scattermap"
        },
        {
         "lat": [
          0.41667
         ],
         "legendgroup": "Waypoints",
         "legendgrouptitle": {
          "text": "Waypoints"
         },
         "lon": [
          106.91667
         ],
         "marker": {
          "color": "royalblue",
          "size": 5
         },
         "mode": "markers+text",
         "name": "OBDOS",
         "showlegend": false,
         "textposition": "top right",
         "type": "scattermap"
        },
        {
         "lat": [
          1.38333
         ],
         "legendgroup": "Waypoints",
         "legendgrouptitle": {
          "text": "Waypoints"
         },
         "lon": [
          106.75
         ],
         "marker": {
          "color": "royalblue",
          "size": 5
         },
         "mode": "markers+text",
         "name": "OBGET",
         "showlegend": false,
         "textposition": "top right",
         "type": "scattermap"
        },
        {
         "lat": [
          6.6
         ],
         "legendgroup": "Waypoints",
         "legendgrouptitle": {
          "text": "Waypoints"
         },
         "lon": [
          103.01667
         ],
         "marker": {
          "color": "royalblue",
          "size": 5
         },
         "mode": "markers+text",
         "name": "ODONO",
         "showlegend": false,
         "textposition": "top right",
         "type": "scattermap"
        },
        {
         "lat": [
          4.83333
         ],
         "legendgroup": "Waypoints",
         "legendgrouptitle": {
          "text": "Waypoints"
         },
         "lon": [
          111.85
         ],
         "marker": {
          "color": "royalblue",
          "size": 5
         },
         "mode": "markers+text",
         "name": "OLKIT",
         "showlegend": false,
         "textposition": "top right",
         "type": "scattermap"
        },
        {
         "lat": [
          3.05
         ],
         "legendgroup": "Waypoints",
         "legendgrouptitle": {
          "text": "Waypoints"
         },
         "lon": [
          105.58333
         ],
         "marker": {
          "color": "royalblue",
          "size": 5
         },
         "mode": "markers+text",
         "name": "OLMUT",
         "showlegend": false,
         "textposition": "top right",
         "type": "scattermap"
        },
        {
         "lat": [
          1.18333
         ],
         "legendgroup": "Waypoints",
         "legendgrouptitle": {
          "text": "Waypoints"
         },
         "lon": [
          103.85
         ],
         "marker": {
          "color": "royalblue",
          "size": 5
         },
         "mode": "markers+text",
         "name": "OLNUB",
         "showlegend": false,
         "textposition": "top right",
         "type": "scattermap"
        },
        {
         "lat": [
          0.96667
         ],
         "legendgroup": "Waypoints",
         "legendgrouptitle": {
          "text": "Waypoints"
         },
         "lon": [
          103.95
         ],
         "marker": {
          "color": "royalblue",
          "size": 5
         },
         "mode": "markers+text",
         "name": "OMDUD",
         "showlegend": false,
         "textposition": "top right",
         "type": "scattermap"
        },
        {
         "lat": [
          1.51667
         ],
         "legendgroup": "Waypoints",
         "legendgrouptitle": {
          "text": "Waypoints"
         },
         "lon": [
          103.98333
         ],
         "marker": {
          "color": "royalblue",
          "size": 5
         },
         "mode": "markers+text",
         "name": "OMKOM",
         "showlegend": false,
         "textposition": "top right",
         "type": "scattermap"
        },
        {
         "lat": [
          2.91667
         ],
         "legendgroup": "Waypoints",
         "legendgrouptitle": {
          "text": "Waypoints"
         },
         "lon": [
          106.46667
         ],
         "marker": {
          "color": "royalblue",
          "size": 5
         },
         "mode": "markers+text",
         "name": "OMLIV",
         "showlegend": false,
         "textposition": "top right",
         "type": "scattermap"
        },
        {
         "lat": [
          2.73333
         ],
         "legendgroup": "Waypoints",
         "legendgrouptitle": {
          "text": "Waypoints"
         },
         "lon": [
          105.71667
         ],
         "marker": {
          "color": "royalblue",
          "size": 5
         },
         "mode": "markers+text",
         "name": "OSERU",
         "showlegend": false,
         "textposition": "top right",
         "type": "scattermap"
        },
        {
         "lat": [
          0.7
         ],
         "legendgroup": "Waypoints",
         "legendgrouptitle": {
          "text": "Waypoints"
         },
         "lon": [
          105.5
         ],
         "marker": {
          "color": "royalblue",
          "size": 5
         },
         "mode": "markers+text",
         "name": "OTLAL",
         "showlegend": false,
         "textposition": "top right",
         "type": "scattermap"
        },
        {
         "lat": [
          3.11667
         ],
         "legendgroup": "Waypoints",
         "legendgrouptitle": {
          "text": "Waypoints"
         },
         "lon": [
          104.33333
         ],
         "marker": {
          "color": "royalblue",
          "size": 5
         },
         "mode": "markers+text",
         "name": "OTLON",
         "showlegend": false,
         "textposition": "top right",
         "type": "scattermap"
        },
        {
         "lat": [
          3.15
         ],
         "legendgroup": "Waypoints",
         "legendgrouptitle": {
          "text": "Waypoints"
         },
         "lon": [
          103.51667
         ],
         "marker": {
          "color": "royalblue",
          "size": 5
         },
         "mode": "markers+text",
         "name": "PADLI",
         "showlegend": false,
         "textposition": "top right",
         "type": "scattermap"
        },
        {
         "lat": [
          1.16667
         ],
         "legendgroup": "Waypoints",
         "legendgrouptitle": {
          "text": "Waypoints"
         },
         "lon": [
          103.78333
         ],
         "marker": {
          "color": "royalblue",
          "size": 5
         },
         "mode": "markers+text",
         "name": "PALGA",
         "showlegend": false,
         "textposition": "top right",
         "type": "scattermap"
        },
        {
         "lat": [
          1.06667
         ],
         "legendgroup": "Waypoints",
         "legendgrouptitle": {
          "text": "Waypoints"
         },
         "lon": [
          103.8
         ],
         "marker": {
          "color": "royalblue",
          "size": 5
         },
         "mode": "markers+text",
         "name": "PAMSI",
         "showlegend": false,
         "textposition": "top right",
         "type": "scattermap"
        },
        {
         "hovertext": [
          "ARAMA",
          "BOBAG",
          "BOKIP",
          "SAMKO"
         ],
         "lat": [
          1.6,
          1.03333,
          1.06667,
          1.08333
         ],
         "legendgrouptitle": {
          "font": {
           "color": "salmon"
          },
          "text": "STAR"
         },
         "line": {
          "color": "salmon",
          "width": 1
         },
         "lon": [
          103.11667,
          103.48333,
          103.71667,
          103.86667
         ],
         "mode": "lines+markers",
         "name": "ARAMA1A : RWY 02L/02C/02R",
         "showlegend": true,
         "type": "scattermap"
        },
        {
         "hovertext": [
          "ARAMA",
          "BOBAG",
          "SAMKO",
          "BITAM",
          "DOVAN",
          "BIPOP"
         ],
         "lat": [
          1.6,
          1.03333,
          1.08333,
          1.13333,
          1.31667,
          1.51667
         ],
         "legendgrouptitle": {
          "font": {
           "color": "salmon"
          },
          "text": "STAR"
         },
         "line": {
          "color": "salmon",
          "width": 1
         },
         "lon": [
          103.11667,
          103.48333,
          103.86667,
          104.11667,
          104.2,
          104.16667
         ],
         "mode": "lines+markers",
         "name": "ARAMA1B : RWY 20R/20C/20L",
         "showlegend": true,
         "type": "scattermap"
        },
        {
         "hovertext": [
          "ASUNA",
          "VAMPO",
          "IBASU",
          "VEXEL",
          "SAMKO"
         ],
         "lat": [
          0.98333,
          0.96667,
          0.95,
          0.98333,
          1.08333
         ],
         "legendgrouptitle": {
          "font": {
           "color": "salmon"
          },
          "text": "STAR"
         },
         "line": {
          "color": "salmon",
          "width": 1
         },
         "lon": [
          103.15,
          103.41667,
          103.56667,
          103.7,
          103.86667
         ],
         "mode": "lines+markers",
         "name": "ASUNA2A : RWY 02L/02C/02R",
         "showlegend": true,
         "type": "scattermap"
        },
        {
         "hovertext": [
          "ASUNA",
          "VAMPO",
          "IBASU",
          "VEXEL",
          "ABVIP",
          "AGROT",
          "BITAM",
          "DOVAN",
          "BIPOP"
         ],
         "lat": [
          0.98333,
          0.96667,
          0.95,
          0.98333,
          1,
          1.01667,
          1.13333,
          1.31667,
          1.51667
         ],
         "legendgrouptitle": {
          "font": {
           "color": "salmon"
          },
          "text": "STAR"
         },
         "line": {
          "color": "salmon",
          "width": 1
         },
         "lon": [
          103.15,
          103.41667,
          103.56667,
          103.7,
          103.83333,
          103.96667,
          104.11667,
          104.2,
          104.16667
         ],
         "mode": "lines+markers",
         "name": "ASUNA2B : RWY 20R/20C/20L",
         "showlegend": true,
         "type": "scattermap"
        },
        {
         "hovertext": [
          "ELALO",
          "KANLA",
          "KILOT",
          "PIBAP",
          "PASPU",
          "NYLON",
          "POSUB",
          "SANAT"
         ],
         "lat": [
          4.2,
          3.75,
          3.03333,
          2.5,
          1.98333,
          1.6,
          1.45,
          1.11667
         ],
         "legendgrouptitle": {
          "font": {
           "color": "salmon"
          },
          "text": "STAR"
         },
         "line": {
          "color": "salmon",
          "width": 1
         },
         "lon": [
          104.55,
          104.6,
          104.66667,
          104.1,
          104.1,
          104.1,
          104.11667,
          103.98333
         ],
         "mode": "lines+markers",
         "name": "ELALO1A : RWY 02L/02C/02R",
         "showlegend": true,
         "type": "scattermap"
        },
        {
         "hovertext": [
          "ELALO",
          "KANLA",
          "KILOT",
          "PIBAP",
          "PASPU",
          "NYLON"
         ],
         "lat": [
          4.2,
          3.75,
          3.03333,
          2.5,
          1.98333,
          1.6
         ],
         "legendgrouptitle": {
          "font": {
           "color": "salmon"
          },
          "text": "STAR"
         },
         "line": {
          "color": "salmon",
          "width": 1
         },
         "lon": [
          104.55,
          104.6,
          104.66667,
          104.1,
          104.1,
          104.1
         ],
         "mode": "lines+markers",
         "name": "ELALO1B : RWY 20R/20C/20L",
         "showlegend": true,
         "type": "scattermap"
        },
        {
         "hovertext": [
          "TOMAN",
          "KARTO",
          "GUNUD",
          "KEXAS",
          "VIMAL",
          "IGNON",
          "SANAT"
         ],
         "lat": [
          1.35,
          1.18333,
          1.16667,
          1.16667,
          1.15,
          1.13333,
          1.11667
         ],
         "legendgrouptitle": {
          "font": {
           "color": "salmon"
          },
          "text": "STAR"
         },
         "line": {
          "color": "salmon",
          "width": 1
         },
         "lon": [
          105.78333,
          105.55,
          105.1,
          104.8,
          104.38333,
          104.2,
          103.98333
         ],
         "mode": "lines+markers",
         "name": "KARTO2A : RWY 02L/02C/02R",
         "showlegend": true,
         "type": "scattermap"
        },
        {
         "hovertext": [
          "TOMAN",
          "KARTO",
          "GUNUD",
          "KEXAS",
          "LAVAX",
          "DOVAN",
          "BIPOP"
         ],
         "lat": [
          1.35,
          1.18333,
          1.16667,
          1.16667,
          1.15,
          1.31667,
          1.51667
         ],
         "legendgrouptitle": {
          "font": {
           "color": "salmon"
          },
          "text": "STAR"
         },
         "line": {
          "color": "salmon",
          "width": 1
         },
         "lon": [
          105.78333,
          105.55,
          105.1,
          104.8,
          104.45,
          104.2,
          104.16667
         ],
         "mode": "lines+markers",
         "name": "KARTO2B : RWY 20R/20C/20L",
         "showlegend": true,
         "type": "scattermap"
        },
        {
         "hovertext": [
          "PASPU",
          "PU",
          "SINJON",
          "PALGA",
          "PAMSI",
          "SAMKO"
         ],
         "lat": [
          1.98333,
          1.41667,
          1.21667,
          1.16667,
          1.06667,
          1.08333
         ],
         "legendgrouptitle": {
          "font": {
           "color": "salmon"
          },
          "text": "STAR"
         },
         "line": {
          "color": "salmon",
          "width": 1
         },
         "lon": [
          104.1,
          103.93333,
          103.85,
          103.78333,
          103.8,
          103.86667
         ],
         "mode": "lines+markers",
         "name": "LEBAR2A : RWY 02L/02C/02R",
         "showlegend": true,
         "type": "scattermap"
        },
        {
         "hovertext": [
          "REMES",
          "SINJON",
          "PU",
          "BETBA",
          "BIDUS"
         ],
         "lat": [
          0.71667,
          1.21667,
          1.41667,
          1.55,
          1.58333
         ],
         "legendgrouptitle": {
          "font": {
           "color": "salmon"
          },
          "text": "STAR"
         },
         "line": {
          "color": "salmon",
          "width": 1
         },
         "lon": [
          103.95,
          103.85,
          103.93333,
          103.88333,
          103.95
         ],
         "mode": "lines+markers",
         "name": "LEBAR3B : RWY 20R/20C/20L",
         "showlegend": true,
         "type": "scattermap"
        },
        {
         "hovertext": [
          "ARAMA",
          "LELIB",
          "GUMPU",
          "ALFA",
          "BIDUS"
         ],
         "lat": [
          1.6,
          1.45,
          1.5,
          1.5,
          1.58333
         ],
         "legendgrouptitle": {
          "font": {
           "color": "salmon"
          },
          "text": "STAR"
         },
         "line": {
          "color": "salmon",
          "width": 1
         },
         "lon": [
          103.11667,
          103.4,
          103.7,
          103.81667,
          103.95
         ],
         "mode": "lines+markers",
         "name": "LELIB3B : RWY 20R/20C/20L",
         "showlegend": true,
         "type": "scattermap"
        },
        {
         "hovertext": [
          "MABAL",
          "KILOT",
          "PIBAP",
          "PASPU",
          "NYLON",
          "POSUB",
          "SANAT"
         ],
         "lat": [
          3.46667,
          3.03333,
          2.5,
          1.98333,
          1.6,
          1.45,
          1.11667
         ],
         "legendgrouptitle": {
          "font": {
           "color": "salmon"
          },
          "text": "STAR"
         },
         "line": {
          "color": "salmon",
          "width": 1
         },
         "lon": [
          105.2,
          104.66667,
          104.1,
          104.1,
          104.1,
          104.11667,
          103.98333
         ],
         "mode": "lines+markers",
         "name": "MABAL2A : RWY 02L/02C/02R",
         "showlegend": true,
         "type": "scattermap"
        },
        {
         "hovertext": [
          "MABAL",
          "KILOT",
          "PIBAP",
          "PASPU",
          "NYLON"
         ],
         "lat": [
          3.46667,
          3.03333,
          2.5,
          1.98333,
          1.6
         ],
         "legendgrouptitle": {
          "font": {
           "color": "salmon"
          },
          "text": "STAR"
         },
         "line": {
          "color": "salmon",
          "width": 1
         },
         "lon": [
          105.2,
          104.66667,
          104.1,
          104.1,
          104.1
         ],
         "mode": "lines+markers",
         "name": "MABAL2B : RWY 20R/20C/20L",
         "showlegend": true,
         "type": "scattermap"
        },
        {
         "hovertext": [
          "REPOV",
          "REMES",
          "DUMUP",
          "SAMKO"
         ],
         "lat": [
          0.26667,
          0.71667,
          0.9,
          1.08333
         ],
         "legendgrouptitle": {
          "font": {
           "color": "salmon"
          },
          "text": "STAR"
         },
         "line": {
          "color": "salmon",
          "width": 1
         },
         "lon": [
          104.05,
          103.95,
          103.91667,
          103.86667
         ],
         "mode": "lines+markers",
         "name": "REPOV2A : RWY 02L/02C/02R",
         "showlegend": true,
         "type": "scattermap"
        },
        {
         "hovertext": [
          "REPOV",
          "REMES",
          "BITAM",
          "DOVAN",
          "BIPOP"
         ],
         "lat": [
          0.26667,
          0.71667,
          1.13333,
          1.31667,
          1.51667
         ],
         "legendgrouptitle": {
          "font": {
           "color": "salmon"
          },
          "text": "STAR"
         },
         "line": {
          "color": "salmon",
          "width": 1
         },
         "lon": [
          104.05,
          103.95,
          104.11667,
          104.2,
          104.16667
         ],
         "mode": "lines+markers",
         "name": "REPOV2B : RWY 20R/20C/20L",
         "showlegend": true,
         "type": "scattermap"
        },
        {
         "hovertext": [
          "TEBUN",
          "VAMPO",
          "IBASU",
          "VEXEL",
          "SAMKO"
         ],
         "lat": [
          1.23333,
          0.96667,
          0.95,
          0.98333,
          1.08333
         ],
         "legendgrouptitle": {
          "font": {
           "color": "salmon"
          },
          "text": "STAR"
         },
         "line": {
          "color": "salmon",
          "width": 1
         },
         "lon": [
          103.25,
          103.41667,
          103.56667,
          103.7,
          103.86667
         ],
         "mode": "lines+markers",
         "name": "TEBUN1A : RWY 02L/02C/02R",
         "showlegend": true,
         "type": "scattermap"
        },
        {
         "hovertext": [
          "TEBUN",
          "VAMPO",
          "IBASU",
          "VEXEL",
          "ABVIP",
          "AGROT",
          "BITAM",
          "DOVAN",
          "BIPOP"
         ],
         "lat": [
          1.23333,
          0.96667,
          0.95,
          0.98333,
          1,
          1.01667,
          1.13333,
          1.31667,
          1.51667
         ],
         "legendgrouptitle": {
          "font": {
           "color": "salmon"
          },
          "text": "STAR"
         },
         "line": {
          "color": "salmon",
          "width": 1
         },
         "lon": [
          103.25,
          103.41667,
          103.56667,
          103.7,
          103.83333,
          103.96667,
          104.11667,
          104.2,
          104.16667
         ],
         "mode": "lines+markers",
         "name": "TEBUN1B : RWY 20R/20C/20L",
         "showlegend": true,
         "type": "scattermap"
        },
        {
         "hovertext": [
          "UGEBO",
          "GUNUD",
          "KEXAS",
          "VIMAL",
          "IGNON",
          "SANAT"
         ],
         "lat": [
          0.63333,
          1.16667,
          1.16667,
          1.15,
          1.13333,
          1.11667
         ],
         "legendgrouptitle": {
          "font": {
           "color": "salmon"
          },
          "text": "STAR"
         },
         "line": {
          "color": "salmon",
          "width": 1
         },
         "lon": [
          105.4,
          105.1,
          104.8,
          104.38333,
          104.2,
          103.98333
         ],
         "mode": "lines+markers",
         "name": "UGEBO1A : RWY 02L/02C/02R",
         "showlegend": true,
         "type": "scattermap"
        },
        {
         "hovertext": [
          "UGEBO",
          "GUNUD",
          "KEXAS",
          "LAVAX",
          "DOVAN",
          "BIPOP"
         ],
         "lat": [
          0.63333,
          1.16667,
          1.16667,
          1.15,
          1.31667,
          1.51667
         ],
         "legendgrouptitle": {
          "font": {
           "color": "salmon"
          },
          "text": "STAR"
         },
         "line": {
          "color": "salmon",
          "width": 1
         },
         "lon": [
          105.4,
          105.1,
          104.8,
          104.45,
          104.2,
          104.16667
         ],
         "mode": "lines+markers",
         "name": "UGEBO1B : RWY 20R/20C/20L",
         "showlegend": true,
         "type": "scattermap"
        },
        {
         "hovertext": [
          "MOXIB",
          "EMRIX",
          "HOSBA",
          "VANBU",
          "VIRET",
          "GURES",
          "IKIRO",
          "ANITO"
         ],
         "lat": [
          1.48333,
          1.43333,
          1.31667,
          1.1,
          0.65,
          0.46667,
          0.13333,
          -0.28333
         ],
         "legendgrouptitle": {
          "font": {
           "color": "mediumseagreen"
          },
          "text": "SID"
         },
         "line": {
          "color": "mediumseagreen",
          "width": 1
         },
         "lon": [
          104.05,
          104.16667,
          104.4,
          104.45,
          104.58333,
          104.63333,
          104.73333,
          104.86667
         ],
         "mode": "lines+markers",
         "name": "ANITO7A : RWY 02C",
         "showlegend": true,
         "type": "scattermap"
        },
        {
         "hovertext": [
          "IBIXU",
          "IBIVA",
          "ISNOM",
          "ASOMI",
          "UPTEL",
          "IDKIV",
          "GIXEM",
          "VASTI",
          "VIRET",
          "GURES",
          "IKIRO",
          "ANITO"
         ],
         "lat": [
          1.26667,
          1.21667,
          1.1,
          1.01667,
          0.98333,
          0.93333,
          0.81667,
          0.71667,
          0.65,
          0.46667,
          0.13333,
          -0.28333
         ],
         "legendgrouptitle": {
          "font": {
           "color": "mediumseagreen"
          },
          "text": "SID"
         },
         "line": {
          "color": "mediumseagreen",
          "width": 1
         },
         "lon": [
          103.95,
          103.93333,
          103.96667,
          104.03333,
          104.11667,
          104.21667,
          104.41667,
          104.56667,
          104.58333,
          104.63333,
          104.73333,
          104.86667
         ],
         "mode": "lines+markers",
         "name": "ANITO8B : RWY 20C",
         "showlegend": true,
         "type": "scattermap"
        },
        {
         "hovertext": [
          "HOSBA",
          "VANBU",
          "VIRET",
          "GURES",
          "IKIRO",
          "ANITO"
         ],
         "lat": [
          1.31667,
          1.1,
          0.65,
          0.46667,
          0.13333,
          -0.28333
         ],
         "legendgrouptitle": {
          "font": {
           "color": "mediumseagreen"
          },
          "text": "SID"
         },
         "line": {
          "color": "mediumseagreen",
          "width": 1
         },
         "lon": [
          104.4,
          104.45,
          104.58333,
          104.63333,
          104.73333,
          104.86667
         ],
         "mode": "lines+markers",
         "name": "ANITO1C : RWY 02R",
         "showlegend": true,
         "type": "scattermap"
        },
        {
         "hovertext": [
          "UKIBO",
          "ISNOM",
          "ASOMI",
          "UPTEL",
          "IDKIV",
          "GIXEM",
          "VASTI",
          "VIRET",
          "GURES",
          "IKIRO",
          "ANITO"
         ],
         "lat": [
          1.28333,
          1.1,
          1.01667,
          0.98333,
          0.93333,
          0.81667,
          0.71667,
          0.65,
          0.46667,
          0.13333,
          -0.28333
         ],
         "legendgrouptitle": {
          "font": {
           "color": "mediumseagreen"
          },
          "text": "SID"
         },
         "line": {
          "color": "mediumseagreen",
          "width": 1
         },
         "lon": [
          103.98333,
          103.96667,
          104.03333,
          104.11667,
          104.21667,
          104.41667,
          104.56667,
          104.58333,
          104.63333,
          104.73333,
          104.86667
         ],
         "mode": "lines+markers",
         "name": "ANITO1D : RWY 20L",
         "showlegend": true,
         "type": "scattermap"
        },
        {
         "hovertext": [
          "MOLVO",
          "EMRIX",
          "HOSBA",
          "VANBU",
          "VIRET",
          "GURES",
          "IKIRO",
          "ANITO"
         ],
         "lat": [
          1.48333,
          1.43333,
          1.31667,
          1.1,
          0.65,
          0.46667,
          0.13333,
          -0.28333
         ],
         "legendgrouptitle": {
          "font": {
           "color": "mediumseagreen"
          },
          "text": "SID"
         },
         "line": {
          "color": "mediumseagreen",
          "width": 1
         },
         "lon": [
          104.03333,
          104.16667,
          104.4,
          104.45,
          104.58333,
          104.63333,
          104.73333,
          104.86667
         ],
         "mode": "lines+markers",
         "name": "ANITO7E : RWY 02L",
         "showlegend": true,
         "type": "scattermap"
        },
        {
         "hovertext": [
          "LEDOX",
          "LETGO",
          "ISNOM",
          "ASOMI",
          "UPTEL",
          "IDKIV",
          "GIXEM",
          "VASTI",
          "VIRET",
          "GURES",
          "IKIRO",
          "ANITO"
         ],
         "lat": [
          1.26667,
          1.23333,
          1.1,
          1.01667,
          0.98333,
          0.93333,
          0.81667,
          0.71667,
          0.65,
          0.46667,
          0.13333,
          -0.28333
         ],
         "legendgrouptitle": {
          "font": {
           "color": "mediumseagreen"
          },
          "text": "SID"
         },
         "line": {
          "color": "mediumseagreen",
          "width": 1
         },
         "lon": [
          103.93333,
          103.91667,
          103.96667,
          104.03333,
          104.11667,
          104.21667,
          104.41667,
          104.56667,
          104.58333,
          104.63333,
          104.73333,
          104.86667
         ],
         "mode": "lines+markers",
         "name": "ANITO8F : RWY 20R",
         "showlegend": true,
         "type": "scattermap"
        },
        {
         "hovertext": [
          "MOXIB",
          "AKOMA",
          "AKMET",
          "AROSO"
         ],
         "lat": [
          1.48333,
          1.75,
          1.88333,
          2.13333
         ],
         "legendgrouptitle": {
          "font": {
           "color": "mediumseagreen"
          },
          "text": "SID"
         },
         "line": {
          "color": "mediumseagreen",
          "width": 1
         },
         "lon": [
          104.05,
          103.9,
          103.71667,
          103.4
         ],
         "mode": "lines+markers",
         "name": "AROSO3A : RWY 02C",
         "showlegend": true,
         "type": "scattermap"
        },
        {
         "hovertext": [
          "IBIXU",
          "IBIVA",
          "DUBOT",
          "ADPON",
          "SALRU",
          "TEKONG",
          "AKOMA",
          "AKMET",
          "AROSO"
         ],
         "lat": [
          1.26667,
          1.21667,
          1.13333,
          1.2,
          1.28333,
          1.4,
          1.75,
          1.88333,
          2.13333
         ],
         "legendgrouptitle": {
          "font": {
           "color": "mediumseagreen"
          },
          "text": "SID"
         },
         "line": {
          "color": "mediumseagreen",
          "width": 1
         },
         "lon": [
          103.95,
          103.93333,
          104.01667,
          104.08333,
          104.13333,
          104.01667,
          103.9,
          103.71667,
          103.4
         ],
         "mode": "lines+markers",
         "name": "AROSO5B : RWY 20C",
         "showlegend": true,
         "type": "scattermap"
        },
        {
         "hovertext": [
          "AKOMA",
          "AKMET",
          "AROSO"
         ],
         "lat": [
          1.75,
          1.88333,
          2.13333
         ],
         "legendgrouptitle": {
          "font": {
           "color": "mediumseagreen"
          },
          "text": "SID"
         },
         "line": {
          "color": "mediumseagreen",
          "width": 1
         },
         "lon": [
          103.9,
          103.71667,
          103.4
         ],
         "mode": "lines+markers",
         "name": "AROSO1C : RWY 02R",
         "showlegend": true,
         "type": "scattermap"
        },
        {
         "hovertext": [
          "UKIBO",
          "POVEB",
          "ADPON",
          "SALRU",
          "TEKONG",
          "AKOMA",
          "AKMET",
          "AROSO"
         ],
         "lat": [
          1.28333,
          1.21667,
          1.2,
          1.28333,
          1.4,
          1.75,
          1.88333,
          2.13333
         ],
         "legendgrouptitle": {
          "font": {
           "color": "mediumseagreen"
          },
          "text": "SID"
         },
         "line": {
          "color": "mediumseagreen",
          "width": 1
         },
         "lon": [
          103.98333,
          104.01667,
          104.08333,
          104.13333,
          104.01667,
          103.9,
          103.71667,
          103.4
         ],
         "mode": "lines+markers",
         "name": "AROSO1D : RWY 20L",
         "showlegend": true,
         "type": "scattermap"
        },
        {
         "hovertext": [
          "MOLVO",
          "ATRUM",
          "AKOMA",
          "AKMET",
          "AROSO"
         ],
         "lat": [
          1.48333,
          1.53333,
          1.75,
          1.88333,
          2.13333
         ],
         "legendgrouptitle": {
          "font": {
           "color": "mediumseagreen"
          },
          "text": "SID"
         },
         "line": {
          "color": "mediumseagreen",
          "width": 1
         },
         "lon": [
          104.03333,
          104,
          103.9,
          103.71667,
          103.4
         ],
         "mode": "lines+markers",
         "name": "AROSO3E : RWY 02L",
         "showlegend": true,
         "type": "scattermap"
        },
        {
         "hovertext": [
          "LEDOX",
          "LETGO",
          "DUBOT",
          "ADPON",
          "SALRU",
          "TEKONG",
          "AKOMA",
          "AKMET",
          "AROSO"
         ],
         "lat": [
          1.26667,
          1.23333,
          1.13333,
          1.2,
          1.28333,
          1.4,
          1.75,
          1.88333,
          2.13333
         ],
         "legendgrouptitle": {
          "font": {
           "color": "mediumseagreen"
          },
          "text": "SID"
         },
         "line": {
          "color": "mediumseagreen",
          "width": 1
         },
         "lon": [
          103.93333,
          103.91667,
          104.01667,
          104.08333,
          104.13333,
          104.01667,
          103.9,
          103.71667,
          103.4
         ],
         "mode": "lines+markers",
         "name": "AROSO5F : RWY 20R",
         "showlegend": true,
         "type": "scattermap"
        },
        {
         "hovertext": [
          "MOXIB",
          "EMRIX",
          "HOSBA",
          "VEBMA",
          "TOMAN",
          "DODSO"
         ],
         "lat": [
          1.48333,
          1.43333,
          1.31667,
          1.33333,
          1.35,
          1.36667
         ],
         "legendgrouptitle": {
          "font": {
           "color": "mediumseagreen"
          },
          "text": "SID"
         },
         "line": {
          "color": "mediumseagreen",
          "width": 1
         },
         "lon": [
          104.05,
          104.16667,
          104.4,
          104.88333,
          105.78333,
          106.23333
         ],
         "mode": "lines+markers",
         "name": "DODSO1A : RWY 02C",
         "showlegend": true,
         "type": "scattermap"
        },
        {
         "hovertext": [
          "IBIXU",
          "IBIVA",
          "DUBOT",
          "ERVIV",
          "MUMDU",
          "SEBVO",
          "GOTGA",
          "VEBMA",
          "TOMAN",
          "DODSO"
         ],
         "lat": [
          1.26667,
          1.21667,
          1.13333,
          1.06667,
          1.08333,
          1.2,
          1.33333,
          1.33333,
          1.35,
          1.36667
         ],
         "legendgrouptitle": {
          "font": {
           "color": "mediumseagreen"
          },
          "text": "SID"
         },
         "line": {
          "color": "mediumseagreen",
          "width": 1
         },
         "lon": [
          103.95,
          103.93333,
          104.01667,
          104.16667,
          104.45,
          104.66667,
          104.7,
          104.88333,
          105.78333,
          106.23333
         ],
         "mode": "lines+markers",
         "name": "DODSO1B : RWY 20C",
         "showlegend": true,
         "type": "scattermap"
        },
        {
         "hovertext": [
          "HOSBA",
          "VEBMA",
          "TOMAN",
          "DODSO"
         ],
         "lat": [
          1.31667,
          1.33333,
          1.35,
          1.36667
         ],
         "legendgrouptitle": {
          "font": {
           "color": "mediumseagreen"
          },
          "text": "SID"
         },
         "line": {
          "color": "mediumseagreen",
          "width": 1
         },
         "lon": [
          104.4,
          104.88333,
          105.78333,
          106.23333
         ],
         "mode": "lines+markers",
         "name": "DODSO1C : RWY 02R",
         "showlegend": true,
         "type": "scattermap"
        },
        {
         "hovertext": [
          "UKIBO",
          "DUBOT",
          "ERVIV",
          "MUMDU",
          "SEBVO",
          "GOTGA",
          "VEBMA",
          "TOMAN",
          "DODSO"
         ],
         "lat": [
          1.28333,
          1.13333,
          1.06667,
          1.08333,
          1.2,
          1.33333,
          1.33333,
          1.35,
          1.36667
         ],
         "legendgrouptitle": {
          "font": {
           "color": "mediumseagreen"
          },
          "text": "SID"
         },
         "line": {
          "color": "mediumseagreen",
          "width": 1
         },
         "lon": [
          103.98333,
          104.01667,
          104.16667,
          104.45,
          104.66667,
          104.7,
          104.88333,
          105.78333,
          106.23333
         ],
         "mode": "lines+markers",
         "name": "DODSO1D : RWY 20L",
         "showlegend": true,
         "type": "scattermap"
        },
        {
         "hovertext": [
          "MOLVO",
          "EMRIX",
          "HOSBA",
          "VEBMA",
          "TOMAN",
          "DODSO"
         ],
         "lat": [
          1.48333,
          1.43333,
          1.31667,
          1.33333,
          1.35,
          1.36667
         ],
         "legendgrouptitle": {
          "font": {
           "color": "mediumseagreen"
          },
          "text": "SID"
         },
         "line": {
          "color": "mediumseagreen",
          "width": 1
         },
         "lon": [
          104.03333,
          104.16667,
          104.4,
          104.88333,
          105.78333,
          106.23333
         ],
         "mode": "lines+markers",
         "name": "DODSO1E : RWY 02L",
         "showlegend": true,
         "type": "scattermap"
        },
        {
         "hovertext": [
          "LEDOX",
          "LETGO",
          "DUBOT",
          "ERVIV",
          "MUMDU",
          "SEBVO",
          "GOTGA",
          "VEBMA",
          "TOMAN",
          "DODSO"
         ],
         "lat": [
          1.26667,
          1.23333,
          1.13333,
          1.06667,
          1.08333,
          1.2,
          1.33333,
          1.33333,
          1.35,
          1.36667
         ],
         "legendgrouptitle": {
          "font": {
           "color": "mediumseagreen"
          },
          "text": "SID"
         },
         "line": {
          "color": "mediumseagreen",
          "width": 1
         },
         "lon": [
          103.93333,
          103.91667,
          104.01667,
          104.16667,
          104.45,
          104.66667,
          104.7,
          104.88333,
          105.78333,
          106.23333
         ],
         "mode": "lines+markers",
         "name": "DODSO1F : RWY 20R",
         "showlegend": true,
         "type": "scattermap"
        },
        {
         "hovertext": [
          "MOXIB",
          "EMRIX",
          "HOSBA",
          "VANBU",
          "VIRET",
          "GURES",
          "IDBUD"
         ],
         "lat": [
          1.48333,
          1.43333,
          1.31667,
          1.1,
          0.65,
          0.46667,
          0.23333
         ],
         "legendgrouptitle": {
          "font": {
           "color": "mediumseagreen"
          },
          "text": "SID"
         },
         "line": {
          "color": "mediumseagreen",
          "width": 1
         },
         "lon": [
          104.05,
          104.16667,
          104.4,
          104.45,
          104.58333,
          104.63333,
          105.01667
         ],
         "mode": "lines+markers",
         "name": "IDBUD1A : RWY 02C",
         "showlegend": true,
         "type": "scattermap"
        },
        {
         "hovertext": [
          "IBIXU",
          "IBIVA",
          "ISNOM",
          "ASOMI",
          "UPTEL",
          "IDKIV",
          "GIXEM",
          "VASTI",
          "VIRET",
          "GURES",
          "IDBUD"
         ],
         "lat": [
          1.26667,
          1.21667,
          1.1,
          1.01667,
          0.98333,
          0.93333,
          0.81667,
          0.71667,
          0.65,
          0.46667,
          0.23333
         ],
         "legendgrouptitle": {
          "font": {
           "color": "mediumseagreen"
          },
          "text": "SID"
         },
         "line": {
          "color": "mediumseagreen",
          "width": 1
         },
         "lon": [
          103.95,
          103.93333,
          103.96667,
          104.03333,
          104.11667,
          104.21667,
          104.41667,
          104.56667,
          104.58333,
          104.63333,
          105.01667
         ],
         "mode": "lines+markers",
         "name": "IDBUD1B : RWY 20C",
         "showlegend": true,
         "type": "scattermap"
        },
        {
         "hovertext": [
          "HOSBA",
          "VANBU",
          "VIRET",
          "GURES",
          "IDBUD"
         ],
         "lat": [
          1.31667,
          1.1,
          0.65,
          0.46667,
          0.23333
         ],
         "legendgrouptitle": {
          "font": {
           "color": "mediumseagreen"
          },
          "text": "SID"
         },
         "line": {
          "color": "mediumseagreen",
          "width": 1
         },
         "lon": [
          104.4,
          104.45,
          104.58333,
          104.63333,
          105.01667
         ],
         "mode": "lines+markers",
         "name": "IDBUD1C : RWY 02R",
         "showlegend": true,
         "type": "scattermap"
        },
        {
         "hovertext": [
          "UKIBO",
          "ISNOM",
          "ASOMI",
          "UPTEL",
          "IDKIV",
          "GIXEM",
          "VASTI",
          "VIRET",
          "GURES",
          "IDBUD"
         ],
         "lat": [
          1.28333,
          1.1,
          1.01667,
          0.98333,
          0.93333,
          0.81667,
          0.71667,
          0.65,
          0.46667,
          0.23333
         ],
         "legendgrouptitle": {
          "font": {
           "color": "mediumseagreen"
          },
          "text": "SID"
         },
         "line": {
          "color": "mediumseagreen",
          "width": 1
         },
         "lon": [
          103.98333,
          103.96667,
          104.03333,
          104.11667,
          104.21667,
          104.41667,
          104.56667,
          104.58333,
          104.63333,
          105.01667
         ],
         "mode": "lines+markers",
         "name": "IDBUD1D : RWY 20L",
         "showlegend": true,
         "type": "scattermap"
        },
        {
         "hovertext": [
          "MOLVO",
          "EMRIX",
          "HOSBA",
          "VANBU",
          "VIRET",
          "GURES",
          "IDBUD"
         ],
         "lat": [
          1.48333,
          1.43333,
          1.31667,
          1.1,
          0.65,
          0.46667,
          0.23333
         ],
         "legendgrouptitle": {
          "font": {
           "color": "mediumseagreen"
          },
          "text": "SID"
         },
         "line": {
          "color": "mediumseagreen",
          "width": 1
         },
         "lon": [
          104.03333,
          104.16667,
          104.4,
          104.45,
          104.58333,
          104.63333,
          105.01667
         ],
         "mode": "lines+markers",
         "name": "IDBUD1E : RWY 02L",
         "showlegend": true,
         "type": "scattermap"
        },
        {
         "hovertext": [
          "LEDOX",
          "LETGO",
          "ISNOM",
          "ASOMI",
          "UPTEL",
          "IDKIV",
          "GIXEM",
          "VASTI",
          "VIRET",
          "GURES",
          "IDBUD"
         ],
         "lat": [
          1.26667,
          1.23333,
          1.1,
          1.01667,
          0.98333,
          0.93333,
          0.81667,
          0.71667,
          0.65,
          0.46667,
          0.23333
         ],
         "legendgrouptitle": {
          "font": {
           "color": "mediumseagreen"
          },
          "text": "SID"
         },
         "line": {
          "color": "mediumseagreen",
          "width": 1
         },
         "lon": [
          103.93333,
          103.91667,
          103.96667,
          104.03333,
          104.11667,
          104.21667,
          104.41667,
          104.56667,
          104.58333,
          104.63333,
          105.01667
         ],
         "mode": "lines+markers",
         "name": "IDBUD1F : RWY 20R",
         "showlegend": true,
         "type": "scattermap"
        },
        {
         "hovertext": [
          "MOXIB",
          "EMRIX",
          "HOSBA",
          "VANBU",
          "VIRET",
          "GURES",
          "IKIRO",
          "KIRDA"
         ],
         "lat": [
          1.48333,
          1.43333,
          1.31667,
          1.1,
          0.65,
          0.46667,
          0.13333,
          0
         ],
         "legendgrouptitle": {
          "font": {
           "color": "mediumseagreen"
          },
          "text": "SID"
         },
         "line": {
          "color": "mediumseagreen",
          "width": 1
         },
         "lon": [
          104.05,
          104.16667,
          104.4,
          104.45,
          104.58333,
          104.63333,
          104.73333,
          104.98333
         ],
         "mode": "lines+markers",
         "name": "KIRDA1A : RWY 02C",
         "showlegend": true,
         "type": "scattermap"
        },
        {
         "hovertext": [
          "IBIXU",
          "IBIVA",
          "ISNOM",
          "ASOMI",
          "UPTEL",
          "IDKIV",
          "GIXEM",
          "VASTI",
          "VIRET",
          "GURES",
          "IKIRO",
          "KIRDA"
         ],
         "lat": [
          1.26667,
          1.21667,
          1.1,
          1.01667,
          0.98333,
          0.93333,
          0.81667,
          0.71667,
          0.65,
          0.46667,
          0.13333,
          0
         ],
         "legendgrouptitle": {
          "font": {
           "color": "mediumseagreen"
          },
          "text": "SID"
         },
         "line": {
          "color": "mediumseagreen",
          "width": 1
         },
         "lon": [
          103.95,
          103.93333,
          103.96667,
          104.03333,
          104.11667,
          104.21667,
          104.41667,
          104.56667,
          104.58333,
          104.63333,
          104.73333,
          104.98333
         ],
         "mode": "lines+markers",
         "name": "KIRDA1B : RWY 20C",
         "showlegend": true,
         "type": "scattermap"
        },
        {
         "hovertext": [
          "HOSBA",
          "VANBU",
          "VIRET",
          "GURES",
          "IKIRO",
          "KIRDA"
         ],
         "lat": [
          1.31667,
          1.1,
          0.65,
          0.46667,
          0.13333,
          0
         ],
         "legendgrouptitle": {
          "font": {
           "color": "mediumseagreen"
          },
          "text": "SID"
         },
         "line": {
          "color": "mediumseagreen",
          "width": 1
         },
         "lon": [
          104.4,
          104.45,
          104.58333,
          104.63333,
          104.73333,
          104.98333
         ],
         "mode": "lines+markers",
         "name": "KIRDA1C : RWY 02R",
         "showlegend": true,
         "type": "scattermap"
        },
        {
         "hovertext": [
          "UKIBO",
          "ISNOM",
          "ASOMI",
          "UPTEL",
          "IDKIV",
          "GIXEM",
          "VASTI",
          "VIRET",
          "GURES",
          "IKIRO",
          "KIRDA"
         ],
         "lat": [
          1.28333,
          1.1,
          1.01667,
          0.98333,
          0.93333,
          0.81667,
          0.71667,
          0.65,
          0.46667,
          0.13333,
          0
         ],
         "legendgrouptitle": {
          "font": {
           "color": "mediumseagreen"
          },
          "text": "SID"
         },
         "line": {
          "color": "mediumseagreen",
          "width": 1
         },
         "lon": [
          103.98333,
          103.96667,
          104.03333,
          104.11667,
          104.21667,
          104.41667,
          104.56667,
          104.58333,
          104.63333,
          104.73333,
          104.98333
         ],
         "mode": "lines+markers",
         "name": "KIRDA1D : RWY 20L",
         "showlegend": true,
         "type": "scattermap"
        },
        {
         "hovertext": [
          "MOLVO",
          "EMRIX",
          "HOSBA",
          "VANBU",
          "VIRET",
          "GURES",
          "IKIRO",
          "KIRDA"
         ],
         "lat": [
          1.48333,
          1.43333,
          1.31667,
          1.1,
          0.65,
          0.46667,
          0.13333,
          0
         ],
         "legendgrouptitle": {
          "font": {
           "color": "mediumseagreen"
          },
          "text": "SID"
         },
         "line": {
          "color": "mediumseagreen",
          "width": 1
         },
         "lon": [
          104.03333,
          104.16667,
          104.4,
          104.45,
          104.58333,
          104.63333,
          104.73333,
          104.98333
         ],
         "mode": "lines+markers",
         "name": "KIRDA1E : RWY 02L",
         "showlegend": true,
         "type": "scattermap"
        },
        {
         "hovertext": [
          "LEDOX",
          "LETGO",
          "ISNOM",
          "ASOMI",
          "UPTEL",
          "IDKIV",
          "GIXEM",
          "VASTI",
          "VIRET",
          "GURES",
          "IKIRO",
          "KIRDA"
         ],
         "lat": [
          1.26667,
          1.23333,
          1.1,
          1.01667,
          0.98333,
          0.93333,
          0.81667,
          0.71667,
          0.65,
          0.46667,
          0.13333,
          0
         ],
         "legendgrouptitle": {
          "font": {
           "color": "mediumseagreen"
          },
          "text": "SID"
         },
         "line": {
          "color": "mediumseagreen",
          "width": 1
         },
         "lon": [
          103.93333,
          103.91667,
          103.96667,
          104.03333,
          104.11667,
          104.21667,
          104.41667,
          104.56667,
          104.58333,
          104.63333,
          104.73333,
          104.98333
         ],
         "mode": "lines+markers",
         "name": "KIRDA1F : RWY 20R",
         "showlegend": true,
         "type": "scattermap"
        },
        {
         "hovertext": [
          "MOXIB",
          "AKOMA",
          "AGVAR",
          "SABKA",
          "MASBO"
         ],
         "lat": [
          1.48333,
          1.75,
          1.78333,
          1.83333,
          2.03333
         ],
         "legendgrouptitle": {
          "font": {
           "color": "mediumseagreen"
          },
          "text": "SID"
         },
         "line": {
          "color": "mediumseagreen",
          "width": 1
         },
         "lon": [
          104.05,
          103.9,
          103.68333,
          103.28333,
          102.86667
         ],
         "mode": "lines+markers",
         "name": "MASBO3A : RWY 02C",
         "showlegend": true,
         "type": "scattermap"
        },
        {
         "hovertext": [
          "IBIXU",
          "IBIVA",
          "DUBOT",
          "ADPON",
          "SALRU",
          "TEKONG",
          "AKOMA",
          "AGVAR",
          "SABKA",
          "MASBO"
         ],
         "lat": [
          1.26667,
          1.21667,
          1.13333,
          1.2,
          1.28333,
          1.4,
          1.75,
          1.78333,
          1.83333,
          2.03333
         ],
         "legendgrouptitle": {
          "font": {
           "color": "mediumseagreen"
          },
          "text": "SID"
         },
         "line": {
          "color": "mediumseagreen",
          "width": 1
         },
         "lon": [
          103.95,
          103.93333,
          104.01667,
          104.08333,
          104.13333,
          104.01667,
          103.9,
          103.68333,
          103.28333,
          102.86667
         ],
         "mode": "lines+markers",
         "name": "MASBO5B : RWY 20C",
         "showlegend": true,
         "type": "scattermap"
        },
        {
         "hovertext": [
          "AKOMA",
          "AGVAR",
          "SABKA",
          "MASBO"
         ],
         "lat": [
          1.75,
          1.78333,
          1.83333,
          2.03333
         ],
         "legendgrouptitle": {
          "font": {
           "color": "mediumseagreen"
          },
          "text": "SID"
         },
         "line": {
          "color": "mediumseagreen",
          "width": 1
         },
         "lon": [
          103.9,
          103.68333,
          103.28333,
          102.86667
         ],
         "mode": "lines+markers",
         "name": "MASBO1C : RWY 02R",
         "showlegend": true,
         "type": "scattermap"
        },
        {
         "hovertext": [
          "UKIBO",
          "POVEB",
          "ADPON",
          "SALRU",
          "TEKONG",
          "AKOMA",
          "AGVAR",
          "SABKA",
          "MASBO"
         ],
         "lat": [
          1.28333,
          1.21667,
          1.2,
          1.28333,
          1.4,
          1.75,
          1.78333,
          1.83333,
          2.03333
         ],
         "legendgrouptitle": {
          "font": {
           "color": "mediumseagreen"
          },
          "text": "SID"
         },
         "line": {
          "color": "mediumseagreen",
          "width": 1
         },
         "lon": [
          103.98333,
          104.01667,
          104.08333,
          104.13333,
          104.01667,
          103.9,
          103.68333,
          103.28333,
          102.86667
         ],
         "mode": "lines+markers",
         "name": "MASBO1D : RWY 20L",
         "showlegend": true,
         "type": "scattermap"
        },
        {
         "hovertext": [
          "MOLVO",
          "ATRUM",
          "AKOMA",
          "AGVAR",
          "SABKA",
          "MASBO"
         ],
         "lat": [
          1.48333,
          1.53333,
          1.75,
          1.78333,
          1.83333,
          2.03333
         ],
         "legendgrouptitle": {
          "font": {
           "color": "mediumseagreen"
          },
          "text": "SID"
         },
         "line": {
          "color": "mediumseagreen",
          "width": 1
         },
         "lon": [
          104.03333,
          104,
          103.9,
          103.68333,
          103.28333,
          102.86667
         ],
         "mode": "lines+markers",
         "name": "MASBO3E : RWY 02L",
         "showlegend": true,
         "type": "scattermap"
        },
        {
         "hovertext": [
          "LEDOX",
          "LETGO",
          "DUBOT",
          "ADPON",
          "SALRU",
          "TEKONG",
          "AKOMA",
          "AGVAR",
          "SABKA",
          "MASBO"
         ],
         "lat": [
          1.26667,
          1.23333,
          1.13333,
          1.2,
          1.28333,
          1.4,
          1.75,
          1.78333,
          1.83333,
          2.03333
         ],
         "legendgrouptitle": {
          "font": {
           "color": "mediumseagreen"
          },
          "text": "SID"
         },
         "line": {
          "color": "mediumseagreen",
          "width": 1
         },
         "lon": [
          103.93333,
          103.91667,
          104.01667,
          104.08333,
          104.13333,
          104.01667,
          103.9,
          103.68333,
          103.28333,
          102.86667
         ],
         "mode": "lines+markers",
         "name": "MASBO5F : RWY 20R",
         "showlegend": true,
         "type": "scattermap"
        },
        {
         "hovertext": [
          "MOXIB",
          "AKOMA",
          "VMR"
         ],
         "lat": [
          1.48333,
          1.75,
          2.38333
         ],
         "legendgrouptitle": {
          "font": {
           "color": "mediumseagreen"
          },
          "text": "SID"
         },
         "line": {
          "color": "mediumseagreen",
          "width": 1
         },
         "lon": [
          104.05,
          103.9,
          103.86667
         ],
         "mode": "lines+markers",
         "name": "VMR6A : RWY 02C",
         "showlegend": true,
         "type": "scattermap"
        },
        {
         "hovertext": [
          "IBIXU",
          "IBIVA",
          "DUBOT",
          "ADPON",
          "SALRU",
          "TEKONG",
          "AKOMA",
          "VMR"
         ],
         "lat": [
          1.26667,
          1.21667,
          1.13333,
          1.2,
          1.28333,
          1.4,
          1.75,
          2.38333
         ],
         "legendgrouptitle": {
          "font": {
           "color": "mediumseagreen"
          },
          "text": "SID"
         },
         "line": {
          "color": "mediumseagreen",
          "width": 1
         },
         "lon": [
          103.95,
          103.93333,
          104.01667,
          104.08333,
          104.13333,
          104.01667,
          103.9,
          103.86667
         ],
         "mode": "lines+markers",
         "name": "VMR9B : RWY 20C",
         "showlegend": true,
         "type": "scattermap"
        },
        {
         "hovertext": [
          "AKOMA",
          "VMR"
         ],
         "lat": [
          1.75,
          2.38333
         ],
         "legendgrouptitle": {
          "font": {
           "color": "mediumseagreen"
          },
          "text": "SID"
         },
         "line": {
          "color": "mediumseagreen",
          "width": 1
         },
         "lon": [
          103.9,
          103.86667
         ],
         "mode": "lines+markers",
         "name": "VMR1C : RWY 02R",
         "showlegend": true,
         "type": "scattermap"
        },
        {
         "hovertext": [
          "UKIBO",
          "POVEB",
          "ADPON",
          "SALRU",
          "TEKONG",
          "AKOMA",
          "VMR"
         ],
         "lat": [
          1.28333,
          1.21667,
          1.2,
          1.28333,
          1.4,
          1.75,
          2.38333
         ],
         "legendgrouptitle": {
          "font": {
           "color": "mediumseagreen"
          },
          "text": "SID"
         },
         "line": {
          "color": "mediumseagreen",
          "width": 1
         },
         "lon": [
          103.98333,
          104.01667,
          104.08333,
          104.13333,
          104.01667,
          103.9,
          103.86667
         ],
         "mode": "lines+markers",
         "name": "VMR1D : RWY 20L",
         "showlegend": true,
         "type": "scattermap"
        },
        {
         "hovertext": [
          "MOLVO",
          "ATRUM",
          "AKOMA",
          "VMR"
         ],
         "lat": [
          1.48333,
          1.53333,
          1.75,
          2.38333
         ],
         "legendgrouptitle": {
          "font": {
           "color": "mediumseagreen"
          },
          "text": "SID"
         },
         "line": {
          "color": "mediumseagreen",
          "width": 1
         },
         "lon": [
          104.03333,
          104,
          103.9,
          103.86667
         ],
         "mode": "lines+markers",
         "name": "VMR6E : RWY 02L",
         "showlegend": true,
         "type": "scattermap"
        },
        {
         "hovertext": [
          "LEDOX",
          "LETGO",
          "DUBOT",
          "ADPON",
          "SALRU",
          "TEKONG",
          "AKOMA",
          "VMR"
         ],
         "lat": [
          1.26667,
          1.23333,
          1.13333,
          1.2,
          1.28333,
          1.4,
          1.75,
          2.38333
         ],
         "legendgrouptitle": {
          "font": {
           "color": "mediumseagreen"
          },
          "text": "SID"
         },
         "line": {
          "color": "mediumseagreen",
          "width": 1
         },
         "lon": [
          103.93333,
          103.91667,
          104.01667,
          104.08333,
          104.13333,
          104.01667,
          103.9,
          103.86667
         ],
         "mode": "lines+markers",
         "name": "VMR9F : RWY 20R",
         "showlegend": true,
         "type": "scattermap"
        },
        {
         "hovertext": [
          "MOXIB",
          "EMRIX",
          "HOSBA",
          "VANBU",
          "IGOSI",
          "ASITI",
          "VIBOG",
          "ISGIL",
          "BISOV",
          "MIBEL"
         ],
         "lat": [
          1.48333,
          1.43333,
          1.31667,
          1.1,
          0.93333,
          0.81667,
          0.71667,
          0.7,
          0.7,
          1.38333
         ],
         "legendgrouptitle": {
          "font": {
           "color": "mediumseagreen"
          },
          "text": "SID"
         },
         "line": {
          "color": "mediumseagreen",
          "width": 1
         },
         "lon": [
          104.05,
          104.16667,
          104.4,
          104.45,
          104.1,
          103.83333,
          103.71667,
          103.2,
          102.86667,
          102.13333
         ],
         "mode": "lines+markers",
         "name": "MIBEL1A : RWY 02C",
         "showlegend": true,
         "type": "scattermap"
        },
        {
         "hovertext": [
          "IBIXU",
          "IBIVA",
          "SAMKO",
          "VIBOG",
          "ISGIL",
          "BISOV",
          "MIBEL"
         ],
         "lat": [
          1.26667,
          1.21667,
          1.08333,
          0.71667,
          0.7,
          0.7,
          1.38333
         ],
         "legendgrouptitle": {
          "font": {
           "color": "mediumseagreen"
          },
          "text": "SID"
         },
         "line": {
          "color": "mediumseagreen",
          "width": 1
         },
         "lon": [
          103.95,
          103.93333,
          103.86667,
          103.71667,
          103.2,
          102.86667,
          102.13333
         ],
         "mode": "lines+markers",
         "name": "MIBEL1B : RWY 20C",
         "showlegend": true,
         "type": "scattermap"
        },
        {
         "hovertext": [
          "HOSBA",
          "VANBU",
          "IGOSI",
          "ASITI",
          "VIBOG",
          "ISGIL",
          "BISOV",
          "MIBEL"
         ],
         "lat": [
          1.31667,
          1.1,
          0.93333,
          0.81667,
          0.71667,
          0.7,
          0.7,
          1.38333
         ],
         "legendgrouptitle": {
          "font": {
           "color": "mediumseagreen"
          },
          "text": "SID"
         },
         "line": {
          "color": "mediumseagreen",
          "width": 1
         },
         "lon": [
          104.4,
          104.45,
          104.1,
          103.83333,
          103.71667,
          103.2,
          102.86667,
          102.13333
         ],
         "mode": "lines+markers",
         "name": "MIBEL1C : RWY 02R",
         "showlegend": true,
         "type": "scattermap"
        },
        {
         "hovertext": [
          "UKIBO",
          "VIGUD",
          "SAMKO",
          "VIBOG",
          "ISGIL",
          "BISOV",
          "MIBEL"
         ],
         "lat": [
          1.28333,
          1.21667,
          1.08333,
          0.71667,
          0.7,
          0.7,
          1.38333
         ],
         "legendgrouptitle": {
          "font": {
           "color": "mediumseagreen"
          },
          "text": "SID"
         },
         "line": {
          "color": "mediumseagreen",
          "width": 1
         },
         "lon": [
          103.98333,
          103.95,
          103.86667,
          103.71667,
          103.2,
          102.86667,
          102.13333
         ],
         "mode": "lines+markers",
         "name": "MIBEL1D : RWY 20L",
         "showlegend": true,
         "type": "scattermap"
        },
        {
         "hovertext": [
          "MOLVO",
          "EMRIX",
          "HOSBA",
          "VANBU",
          "IGOSI",
          "ASITI",
          "VIBOG",
          "ISGIL",
          "BISOV",
          "TAROS"
         ],
         "lat": [
          1.48333,
          1.43333,
          1.31667,
          1.1,
          0.93333,
          0.81667,
          0.71667,
          0.7,
          0.7,
          0.7
         ],
         "legendgrouptitle": {
          "font": {
           "color": "mediumseagreen"
          },
          "text": "SID"
         },
         "line": {
          "color": "mediumseagreen",
          "width": 1
         },
         "lon": [
          104.03333,
          104.16667,
          104.4,
          104.45,
          104.1,
          103.83333,
          103.71667,
          103.2,
          102.86667,
          102.26667
         ],
         "mode": "lines+markers",
         "name": "MIBEL1E : RWY 02L",
         "showlegend": true,
         "type": "scattermap"
        },
        {
         "hovertext": [
          "LEDOX",
          "LETGO",
          "SAMKO",
          "VIBOG",
          "ISGIL",
          "BISOV",
          "TAROS"
         ],
         "lat": [
          1.26667,
          1.23333,
          1.08333,
          0.71667,
          0.7,
          0.7,
          0.7
         ],
         "legendgrouptitle": {
          "font": {
           "color": "mediumseagreen"
          },
          "text": "SID"
         },
         "line": {
          "color": "mediumseagreen",
          "width": 1
         },
         "lon": [
          103.93333,
          103.91667,
          103.86667,
          103.71667,
          103.2,
          102.86667,
          102.26667
         ],
         "mode": "lines+markers",
         "name": "MIBEL1F : RWY 20R",
         "showlegend": true,
         "type": "scattermap"
        },
        {
         "hovertext": [
          "MOXIB",
          "EMRIX",
          "HOSBA",
          "VANBU",
          "IGOSI",
          "ASITI",
          "VIBOG",
          "ISGIL",
          "BISOV",
          "TAROS"
         ],
         "lat": [
          1.48333,
          1.43333,
          1.31667,
          1.1,
          0.93333,
          0.81667,
          0.71667,
          0.7,
          0.7,
          0.7
         ],
         "legendgrouptitle": {
          "font": {
           "color": "mediumseagreen"
          },
          "text": "SID"
         },
         "line": {
          "color": "mediumseagreen",
          "width": 1
         },
         "lon": [
          104.05,
          104.16667,
          104.4,
          104.45,
          104.1,
          103.83333,
          103.71667,
          103.2,
          102.86667,
          102.26667
         ],
         "mode": "lines+markers",
         "name": "TAROS1A : RWY 02C",
         "showlegend": true,
         "type": "scattermap"
        },
        {
         "hovertext": [
          "IBIXU",
          "IBIVA",
          "SAMKO",
          "VIBOG",
          "ISGIL",
          "BISOV",
          "TAROS"
         ],
         "lat": [
          1.26667,
          1.21667,
          1.08333,
          0.71667,
          0.7,
          0.7,
          0.7
         ],
         "legendgrouptitle": {
          "font": {
           "color": "mediumseagreen"
          },
          "text": "SID"
         },
         "line": {
          "color": "mediumseagreen",
          "width": 1
         },
         "lon": [
          103.95,
          103.93333,
          103.86667,
          103.71667,
          103.2,
          102.86667,
          102.26667
         ],
         "mode": "lines+markers",
         "name": "TAROS1B : RWY 20C",
         "showlegend": true,
         "type": "scattermap"
        },
        {
         "hovertext": [
          "HOSBA",
          "VANBU",
          "IGOSI",
          "ASITI",
          "VIBOG",
          "ISGIL",
          "BISOV",
          "TAROS"
         ],
         "lat": [
          1.31667,
          1.1,
          0.93333,
          0.81667,
          0.71667,
          0.7,
          0.7,
          0.7
         ],
         "legendgrouptitle": {
          "font": {
           "color": "mediumseagreen"
          },
          "text": "SID"
         },
         "line": {
          "color": "mediumseagreen",
          "width": 1
         },
         "lon": [
          104.4,
          104.45,
          104.1,
          103.83333,
          103.71667,
          103.2,
          102.86667,
          102.26667
         ],
         "mode": "lines+markers",
         "name": "TAROS1C : RWY 02R",
         "showlegend": true,
         "type": "scattermap"
        },
        {
         "hovertext": [
          "UKIBO",
          "VIGUD",
          "SAMKO",
          "VIBOG",
          "ISGIL",
          "BISOV",
          "TAROS"
         ],
         "lat": [
          1.28333,
          1.21667,
          1.08333,
          0.71667,
          0.7,
          0.7,
          0.7
         ],
         "legendgrouptitle": {
          "font": {
           "color": "mediumseagreen"
          },
          "text": "SID"
         },
         "line": {
          "color": "mediumseagreen",
          "width": 1
         },
         "lon": [
          103.98333,
          103.95,
          103.86667,
          103.71667,
          103.2,
          102.86667,
          102.26667
         ],
         "mode": "lines+markers",
         "name": "TAROS1D : RWY 20L",
         "showlegend": true,
         "type": "scattermap"
        },
        {
         "hovertext": [
          "MOLVO",
          "EMRIX",
          "HOSBA",
          "VANBU",
          "IGOSI",
          "ASITI",
          "VIBOG",
          "ISGIL",
          "BISOV",
          "TAROS"
         ],
         "lat": [
          1.48333,
          1.43333,
          1.31667,
          1.1,
          0.93333,
          0.81667,
          0.71667,
          0.7,
          0.7,
          0.7
         ],
         "legendgrouptitle": {
          "font": {
           "color": "mediumseagreen"
          },
          "text": "SID"
         },
         "line": {
          "color": "mediumseagreen",
          "width": 1
         },
         "lon": [
          104.03333,
          104.16667,
          104.4,
          104.45,
          104.1,
          103.83333,
          103.71667,
          103.2,
          102.86667,
          102.26667
         ],
         "mode": "lines+markers",
         "name": "TAROS1E : RWY 02L",
         "showlegend": true,
         "type": "scattermap"
        },
        {
         "hovertext": [
          "LEDOX",
          "LETGO",
          "SAMKO",
          "VIBOG",
          "ISGIL",
          "BISOV",
          "TAROS"
         ],
         "lat": [
          1.26667,
          1.23333,
          1.08333,
          0.71667,
          0.7,
          0.7,
          0.7
         ],
         "legendgrouptitle": {
          "font": {
           "color": "mediumseagreen"
          },
          "text": "SID"
         },
         "line": {
          "color": "mediumseagreen",
          "width": 1
         },
         "lon": [
          103.93333,
          103.91667,
          103.86667,
          103.71667,
          103.2,
          102.86667,
          102.26667
         ],
         "mode": "lines+markers",
         "name": "TAROS1F : RWY 20R",
         "showlegend": true,
         "type": "scattermap"
        },
        {
         "hovertext": [
          "MOXIB",
          "EMRIX",
          "HOSBA",
          "VEBMA",
          "TOMAN"
         ],
         "lat": [
          1.48333,
          1.43333,
          1.31667,
          1.33333,
          1.35
         ],
         "legendgrouptitle": {
          "font": {
           "color": "mediumseagreen"
          },
          "text": "SID"
         },
         "line": {
          "color": "mediumseagreen",
          "width": 1
         },
         "lon": [
          104.05,
          104.16667,
          104.4,
          104.88333,
          105.78333
         ],
         "mode": "lines+markers",
         "name": "TOMAN3A : RWY 02C",
         "showlegend": true,
         "type": "scattermap"
        },
        {
         "hovertext": [
          "IBIXU",
          "IBIVA",
          "DUBOT",
          "ERVIV",
          "MUMDU",
          "SEBVO",
          "GOTGA",
          "VEBMA",
          "TOMAN"
         ],
         "lat": [
          1.26667,
          1.21667,
          1.13333,
          1.06667,
          1.08333,
          1.2,
          1.33333,
          1.33333,
          1.35
         ],
         "legendgrouptitle": {
          "font": {
           "color": "mediumseagreen"
          },
          "text": "SID"
         },
         "line": {
          "color": "mediumseagreen",
          "width": 1
         },
         "lon": [
          103.95,
          103.93333,
          104.01667,
          104.16667,
          104.45,
          104.66667,
          104.7,
          104.88333,
          105.78333
         ],
         "mode": "lines+markers",
         "name": "TOMAN5B : RWY 20C",
         "showlegend": true,
         "type": "scattermap"
        },
        {
         "hovertext": [
          "HOSBA",
          "VEBMA",
          "TOMAN"
         ],
         "lat": [
          1.31667,
          1.33333,
          1.35
         ],
         "legendgrouptitle": {
          "font": {
           "color": "mediumseagreen"
          },
          "text": "SID"
         },
         "line": {
          "color": "mediumseagreen",
          "width": 1
         },
         "lon": [
          104.4,
          104.88333,
          105.78333
         ],
         "mode": "lines+markers",
         "name": "TOMAN1C : RWY 02R",
         "showlegend": true,
         "type": "scattermap"
        },
        {
         "hovertext": [
          "UKIBO",
          "DUBOT",
          "ERVIV",
          "MUMDU",
          "SEBVO",
          "GOTGA",
          "VEBMA",
          "TOMAN"
         ],
         "lat": [
          1.28333,
          1.13333,
          1.06667,
          1.08333,
          1.2,
          1.33333,
          1.33333,
          1.35
         ],
         "legendgrouptitle": {
          "font": {
           "color": "mediumseagreen"
          },
          "text": "SID"
         },
         "line": {
          "color": "mediumseagreen",
          "width": 1
         },
         "lon": [
          103.98333,
          104.01667,
          104.16667,
          104.45,
          104.66667,
          104.7,
          104.88333,
          105.78333
         ],
         "mode": "lines+markers",
         "name": "TOMAN1D : RWY 20L",
         "showlegend": true,
         "type": "scattermap"
        },
        {
         "hovertext": [
          "MOLVO",
          "EMRIX",
          "HOSBA",
          "VEBMA",
          "TOMAN"
         ],
         "lat": [
          1.48333,
          1.43333,
          1.31667,
          1.33333,
          1.35
         ],
         "legendgrouptitle": {
          "font": {
           "color": "mediumseagreen"
          },
          "text": "SID"
         },
         "line": {
          "color": "mediumseagreen",
          "width": 1
         },
         "lon": [
          104.03333,
          104.16667,
          104.4,
          104.88333,
          105.78333
         ],
         "mode": "lines+markers",
         "name": "TOMAN3E : RWY 02L",
         "showlegend": true,
         "type": "scattermap"
        },
        {
         "hovertext": [
          "LEDOX",
          "LETGO",
          "DUBOT",
          "ERVIV",
          "MUMDU",
          "SEBVO",
          "GOTGA",
          "VEBMA",
          "TOMAN"
         ],
         "lat": [
          1.26667,
          1.23333,
          1.13333,
          1.06667,
          1.08333,
          1.2,
          1.33333,
          1.33333,
          1.35
         ],
         "legendgrouptitle": {
          "font": {
           "color": "mediumseagreen"
          },
          "text": "SID"
         },
         "line": {
          "color": "mediumseagreen",
          "width": 1
         },
         "lon": [
          103.93333,
          103.91667,
          104.01667,
          104.16667,
          104.45,
          104.66667,
          104.7,
          104.88333,
          105.78333
         ],
         "mode": "lines+markers",
         "name": "TOMAN5F : RWY 20R",
         "showlegend": true,
         "type": "scattermap"
        },
        {
         "hovertext": [
          "IBIXU",
          "IBIVA",
          "SAMKO",
          "BOKIP",
          "ATLEX",
          "VOVOS"
         ],
         "lat": [
          1.26667,
          1.21667,
          1.08333,
          1.06667,
          1.05,
          1.18333
         ],
         "legendgrouptitle": {
          "font": {
           "color": "mediumseagreen"
          },
          "text": "SID"
         },
         "line": {
          "color": "mediumseagreen",
          "width": 1
         },
         "lon": [
          103.95,
          103.93333,
          103.86667,
          103.71667,
          103.55,
          103.43333
         ],
         "mode": "lines+markers",
         "name": "VOVOS1B : RWY 20C",
         "showlegend": true,
         "type": "scattermap"
        },
        {
         "hovertext": [
          "UKIBO",
          "VIGUD",
          "SAMKO",
          "BOKIP",
          "ATLEX",
          "VOVOS"
         ],
         "lat": [
          1.28333,
          1.21667,
          1.08333,
          1.06667,
          1.05,
          1.18333
         ],
         "legendgrouptitle": {
          "font": {
           "color": "mediumseagreen"
          },
          "text": "SID"
         },
         "line": {
          "color": "mediumseagreen",
          "width": 1
         },
         "lon": [
          103.98333,
          103.95,
          103.86667,
          103.71667,
          103.55,
          103.43333
         ],
         "mode": "lines+markers",
         "name": "VOVOS1D : RWY 20L",
         "showlegend": true,
         "type": "scattermap"
        },
        {
         "hovertext": [
          "LEDOX",
          "LETGO",
          "SAMKO",
          "BOKIP",
          "ATLEX",
          "VOVOS"
         ],
         "lat": [
          1.26667,
          1.23333,
          1.08333,
          1.06667,
          1.05,
          1.18333
         ],
         "legendgrouptitle": {
          "font": {
           "color": "mediumseagreen"
          },
          "text": "SID"
         },
         "line": {
          "color": "mediumseagreen",
          "width": 1
         },
         "lon": [
          103.93333,
          103.91667,
          103.86667,
          103.71667,
          103.55,
          103.43333
         ],
         "mode": "lines+markers",
         "name": "VOVOS1F : RWY 20R",
         "showlegend": true,
         "type": "scattermap"
        },
        {
         "hovertext": [],
         "lat": [],
         "legendgrouptitle": {
          "font": {
           "color": "mediumseagreen"
          },
          "text": "SID"
         },
         "line": {
          "color": "mediumseagreen",
          "width": 1
         },
         "lon": [],
         "mode": "lines+markers",
         "name": "CHA1C : RWY 02R",
         "showlegend": true,
         "type": "scattermap"
        },
        {
         "hovertext": [],
         "lat": [],
         "legendgrouptitle": {
          "font": {
           "color": "mediumseagreen"
          },
          "text": "SID"
         },
         "line": {
          "color": "mediumseagreen",
          "width": 1
         },
         "lon": [],
         "mode": "lines+markers",
         "name": "CHA1D : RWY 20L",
         "showlegend": true,
         "type": "scattermap"
        },
        {
         "hoverinfo": "skip",
         "lat": [
          null
         ],
         "legendgroup": "meta",
         "line": {
          "color": "black",
          "width": 2
         },
         "lon": [
          null
         ],
         "mode": "lines",
         "name": "🗺️ map version: 1.0.1",
         "showlegend": true,
         "type": "scattermap"
        }
       ],
       "layout": {
        "height": 1080,
        "legend": {
         "bgcolor": "white",
         "bordercolor": "black",
         "borderwidth": 0,
         "title": {
          "text": "Legend"
         },
         "x": 1,
         "y": 0.99
        },
        "map": {
         "center": {
          "lat": 4.35919,
          "lon": 106.98934
         },
         "style": "carto-positron",
         "zoom": 5.5
        },
        "margin": {
         "b": 0,
         "l": 0,
         "r": 0,
         "t": 0
        },
        "template": {
         "data": {
          "bar": [
           {
            "error_x": {
             "color": "#2a3f5f"
            },
            "error_y": {
             "color": "#2a3f5f"
            },
            "marker": {
             "line": {
              "color": "#E5ECF6",
              "width": 0.5
             },
             "pattern": {
              "fillmode": "overlay",
              "size": 10,
              "solidity": 0.2
             }
            },
            "type": "bar"
           }
          ],
          "barpolar": [
           {
            "marker": {
             "line": {
              "color": "#E5ECF6",
              "width": 0.5
             },
             "pattern": {
              "fillmode": "overlay",
              "size": 10,
              "solidity": 0.2
             }
            },
            "type": "barpolar"
           }
          ],
          "carpet": [
           {
            "aaxis": {
             "endlinecolor": "#2a3f5f",
             "gridcolor": "white",
             "linecolor": "white",
             "minorgridcolor": "white",
             "startlinecolor": "#2a3f5f"
            },
            "baxis": {
             "endlinecolor": "#2a3f5f",
             "gridcolor": "white",
             "linecolor": "white",
             "minorgridcolor": "white",
             "startlinecolor": "#2a3f5f"
            },
            "type": "carpet"
           }
          ],
          "choropleth": [
           {
            "colorbar": {
             "outlinewidth": 0,
             "ticks": ""
            },
            "type": "choropleth"
           }
          ],
          "contour": [
           {
            "colorbar": {
             "outlinewidth": 0,
             "ticks": ""
            },
            "colorscale": [
             [
              0,
              "#0d0887"
             ],
             [
              0.1111111111111111,
              "#46039f"
             ],
             [
              0.2222222222222222,
              "#7201a8"
             ],
             [
              0.3333333333333333,
              "#9c179e"
             ],
             [
              0.4444444444444444,
              "#bd3786"
             ],
             [
              0.5555555555555556,
              "#d8576b"
             ],
             [
              0.6666666666666666,
              "#ed7953"
             ],
             [
              0.7777777777777778,
              "#fb9f3a"
             ],
             [
              0.8888888888888888,
              "#fdca26"
             ],
             [
              1,
              "#f0f921"
             ]
            ],
            "type": "contour"
           }
          ],
          "contourcarpet": [
           {
            "colorbar": {
             "outlinewidth": 0,
             "ticks": ""
            },
            "type": "contourcarpet"
           }
          ],
          "heatmap": [
           {
            "colorbar": {
             "outlinewidth": 0,
             "ticks": ""
            },
            "colorscale": [
             [
              0,
              "#0d0887"
             ],
             [
              0.1111111111111111,
              "#46039f"
             ],
             [
              0.2222222222222222,
              "#7201a8"
             ],
             [
              0.3333333333333333,
              "#9c179e"
             ],
             [
              0.4444444444444444,
              "#bd3786"
             ],
             [
              0.5555555555555556,
              "#d8576b"
             ],
             [
              0.6666666666666666,
              "#ed7953"
             ],
             [
              0.7777777777777778,
              "#fb9f3a"
             ],
             [
              0.8888888888888888,
              "#fdca26"
             ],
             [
              1,
              "#f0f921"
             ]
            ],
            "type": "heatmap"
           }
          ],
          "histogram": [
           {
            "marker": {
             "pattern": {
              "fillmode": "overlay",
              "size": 10,
              "solidity": 0.2
             }
            },
            "type": "histogram"
           }
          ],
          "histogram2d": [
           {
            "colorbar": {
             "outlinewidth": 0,
             "ticks": ""
            },
            "colorscale": [
             [
              0,
              "#0d0887"
             ],
             [
              0.1111111111111111,
              "#46039f"
             ],
             [
              0.2222222222222222,
              "#7201a8"
             ],
             [
              0.3333333333333333,
              "#9c179e"
             ],
             [
              0.4444444444444444,
              "#bd3786"
             ],
             [
              0.5555555555555556,
              "#d8576b"
             ],
             [
              0.6666666666666666,
              "#ed7953"
             ],
             [
              0.7777777777777778,
              "#fb9f3a"
             ],
             [
              0.8888888888888888,
              "#fdca26"
             ],
             [
              1,
              "#f0f921"
             ]
            ],
            "type": "histogram2d"
           }
          ],
          "histogram2dcontour": [
           {
            "colorbar": {
             "outlinewidth": 0,
             "ticks": ""
            },
            "colorscale": [
             [
              0,
              "#0d0887"
             ],
             [
              0.1111111111111111,
              "#46039f"
             ],
             [
              0.2222222222222222,
              "#7201a8"
             ],
             [
              0.3333333333333333,
              "#9c179e"
             ],
             [
              0.4444444444444444,
              "#bd3786"
             ],
             [
              0.5555555555555556,
              "#d8576b"
             ],
             [
              0.6666666666666666,
              "#ed7953"
             ],
             [
              0.7777777777777778,
              "#fb9f3a"
             ],
             [
              0.8888888888888888,
              "#fdca26"
             ],
             [
              1,
              "#f0f921"
             ]
            ],
            "type": "histogram2dcontour"
           }
          ],
          "mesh3d": [
           {
            "colorbar": {
             "outlinewidth": 0,
             "ticks": ""
            },
            "type": "mesh3d"
           }
          ],
          "parcoords": [
           {
            "line": {
             "colorbar": {
              "outlinewidth": 0,
              "ticks": ""
             }
            },
            "type": "parcoords"
           }
          ],
          "pie": [
           {
            "automargin": true,
            "type": "pie"
           }
          ],
          "scatter": [
           {
            "fillpattern": {
             "fillmode": "overlay",
             "size": 10,
             "solidity": 0.2
            },
            "type": "scatter"
           }
          ],
          "scatter3d": [
           {
            "line": {
             "colorbar": {
              "outlinewidth": 0,
              "ticks": ""
             }
            },
            "marker": {
             "colorbar": {
              "outlinewidth": 0,
              "ticks": ""
             }
            },
            "type": "scatter3d"
           }
          ],
          "scattercarpet": [
           {
            "marker": {
             "colorbar": {
              "outlinewidth": 0,
              "ticks": ""
             }
            },
            "type": "scattercarpet"
           }
          ],
          "scattergeo": [
           {
            "marker": {
             "colorbar": {
              "outlinewidth": 0,
              "ticks": ""
             }
            },
            "type": "scattergeo"
           }
          ],
          "scattergl": [
           {
            "marker": {
             "colorbar": {
              "outlinewidth": 0,
              "ticks": ""
             }
            },
            "type": "scattergl"
           }
          ],
          "scattermap": [
           {
            "marker": {
             "colorbar": {
              "outlinewidth": 0,
              "ticks": ""
             }
            },
            "type": "scattermap"
           }
          ],
          "scattermapbox": [
           {
            "marker": {
             "colorbar": {
              "outlinewidth": 0,
              "ticks": ""
             }
            },
            "type": "scattermapbox"
           }
          ],
          "scatterpolar": [
           {
            "marker": {
             "colorbar": {
              "outlinewidth": 0,
              "ticks": ""
             }
            },
            "type": "scatterpolar"
           }
          ],
          "scatterpolargl": [
           {
            "marker": {
             "colorbar": {
              "outlinewidth": 0,
              "ticks": ""
             }
            },
            "type": "scatterpolargl"
           }
          ],
          "scatterternary": [
           {
            "marker": {
             "colorbar": {
              "outlinewidth": 0,
              "ticks": ""
             }
            },
            "type": "scatterternary"
           }
          ],
          "surface": [
           {
            "colorbar": {
             "outlinewidth": 0,
             "ticks": ""
            },
            "colorscale": [
             [
              0,
              "#0d0887"
             ],
             [
              0.1111111111111111,
              "#46039f"
             ],
             [
              0.2222222222222222,
              "#7201a8"
             ],
             [
              0.3333333333333333,
              "#9c179e"
             ],
             [
              0.4444444444444444,
              "#bd3786"
             ],
             [
              0.5555555555555556,
              "#d8576b"
             ],
             [
              0.6666666666666666,
              "#ed7953"
             ],
             [
              0.7777777777777778,
              "#fb9f3a"
             ],
             [
              0.8888888888888888,
              "#fdca26"
             ],
             [
              1,
              "#f0f921"
             ]
            ],
            "type": "surface"
           }
          ],
          "table": [
           {
            "cells": {
             "fill": {
              "color": "#EBF0F8"
             },
             "line": {
              "color": "white"
             }
            },
            "header": {
             "fill": {
              "color": "#C8D4E3"
             },
             "line": {
              "color": "white"
             }
            },
            "type": "table"
           }
          ]
         },
         "layout": {
          "annotationdefaults": {
           "arrowcolor": "#2a3f5f",
           "arrowhead": 0,
           "arrowwidth": 1
          },
          "autotypenumbers": "strict",
          "coloraxis": {
           "colorbar": {
            "outlinewidth": 0,
            "ticks": ""
           }
          },
          "colorscale": {
           "diverging": [
            [
             0,
             "#8e0152"
            ],
            [
             0.1,
             "#c51b7d"
            ],
            [
             0.2,
             "#de77ae"
            ],
            [
             0.3,
             "#f1b6da"
            ],
            [
             0.4,
             "#fde0ef"
            ],
            [
             0.5,
             "#f7f7f7"
            ],
            [
             0.6,
             "#e6f5d0"
            ],
            [
             0.7,
             "#b8e186"
            ],
            [
             0.8,
             "#7fbc41"
            ],
            [
             0.9,
             "#4d9221"
            ],
            [
             1,
             "#276419"
            ]
           ],
           "sequential": [
            [
             0,
             "#0d0887"
            ],
            [
             0.1111111111111111,
             "#46039f"
            ],
            [
             0.2222222222222222,
             "#7201a8"
            ],
            [
             0.3333333333333333,
             "#9c179e"
            ],
            [
             0.4444444444444444,
             "#bd3786"
            ],
            [
             0.5555555555555556,
             "#d8576b"
            ],
            [
             0.6666666666666666,
             "#ed7953"
            ],
            [
             0.7777777777777778,
             "#fb9f3a"
            ],
            [
             0.8888888888888888,
             "#fdca26"
            ],
            [
             1,
             "#f0f921"
            ]
           ],
           "sequentialminus": [
            [
             0,
             "#0d0887"
            ],
            [
             0.1111111111111111,
             "#46039f"
            ],
            [
             0.2222222222222222,
             "#7201a8"
            ],
            [
             0.3333333333333333,
             "#9c179e"
            ],
            [
             0.4444444444444444,
             "#bd3786"
            ],
            [
             0.5555555555555556,
             "#d8576b"
            ],
            [
             0.6666666666666666,
             "#ed7953"
            ],
            [
             0.7777777777777778,
             "#fb9f3a"
            ],
            [
             0.8888888888888888,
             "#fdca26"
            ],
            [
             1,
             "#f0f921"
            ]
           ]
          },
          "colorway": [
           "#636efa",
           "#EF553B",
           "#00cc96",
           "#ab63fa",
           "#FFA15A",
           "#19d3f3",
           "#FF6692",
           "#B6E880",
           "#FF97FF",
           "#FECB52"
          ],
          "font": {
           "color": "#2a3f5f"
          },
          "geo": {
           "bgcolor": "white",
           "lakecolor": "white",
           "landcolor": "#E5ECF6",
           "showlakes": true,
           "showland": true,
           "subunitcolor": "white"
          },
          "hoverlabel": {
           "align": "left"
          },
          "hovermode": "closest",
          "mapbox": {
           "style": "light"
          },
          "paper_bgcolor": "white",
          "plot_bgcolor": "#E5ECF6",
          "polar": {
           "angularaxis": {
            "gridcolor": "white",
            "linecolor": "white",
            "ticks": ""
           },
           "bgcolor": "#E5ECF6",
           "radialaxis": {
            "gridcolor": "white",
            "linecolor": "white",
            "ticks": ""
           }
          },
          "scene": {
           "xaxis": {
            "backgroundcolor": "#E5ECF6",
            "gridcolor": "white",
            "gridwidth": 2,
            "linecolor": "white",
            "showbackground": true,
            "ticks": "",
            "zerolinecolor": "white"
           },
           "yaxis": {
            "backgroundcolor": "#E5ECF6",
            "gridcolor": "white",
            "gridwidth": 2,
            "linecolor": "white",
            "showbackground": true,
            "ticks": "",
            "zerolinecolor": "white"
           },
           "zaxis": {
            "backgroundcolor": "#E5ECF6",
            "gridcolor": "white",
            "gridwidth": 2,
            "linecolor": "white",
            "showbackground": true,
            "ticks": "",
            "zerolinecolor": "white"
           }
          },
          "shapedefaults": {
           "line": {
            "color": "#2a3f5f"
           }
          },
          "ternary": {
           "aaxis": {
            "gridcolor": "white",
            "linecolor": "white",
            "ticks": ""
           },
           "baxis": {
            "gridcolor": "white",
            "linecolor": "white",
            "ticks": ""
           },
           "bgcolor": "#E5ECF6",
           "caxis": {
            "gridcolor": "white",
            "linecolor": "white",
            "ticks": ""
           }
          },
          "title": {
           "x": 0.05
          },
          "xaxis": {
           "automargin": true,
           "gridcolor": "white",
           "linecolor": "white",
           "ticks": "",
           "title": {
            "standoff": 15
           },
           "zerolinecolor": "white",
           "zerolinewidth": 2
          },
          "yaxis": {
           "automargin": true,
           "gridcolor": "white",
           "linecolor": "white",
           "ticks": "",
           "title": {
            "standoff": 15
           },
           "zerolinecolor": "white",
           "zerolinewidth": 2
          }
         }
        },
        "width": 1600
       }
      }
     },
     "metadata": {},
     "output_type": "display_data"
    }
   ],
   "source": [
    "# Plot Map\n",
    "fig = go.Figure()\n",
    "version = '1.0.1'\n",
    "\n",
    "#region RWY customisations\n",
    "rwy_width = 1.5\n",
    "airport_marker_size = 12\n",
    "color_airport = 'dodgerblue'\n",
    "color_rwy = 'dodgerblue'\n",
    "color_rwy_fill = 'rgba(0, 0, 255, 0.1)'\n",
    "\n",
    "# Inactive/Restricted runways\n",
    "color_rwy_inactive = 'red'          \n",
    "color_rwy_inactive_fill = 'rgba(255, 0, 0, 0.7)'\n",
    "#endregion\n",
    "\n",
    "########## ------------------------------- ##########\n",
    "\n",
    "#region Singapore\n",
    "#region WSSS\n",
    "\n",
    "# Location marker\n",
    "fig.add_trace(go.Scattermap(\n",
    "    lat=[WSSS_lat],\n",
    "    lon=[WSSS_lon],\n",
    "    mode='markers+text',\n",
    "    marker=dict(size=airport_marker_size, color=color_airport, symbol= 'circle'),\n",
    "    # text='WSSS',\n",
    "    # textfont=dict(weight=\"bold\"),\n",
    "    textposition='top right',\n",
    "    name='Singapore Changi Airport (WSSS)',\n",
    "    hovertext='WSSS',\n",
    "    legendgroup='changi',\n",
    "    legendgrouptitle_text='Singapore Changi Airport',\n",
    "    showlegend=True,\n",
    "    hovertemplate='📍 %{fullData.name}<extra></extra>'\n",
    "))\n",
    "\n",
    "# RWY 02L/20R\n",
    "\n",
    "fig.add_trace(go.Scattermap(\n",
    "    lat=lat_list_WSSS_02L,\n",
    "    lon=lon_list_WSSS_02L,\n",
    "    mode='lines',\n",
    "    fill='toself',\n",
    "    fillcolor=color_rwy_fill,\n",
    "    line=dict(color=color_rwy, width= rwy_width),\n",
    "    name='RWY 02L/20R',\n",
    "    legendgroup='changi'\n",
    "))\n",
    "\n",
    "#  RWY 02C/20C\n",
    "\n",
    "fig.add_trace(go.Scattermap(\n",
    "    lat=lat_list_WSSS_02C,\n",
    "    lon=lon_list_WSSS_02C,\n",
    "    mode='lines',\n",
    "    fill='toself',\n",
    "    fillcolor=color_rwy_fill,\n",
    "    line=dict(color=color_rwy, width= rwy_width),\n",
    "    name='RWY 02C/20C',\n",
    "    legendgroup='changi'\n",
    "))\n",
    "\n",
    "# RWY 02R/20L\n",
    "\n",
    "fig.add_trace(go.Scattermap(\n",
    "    lat=lat_list_WSSS_02R,\n",
    "    lon=lon_list_WSSS_02R,\n",
    "    mode='lines',\n",
    "    fill='toself',\n",
    "    fillcolor=color_rwy_inactive_fill,\n",
    "    line=dict(color=color_rwy_inactive, width= rwy_width),\n",
    "    name='RWY 02R/20L',\n",
    "    legendgroup='changi'\n",
    "))\n",
    "\n",
    "\n",
    "\n",
    "#endregion\n",
    "\n",
    "#region WSSL\n",
    "\n",
    "# Location marker\n",
    "fig.add_trace(go.Scattermap(\n",
    "    lat=[WSSL_lat],\n",
    "    lon=[WSSL_lon],\n",
    "    mode='markers+text',\n",
    "    marker=dict(size=airport_marker_size, color=color_airport, symbol= 'circle'),\n",
    "    textposition='top right',\n",
    "    name='Seletar Airport (WSSL)',\n",
    "    hovertext='WSSL',\n",
    "    legendgroup='seletar',\n",
    "    legendgrouptitle_text='Seletar Airport',\n",
    "    showlegend=True,\n",
    "    hovertemplate='📍 %{fullData.name}<extra></extra>'\n",
    "))\n",
    "\n",
    "# RWY 03/21\n",
    "\n",
    "fig.add_trace(go.Scattermap(\n",
    "    lat=lat_list_WSSL_03,\n",
    "    lon=lon_list_WSSL_03,\n",
    "    mode='lines',\n",
    "    fill='toself',\n",
    "    fillcolor=color_rwy_fill,\n",
    "    line=dict(color=color_rwy, width= rwy_width),\n",
    "    name='RWY 03/21',\n",
    "    legendgroup='seletar'\n",
    "))\n",
    "#endregion\n",
    "\n",
    "#region WSAP\n",
    "\n",
    "add_airport(\n",
    "    fig=fig,\n",
    "    name='Paya Lebar Air Base',\n",
    "    code='WSAP',\n",
    "    lat=WSAP_lat,\n",
    "    lon=WSAP_lon,\n",
    "    color=color_airport,\n",
    "    size=airport_marker_size,\n",
    "    legendgroup='payalebar',\n",
    "    showlegend=True\n",
    ")\n",
    "\n",
    "# RWY 02/20\n",
    "add_runway(\n",
    "    fig=fig,\n",
    "    name='RWY 02/20',\n",
    "    lat_list=lat_list_WSAP_02,\n",
    "    lon_list=lon_list_WSAP_02,\n",
    "    fillcolor=color_rwy_inactive_fill,\n",
    "    linecolor=color_rwy_inactive,\n",
    "    linewidth=rwy_width,\n",
    "    legendgroup='payalebar',\n",
    "    showlegend=True\n",
    ")\n",
    "#endregion\n",
    "\n",
    "#region WSAT\n",
    "\n",
    "add_airport(\n",
    "    fig=fig,\n",
    "    name='Tengah Air Base',\n",
    "    code='WSAT',\n",
    "    lat=WSAT_lat,\n",
    "    lon=WSAT_lon,\n",
    "    color=color_airport,\n",
    "    size=airport_marker_size,\n",
    "    legendgroup='tengah',\n",
    "    showlegend=True\n",
    ")\n",
    "\n",
    "# RWY 18/36\n",
    "add_runway(\n",
    "    fig=fig,\n",
    "    name='RWY 18/36',\n",
    "    lat_list=lat_list_WSAT_18,\n",
    "    lon_list=lon_list_WSAT_18,\n",
    "    fillcolor=color_rwy_inactive_fill,\n",
    "    linecolor=color_rwy_inactive,\n",
    "    linewidth=rwy_width,\n",
    "    legendgroup='tengah',\n",
    "    showlegend=True\n",
    ")\n",
    "\n",
    "# RWY 18/36 second\n",
    "add_runway(\n",
    "    fig=fig,\n",
    "    name='Military Airstrip',\n",
    "    lat_list=lat_list_WSAT_36,\n",
    "    lon_list=lon_list_WSAT_36,\n",
    "    fillcolor=color_rwy_inactive_fill,\n",
    "    linecolor=color_rwy_inactive,\n",
    "    linewidth=rwy_width,\n",
    "    legendgroup='tengah',\n",
    "    showlegend=True\n",
    ")\n",
    "\n",
    "#endregion\n",
    "\n",
    "#region WSAG\n",
    "add_airport(\n",
    "    fig=fig,\n",
    "    name='Sembawang Air Base',\n",
    "    code='WSAG',\n",
    "    lat=WSAG_lat,\n",
    "    lon=WSAG_lon,\n",
    "    color=color_airport,\n",
    "    size=airport_marker_size,\n",
    "    legendgroup='sembawang',\n",
    "    showlegend=True\n",
    ")\n",
    "\n",
    "# RWY 04/22\n",
    "add_runway(\n",
    "    fig=fig,\n",
    "    name='RWY 04/22',\n",
    "    lat_list=lat_list_WSAG_04,\n",
    "    lon_list=lon_list_WSAG_04,\n",
    "    fillcolor=color_rwy_inactive_fill,\n",
    "    linecolor=color_rwy_inactive,\n",
    "    linewidth=rwy_width,\n",
    "    legendgroup='sembawang',\n",
    "    showlegend=True\n",
    ")\n",
    "# RWY H05/H23 - Helicopter\n",
    "add_runway(\n",
    "    fig=fig,\n",
    "    name='RWY H05/H23',\n",
    "    lat_list=lat_list_WSAG_H05,\n",
    "    lon_list=lon_list_WSAG_H05,\n",
    "    fillcolor=color_rwy_inactive_fill,\n",
    "    linecolor=color_rwy_inactive,\n",
    "    linewidth=rwy_width,\n",
    "    legendgroup='sembawang',\n",
    "    showlegend=True\n",
    ")\n",
    "#endregion\n",
    "\n",
    "#region Sudong\n",
    "\n",
    "add_runway(\n",
    "    fig=fig,\n",
    "    name='RWY 09/27',\n",
    "    lat_list=lat_list_sudong_09,\n",
    "    lon_list=lon_list_sudong_09,\n",
    "    fillcolor=color_rwy_inactive_fill,\n",
    "    linecolor=color_rwy_inactive,\n",
    "    linewidth=rwy_width,\n",
    "    legendgroup='sudong',\n",
    "    legendgrouptitle_text = 'Pulau Sudong Military Airstrip',\n",
    "    showlegend=True\n",
    ")\n",
    "#endregion\n",
    "\n",
    "#endregion\n",
    "\n",
    "########## ------------------------------- ##########\n",
    "\n",
    "#region Malaysia\n",
    "\n",
    "#region WMKJ\n",
    "add_airport(\n",
    "    fig=fig,\n",
    "    name='Senai Intl Airport',\n",
    "    code='WMKJ',\n",
    "    lat=WMKJ_lat,\n",
    "    lon=WMKJ_lon,\n",
    "    color=color_airport,\n",
    "    size=airport_marker_size,\n",
    "    legendgroup='senai',\n",
    "    showlegend=True\n",
    ")\n",
    "# RWY 16/34\n",
    "add_runway(\n",
    "    fig=fig,\n",
    "    name='RWY 16/34',\n",
    "    lat_list=lat_list_WMKJ_16,\n",
    "    lon_list=lon_list_WMKJ_16,\n",
    "    fillcolor=color_rwy_fill,\n",
    "    linecolor=color_rwy,\n",
    "    linewidth=rwy_width,\n",
    "    legendgroup='senai',\n",
    "    showlegend=True\n",
    ")\n",
    "#endregion\n",
    "\n",
    "#endregion\n",
    "\n",
    "########## ------------------------------- ##########\n",
    "\n",
    "#region Indonesia\n",
    "\n",
    "#region WIDD\n",
    "add_airport(\n",
    "    fig=fig,\n",
    "    name='Hang Nadim Intl Airport',\n",
    "    code='WIDD',\n",
    "    lat=WIDD_lat,\n",
    "    lon=WIDD_lon,\n",
    "    color=color_airport,\n",
    "    size=airport_marker_size,\n",
    "    legendgroup='hangnadim',\n",
    "    showlegend=True\n",
    ")\n",
    "# RWY 04/22\n",
    "add_runway(\n",
    "    fig=fig,\n",
    "    name='RWY 04/22',\n",
    "    lat_list=lat_list_WIDD_04,\n",
    "    lon_list=lon_list_WIDD_04,\n",
    "    fillcolor=color_rwy_fill,\n",
    "    linecolor=color_rwy,\n",
    "    linewidth=rwy_width,\n",
    "    legendgroup='hangnadim',\n",
    "    showlegend=True\n",
    ")\n",
    "#endregion\n",
    "\n",
    "#region WIDN\n",
    "add_airport(\n",
    "    fig=fig,\n",
    "    name='Raja Haji Fisabilillah Intl Airport',\n",
    "    code='WIDN',\n",
    "    lat=WIDN_lat,\n",
    "    lon=WIDN_lon,\n",
    "    color=color_airport,\n",
    "    size=airport_marker_size,\n",
    "    legendgroup='tanjungpinang',\n",
    "    showlegend=True\n",
    ")\n",
    "# RWY 04/22\n",
    "add_runway(\n",
    "    fig=fig,\n",
    "    name='RWY 04/22',\n",
    "    lat_list=lat_list_WIDN_04,\n",
    "    lon_list=lon_list_WIDN_04,\n",
    "    fillcolor=color_rwy_fill,\n",
    "    linecolor=color_rwy,\n",
    "    linewidth=rwy_width,\n",
    "    legendgroup='tanjungpinang',\n",
    "    showlegend=True\n",
    ")\n",
    "#endregion\n",
    "\n",
    "#region WIDT\n",
    "add_airport(\n",
    "    fig=fig,\n",
    "    name='Raja Haji Abdullah Airport',\n",
    "    code='WIDT',\n",
    "    lat=WIDT_lat,\n",
    "    lon=WIDT_lon,\n",
    "    color=color_airport,\n",
    "    size=airport_marker_size,\n",
    "    legendgroup='karimun',\n",
    "    showlegend=True\n",
    ")\n",
    "# RWY 09/27\n",
    "add_runway(\n",
    "    fig=fig,\n",
    "    name='RWY 09/27',\n",
    "    lat_list=lat_list_WIDT_09,\n",
    "    lon_list=lon_list_WIDT_09,\n",
    "    fillcolor=color_rwy_fill,\n",
    "    linecolor=color_rwy,\n",
    "    linewidth=rwy_width,\n",
    "    legendgroup='karimun',\n",
    "    showlegend=True\n",
    ")\n",
    "#endregion\n",
    "\n",
    "#endregion\n",
    "\n",
    "########## ------------------------------- ##########\n",
    "\n",
    "#region FIR boundaries\n",
    "\n",
    "#region Singapore FIR sectors\n",
    "\n",
    "# Sector 1\n",
    "add_sector(\n",
    "    fig=fig,\n",
    "    name='Sector 1',\n",
    "    coordinates=SG_FIR_sector1_coordinates,\n",
    "    fillcolor='mediumslateblue',\n",
    "    linecolor='grey',\n",
    "    opacity=0.3,\n",
    "    linewidth=1,\n",
    "    legendgroup='SG FIR',\n",
    "    legendgrouptitle_text='Singapore FIR Sectors',\n",
    "    legendrank=2,\n",
    "    showlegend=True\n",
    ")\n",
    "\n",
    "# Sector 2\n",
    "add_sector(\n",
    "    fig=fig,\n",
    "    name='Sector 2',\n",
    "    coordinates=SG_FIR_sector2_coordinates,\n",
    "    fillcolor='aqua',\n",
    "    linecolor='grey',\n",
    "    opacity=0.3,\n",
    "    linewidth=1,\n",
    "    legendgroup='SG FIR',\n",
    "    showlegend=True\n",
    ")\n",
    "\n",
    "# Sector 3\n",
    "add_sector(\n",
    "    fig=fig,\n",
    "    name='Sector 3',\n",
    "    coordinates=SG_FIR_sector3_coordinates,\n",
    "    fillcolor='violet',\n",
    "    linecolor='grey',\n",
    "    opacity=0.3,\n",
    "    linewidth=1,\n",
    "    legendgroup='SG FIR',\n",
    "    showlegend=True\n",
    ")\n",
    "\n",
    "# Sector 4\n",
    "add_sector(\n",
    "    fig=fig,\n",
    "    name='Sector 4',\n",
    "    coordinates=SG_FIR_sector4_coordinates,\n",
    "    fillcolor='yellow',\n",
    "    linecolor='grey',\n",
    "    opacity=0.3,\n",
    "    linewidth=1,\n",
    "    legendgroup='SG FIR',\n",
    "    showlegend=True\n",
    ")\n",
    "\n",
    "# Sector 5\n",
    "add_sector(\n",
    "    fig=fig,\n",
    "    name='Sector 5',\n",
    "    coordinates=SG_FIR_sector5_coordinates,\n",
    "    fillcolor='cornflowerblue',\n",
    "    linecolor='grey',\n",
    "    opacity=0.3,\n",
    "    linewidth=1,\n",
    "    legendgroup='SG FIR',\n",
    "    showlegend=True\n",
    ")\n",
    "\n",
    "# Sector 6\n",
    "add_sector(\n",
    "    fig=fig,\n",
    "    name='Sector 6',\n",
    "    coordinates=SG_FIR_sector6_coordinates,\n",
    "    fillcolor='lightgreen',\n",
    "    linecolor='grey',\n",
    "    opacity=0.3,\n",
    "    linewidth=1,\n",
    "    legendgroup='SG FIR',\n",
    "    showlegend=True\n",
    ")\n",
    "\n",
    "# Sector 7\n",
    "add_sector(\n",
    "    fig=fig,\n",
    "    name='Sector 7',\n",
    "    coordinates=SG_FIR_sector7_coordinates,\n",
    "    fillcolor='lightskyblue',\n",
    "    linecolor='grey',\n",
    "    opacity=0.3,\n",
    "    linewidth=1,\n",
    "    legendgroup='SG FIR',\n",
    "    showlegend=True\n",
    ")\n",
    "\n",
    "# Sector 8\n",
    "add_sector(\n",
    "    fig=fig,\n",
    "    name='Sector 8',\n",
    "    coordinates=SG_FIR_sector8_coordinates,\n",
    "    fillcolor='navajowhite',\n",
    "    linecolor='grey',\n",
    "    opacity=0.4,\n",
    "    linewidth=1,\n",
    "    legendgroup='SG FIR',\n",
    "    showlegend=True\n",
    ")\n",
    "\n",
    "#endregion\n",
    "\n",
    "#region JAKARTA_FIR_delegated_coordinates\n",
    "jkt_fir_lat, jkt_fir_long = parse_coordinates(JAKARTA_FIR_delegated_coordinates)\n",
    "\n",
    "fig.add_trace(go.Scattermap(\n",
    "    lat=jkt_fir_lat,\n",
    "    lon=jkt_fir_long,\n",
    "    mode='lines+markers',\n",
    "    fill='none',  # fill the polygon\n",
    "    fillcolor='rgba(255, 0, 0, 0.2)',  # translucent red\n",
    "    line=dict(color='grey', width=0.7),\n",
    "    name='JAKARTA FIR',\n",
    "    legendgroup=\"FIR\",\n",
    "    showlegend=True\n",
    "))\n",
    "#endregion\n",
    "\n",
    "#region KL_FIR_vested1_coordinates\n",
    "kl_lat_1, kl_lon_1 = parse_coordinates(KL_FIR_vested1_coordinates)\n",
    "kl_lat_2, kl_lon_2 = parse_coordinates(KL_FIR_vested2_coordinates)\n",
    "\n",
    "fig.add_trace(go.Scattermap(\n",
    "    lat=kl_lat_1,\n",
    "    lon=kl_lon_1,\n",
    "    mode='lines+markers',\n",
    "    fill='none',  # fill the polygon\n",
    "    fillcolor='rgba(255, 0, 0, 0.2)',  # translucent red\n",
    "    line=dict(color='grey', width=1),\n",
    "    name='KUALA LUMPUR FIR 1',\n",
    "    legendgroup=\"FIR\",\n",
    "    showlegend=True\n",
    "))\n",
    "\n",
    "fig.add_trace(go.Scattermap(\n",
    "    lat=kl_lat_2,\n",
    "    lon=kl_lon_2,\n",
    "    mode='lines+markers',\n",
    "    fill='none',  # fill the polygon\n",
    "    fillcolor='rgba(255, 0, 0, 0.2)',  # translucent red\n",
    "    line=dict(color='grey', width=1),\n",
    "    name='KUALA LUMPUR FIR 2',\n",
    "    legendgroup=\"FIR\",\n",
    "    showlegend=True\n",
    "))\n",
    "#endregion\n",
    "\n",
    "#region Singapore FIR\n",
    "sg_fir_lat, sg_fir_long = parse_coordinates(SG_FIR_coordinates)\n",
    "\n",
    "fig.add_trace(go.Scattermap(\n",
    "    lat=sg_fir_lat,\n",
    "    lon=sg_fir_long,\n",
    "    mode='lines+markers',\n",
    "    fill='none',  # fill the polygon\n",
    "    fillcolor='rgba(255, 0, 0, 0.2)',  # translucent red\n",
    "    line=dict(color='black', width=1.5),\n",
    "    name='SINGAPORE FIR',\n",
    "    legendgroup=\"FIR\",\n",
    "    legendrank= 1,\n",
    "    legendgrouptitle_text=\"FIR\",\n",
    "    showlegend=True\n",
    "))\n",
    "#region fig.add_trace(go.Scattermap(\n",
    "#     lat=[5],\n",
    "#     lon=[5],\n",
    "#     mode='markers+text',\n",
    "#     marker=dict(size=1000, color='rgba(0,0,0,0)'),  # invisible marker\n",
    "#     text=['Restricted Area A'],\n",
    "#     textposition='middle center',\n",
    "#     textfont=dict(size=1000, color='black', family='Arial'),\n",
    "#     showlegend=True\n",
    "# ))\n",
    "#endregion\n",
    "#endregion\n",
    "\n",
    "#endregion\n",
    "\n",
    "########## ------------------------------- ##########\n",
    "\n",
    "#region Waypoints\n",
    "for waypoint_name, waypoint_coordinates in waypoints_all.items():\n",
    "    waypoint_lat, waypoint_lon = parse_coordinates([waypoint_coordinates])\n",
    "    fig.add_trace(go.Scattermap(\n",
    "        lat=waypoint_lat,\n",
    "        lon=waypoint_lon,\n",
    "        mode='markers+text',\n",
    "        marker=dict(size=5, color='royalblue'),\n",
    "        # text=[waypoint_name],\n",
    "        textposition='top right',\n",
    "        name=waypoint_name,\n",
    "        legendgroup=\"Waypoints\",\n",
    "        legendgrouptitle_text=\"Waypoints\",\n",
    "        showlegend=False\n",
    "    ))\n",
    "#endregion\n",
    "\n",
    "########## ------------------------------- ##########\n",
    "\n",
    "#region STARs\n",
    "for star_name, star_waypoints in STARs.items():\n",
    "    route = []\n",
    "    for waypoints in star_waypoints:\n",
    "        wpt_coordinates = (STAR_SID_waypoints[waypoints])\n",
    "        route.append(wpt_coordinates)\n",
    "    star_lat, star_lon = parse_coordinates(route)\n",
    "    fig.add_trace(go.Scattermap(\n",
    "        lat=star_lat,\n",
    "        lon=star_lon,\n",
    "        mode='lines+markers',\n",
    "        line=dict(color='salmon', width=1),\n",
    "        hovertext=star_waypoints,\n",
    "        name=f'{star_name} : {STARs_rwy[star_name]}',\n",
    "        # legendgroup=\"STAR\",\n",
    "        legendgrouptitle_text=\"STAR\",\n",
    "        legendgrouptitle_font=dict(color='salmon'),\n",
    "        showlegend=True\n",
    "    ))\n",
    "#endregion\n",
    "\n",
    "########## ------------------------------- ##########\n",
    "\n",
    "#region SIDs\n",
    "for sid_name, sid_waypoints in SIDs.items():\n",
    "    route = []\n",
    "    for waypoints in sid_waypoints:\n",
    "        wpt_coordinates = (STAR_SID_waypoints[waypoints])\n",
    "        route.append(wpt_coordinates)\n",
    "    sid_lat, sid_lon = parse_coordinates(route)\n",
    "    fig.add_trace(go.Scattermap(\n",
    "        lat=sid_lat,\n",
    "        lon=sid_lon,\n",
    "        mode='lines+markers',\n",
    "        line=dict(color='mediumseagreen', width=1),\n",
    "        hovertext=sid_waypoints,\n",
    "        name=f'{sid_name} : {SIDs_rwy[sid_name]}',\n",
    "        # legendgroup=\"SID\",\n",
    "        legendgrouptitle_text=\"SID\",\n",
    "        legendgrouptitle_font=dict(color='mediumseagreen'),\n",
    "        showlegend=True\n",
    "    ))\n",
    "#endregion\n",
    "\n",
    "########## ------------------------------- ##########\n",
    "\n",
    "#region Figure layout\n",
    "fig.update_layout(\n",
    "    map=dict(\n",
    "        style='carto-positron',     # 'white-bg' 'stamen-watercolor'\n",
    "        center=dict(lat=WSSS_lat+3, lon=WSSS_lon+3),\n",
    "        zoom=5.5\n",
    "    ),\n",
    "    width=1600,\n",
    "    height=1080,\n",
    "    margin={\"r\": 0, \"t\": 0, \"l\": 0, \"b\": 0},\n",
    "    legend=dict(\n",
    "        title='Legend',\n",
    "        x=1.0,\n",
    "        y=0.99,\n",
    "        bgcolor='white',\n",
    "        bordercolor='black',\n",
    "        borderwidth=0,\n",
    "        \n",
    "    ))\n",
    "# Map Title\n",
    "\n",
    "# fig.update_layout(\n",
    "#     title=dict(\n",
    "#         text=f'version: {version}',\n",
    "#         x=0.02,\n",
    "#         y=0.01,\n",
    "#         xanchor='center',\n",
    "#         font=dict(size=10, color='black', family=\"Raleway\"),\n",
    "#     )\n",
    "# )\n",
    "\n",
    "fig.add_trace(go.Scattermap(                # Add version info in legend\n",
    "    lat=[None],  # No actual point\n",
    "    lon=[None],\n",
    "    mode='lines',\n",
    "    line=dict(color='black', width=2),\n",
    "    name=f'🗺️ map version: {version}',\n",
    "    showlegend=True,\n",
    "    hoverinfo='skip',\n",
    "    legendgroup='meta'\n",
    "))\n",
    "# fig.update_layout(legend=dict(groupclick='toggleitem'))\n",
    "#endregion\n",
    "fig.show()\n"
   ]
  },
  {
   "cell_type": "code",
   "execution_count": 29,
   "metadata": {},
   "outputs": [],
   "source": [
    "runway_procedures = {\n",
    "    \"RWY 02L\": {\n",
    "        \"STARs\":[\"ARAMA1A\", \"ASUNA2A\", \"ELALO1A\", \"KARTO2A\", \"LEBAR2A\", \"MABAL2A\", \"REPOV2A\", \"TEBUN1A\", \"UGEBO1A\"],\n",
    "        \"SIDs\": [\"ANITO7E\", \"AROSO3E\", \"DODSO1E\", \"IDBUD1E\", \"KIRDA1E\", \"MASBO3E\", \"VMR6E\", \"MIBEL1E\", \"TAROS1E\", \"TOMAN3E\"]\n",
    "    },\n",
    "    \"RWY 02C\": {\n",
    "        \"STARs\":[\"ARAMA1A\", \"ASUNA2A\", \"ELALO1A\", \"KARTO2A\", \"LEBAR2A\", \"MABAL2A\", \"REPOV2A\", \"TEBUN1A\", \"UGEBO1A\"],\n",
    "        \"SIDs\": [\"ANITO7A\", \"AROSO3A\", \"DODSO1A\", \"IDBUD1A\", \"KIRDA1A\", \"MASBO3A\", \"VMR6A\", \"MIBEL1A\", \"TAROS1A\", \"TOMAN3A\"]\n",
    "    },\n",
    "    \"RWY 02R\": {\n",
    "        \"STARs\":[\"ARAMA1A\", \"ASUNA2A\", \"ELALO1A\", \"KARTO2A\", \"LEBAR2A\", \"MABAL2A\", \"REPOV2A\", \"TEBUN1A\", \"UGEBO1A\"],\n",
    "        \"SIDs\": [\"ANITO1C\", \"AROSO1C\", \"DODSO1C\", \"IDBUD1C\", \"KIRDA1C\", \"MASBO1C\", \"VMR1C\", \"MIBEL1C\", \"TAROS1C\", \"TOMAN1C\"]\n",
    "    },\n",
    "    \"RWY 20R\": {\n",
    "        \"STARs\":[\"ARAMA1B\", \"ASUNA2B\", \"ELALO1B\", \"KARTO2B\", \"LEBAR3B\", \"MABAL2B\", \"REPOV2B\", \"TEBUN1B\", \"UGEBO1B\"],\n",
    "        \"SIDs\": [\"ANITO8F\", \"AROSO5F\", \"DODSO1F\", \"IDBUD1F\", \"KIRDA1F\", \"MASBO5F\", \"VMR9F\", \"MIBEL1F\", \"TAROS1F\", \"TOMAN5F\", 'VOVOS1F']\n",
    "    },\n",
    "    \"RWY 20C\": {\n",
    "        \"STARs\":[\"ARAMA1B\", \"ASUNA2B\", \"ELALO1B\", \"KARTO2B\", \"LEBAR3B\", \"MABAL2B\", \"REPOV2B\", \"TEBUN1B\", \"UGEBO1B\"],\n",
    "        \"SIDs\": [\"ANITO8B\", \"AROSO5B\", \"DODSO1B\", \"IDBUD1B\", \"KIRDA1B\", \"MASBO5B\", \"VMR9B\", \"MIBEL1B\", \"TAROS1B\", \"TOMAN5B\", \"VOVOS1B\"]\n",
    "    },\n",
    "    \"RWY 20L\": {\n",
    "        \"STARs\":[\"ARAMA1B\", \"ASUNA2B\", \"ELALO1B\", \"KARTO2B\", \"LEBAR3B\", \"MABAL2B\", \"REPOV2B\", \"TEBUN1B\", \"UGEBO1B\"],\n",
    "        \"SIDs\": [\"ANITO1D\", \"AROSO1D\", \"DODSO1D\", \"IDBUD1D\", \"KIRDA1D\", \"MASBO1D\", \"VMR1D\", \"MIBEL1D\", \"TAROS1D\", \"TOMAN1D\", \"VOVOS1D\"]\n",
    "    },\n",
    "}"
   ]
  },
  {
   "cell_type": "code",
   "execution_count": null,
   "metadata": {},
   "outputs": [],
   "source": [
    "# fig.write_html(\n",
    "#     \"sg-airnav-map.html\",\n",
    "#     include_plotlyjs='cdn',  # use CDN to reduce file size\n",
    "#     full_html=True,          # wrap with full HTML boilerplate\n",
    "#     auto_open=True           # open in browser immediately\n",
    "# )"
   ]
  }
 ],
 "metadata": {
  "kernelspec": {
   "display_name": "ATMRI",
   "language": "python",
   "name": "python3"
  },
  "language_info": {
   "codemirror_mode": {
    "name": "ipython",
    "version": 3
   },
   "file_extension": ".py",
   "mimetype": "text/x-python",
   "name": "python",
   "nbconvert_exporter": "python",
   "pygments_lexer": "ipython3",
   "version": "3.10.16"
  }
 },
 "nbformat": 4,
 "nbformat_minor": 2
}
